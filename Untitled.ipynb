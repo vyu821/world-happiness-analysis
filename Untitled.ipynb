{
 "cells": [
  {
   "cell_type": "code",
   "execution_count": 38,
   "metadata": {},
   "outputs": [],
   "source": [
    "import pandas as pd\n",
    "import matplotlib.pyplot as plt\n",
    "import plotly.express as px"
   ]
  },
  {
   "cell_type": "code",
   "execution_count": 39,
   "metadata": {},
   "outputs": [],
   "source": [
    "df_2015 = pd.read_csv('data_source/2015.csv')\n",
    "df_2016 = pd.read_csv('data_source/2016.csv')\n",
    "df_2017 = pd.read_csv('data_source/2017.csv')\n",
    "df_2018 = pd.read_csv('data_source/2018.csv')\n",
    "df_2019 = pd.read_csv('data_source/2019.csv')"
   ]
  },
  {
   "cell_type": "code",
   "execution_count": 40,
   "metadata": {},
   "outputs": [
    {
     "data": {
      "text/html": [
       "<div>\n",
       "<style scoped>\n",
       "    .dataframe tbody tr th:only-of-type {\n",
       "        vertical-align: middle;\n",
       "    }\n",
       "\n",
       "    .dataframe tbody tr th {\n",
       "        vertical-align: top;\n",
       "    }\n",
       "\n",
       "    .dataframe thead th {\n",
       "        text-align: right;\n",
       "    }\n",
       "</style>\n",
       "<table border=\"1\" class=\"dataframe\">\n",
       "  <thead>\n",
       "    <tr style=\"text-align: right;\">\n",
       "      <th></th>\n",
       "      <th>Country</th>\n",
       "      <th>Score</th>\n",
       "      <th>Economy</th>\n",
       "      <th>Social_Support</th>\n",
       "      <th>Life_Expectancy</th>\n",
       "      <th>Freedom</th>\n",
       "      <th>Perceptions_of_Corruption</th>\n",
       "      <th>Generosity</th>\n",
       "    </tr>\n",
       "  </thead>\n",
       "  <tbody>\n",
       "    <tr>\n",
       "      <th>0</th>\n",
       "      <td>Switzerland</td>\n",
       "      <td>7.587</td>\n",
       "      <td>1.39651</td>\n",
       "      <td>1.34951</td>\n",
       "      <td>0.94143</td>\n",
       "      <td>0.66557</td>\n",
       "      <td>0.41978</td>\n",
       "      <td>0.29678</td>\n",
       "    </tr>\n",
       "    <tr>\n",
       "      <th>1</th>\n",
       "      <td>Iceland</td>\n",
       "      <td>7.561</td>\n",
       "      <td>1.30232</td>\n",
       "      <td>1.40223</td>\n",
       "      <td>0.94784</td>\n",
       "      <td>0.62877</td>\n",
       "      <td>0.14145</td>\n",
       "      <td>0.43630</td>\n",
       "    </tr>\n",
       "    <tr>\n",
       "      <th>2</th>\n",
       "      <td>Denmark</td>\n",
       "      <td>7.527</td>\n",
       "      <td>1.32548</td>\n",
       "      <td>1.36058</td>\n",
       "      <td>0.87464</td>\n",
       "      <td>0.64938</td>\n",
       "      <td>0.48357</td>\n",
       "      <td>0.34139</td>\n",
       "    </tr>\n",
       "    <tr>\n",
       "      <th>3</th>\n",
       "      <td>Norway</td>\n",
       "      <td>7.522</td>\n",
       "      <td>1.45900</td>\n",
       "      <td>1.33095</td>\n",
       "      <td>0.88521</td>\n",
       "      <td>0.66973</td>\n",
       "      <td>0.36503</td>\n",
       "      <td>0.34699</td>\n",
       "    </tr>\n",
       "    <tr>\n",
       "      <th>4</th>\n",
       "      <td>Canada</td>\n",
       "      <td>7.427</td>\n",
       "      <td>1.32629</td>\n",
       "      <td>1.32261</td>\n",
       "      <td>0.90563</td>\n",
       "      <td>0.63297</td>\n",
       "      <td>0.32957</td>\n",
       "      <td>0.45811</td>\n",
       "    </tr>\n",
       "  </tbody>\n",
       "</table>\n",
       "</div>"
      ],
      "text/plain": [
       "       Country  Score  Economy  Social_Support  Life_Expectancy  Freedom  \\\n",
       "0  Switzerland  7.587  1.39651         1.34951          0.94143  0.66557   \n",
       "1      Iceland  7.561  1.30232         1.40223          0.94784  0.62877   \n",
       "2      Denmark  7.527  1.32548         1.36058          0.87464  0.64938   \n",
       "3       Norway  7.522  1.45900         1.33095          0.88521  0.66973   \n",
       "4       Canada  7.427  1.32629         1.32261          0.90563  0.63297   \n",
       "\n",
       "   Perceptions_of_Corruption  Generosity  \n",
       "0                    0.41978     0.29678  \n",
       "1                    0.14145     0.43630  \n",
       "2                    0.48357     0.34139  \n",
       "3                    0.36503     0.34699  \n",
       "4                    0.32957     0.45811  "
      ]
     },
     "execution_count": 40,
     "metadata": {},
     "output_type": "execute_result"
    }
   ],
   "source": [
    "df_2015 = df_2015.drop(columns = ['Region', 'Happiness Rank', 'Standard Error', 'Dystopia Residual'])\n",
    "df_2015.columns = ['Country', 'Score', 'Economy', 'Social_Support', 'Life_Expectancy', 'Freedom', 'Perceptions_of_Corruption', 'Generosity']\n",
    "df_2015.head()"
   ]
  },
  {
   "cell_type": "code",
   "execution_count": 41,
   "metadata": {},
   "outputs": [
    {
     "data": {
      "text/html": [
       "<div>\n",
       "<style scoped>\n",
       "    .dataframe tbody tr th:only-of-type {\n",
       "        vertical-align: middle;\n",
       "    }\n",
       "\n",
       "    .dataframe tbody tr th {\n",
       "        vertical-align: top;\n",
       "    }\n",
       "\n",
       "    .dataframe thead th {\n",
       "        text-align: right;\n",
       "    }\n",
       "</style>\n",
       "<table border=\"1\" class=\"dataframe\">\n",
       "  <thead>\n",
       "    <tr style=\"text-align: right;\">\n",
       "      <th></th>\n",
       "      <th>Country</th>\n",
       "      <th>Score</th>\n",
       "      <th>Economy</th>\n",
       "      <th>Social_Support</th>\n",
       "      <th>Life_Expectancy</th>\n",
       "      <th>Freedom</th>\n",
       "      <th>Perceptions_of_Corruption</th>\n",
       "      <th>Generosity</th>\n",
       "    </tr>\n",
       "  </thead>\n",
       "  <tbody>\n",
       "    <tr>\n",
       "      <th>0</th>\n",
       "      <td>Denmark</td>\n",
       "      <td>7.526</td>\n",
       "      <td>1.44178</td>\n",
       "      <td>1.16374</td>\n",
       "      <td>0.79504</td>\n",
       "      <td>0.57941</td>\n",
       "      <td>0.44453</td>\n",
       "      <td>0.36171</td>\n",
       "    </tr>\n",
       "    <tr>\n",
       "      <th>1</th>\n",
       "      <td>Switzerland</td>\n",
       "      <td>7.509</td>\n",
       "      <td>1.52733</td>\n",
       "      <td>1.14524</td>\n",
       "      <td>0.86303</td>\n",
       "      <td>0.58557</td>\n",
       "      <td>0.41203</td>\n",
       "      <td>0.28083</td>\n",
       "    </tr>\n",
       "    <tr>\n",
       "      <th>2</th>\n",
       "      <td>Iceland</td>\n",
       "      <td>7.501</td>\n",
       "      <td>1.42666</td>\n",
       "      <td>1.18326</td>\n",
       "      <td>0.86733</td>\n",
       "      <td>0.56624</td>\n",
       "      <td>0.14975</td>\n",
       "      <td>0.47678</td>\n",
       "    </tr>\n",
       "    <tr>\n",
       "      <th>3</th>\n",
       "      <td>Norway</td>\n",
       "      <td>7.498</td>\n",
       "      <td>1.57744</td>\n",
       "      <td>1.12690</td>\n",
       "      <td>0.79579</td>\n",
       "      <td>0.59609</td>\n",
       "      <td>0.35776</td>\n",
       "      <td>0.37895</td>\n",
       "    </tr>\n",
       "    <tr>\n",
       "      <th>4</th>\n",
       "      <td>Finland</td>\n",
       "      <td>7.413</td>\n",
       "      <td>1.40598</td>\n",
       "      <td>1.13464</td>\n",
       "      <td>0.81091</td>\n",
       "      <td>0.57104</td>\n",
       "      <td>0.41004</td>\n",
       "      <td>0.25492</td>\n",
       "    </tr>\n",
       "  </tbody>\n",
       "</table>\n",
       "</div>"
      ],
      "text/plain": [
       "       Country  Score  Economy  Social_Support  Life_Expectancy  Freedom  \\\n",
       "0      Denmark  7.526  1.44178         1.16374          0.79504  0.57941   \n",
       "1  Switzerland  7.509  1.52733         1.14524          0.86303  0.58557   \n",
       "2      Iceland  7.501  1.42666         1.18326          0.86733  0.56624   \n",
       "3       Norway  7.498  1.57744         1.12690          0.79579  0.59609   \n",
       "4      Finland  7.413  1.40598         1.13464          0.81091  0.57104   \n",
       "\n",
       "   Perceptions_of_Corruption  Generosity  \n",
       "0                    0.44453     0.36171  \n",
       "1                    0.41203     0.28083  \n",
       "2                    0.14975     0.47678  \n",
       "3                    0.35776     0.37895  \n",
       "4                    0.41004     0.25492  "
      ]
     },
     "execution_count": 41,
     "metadata": {},
     "output_type": "execute_result"
    }
   ],
   "source": [
    "df_2016 = df_2016.drop(columns = ['Region', 'Happiness Rank', 'Lower Confidence Interval', 'Upper Confidence Interval', 'Dystopia Residual'])\n",
    "df_2016.columns = ['Country', 'Score', 'Economy', 'Social_Support', 'Life_Expectancy', 'Freedom', 'Perceptions_of_Corruption', 'Generosity']\n",
    "df_2016.head()"
   ]
  },
  {
   "cell_type": "code",
   "execution_count": 42,
   "metadata": {},
   "outputs": [
    {
     "data": {
      "text/html": [
       "<div>\n",
       "<style scoped>\n",
       "    .dataframe tbody tr th:only-of-type {\n",
       "        vertical-align: middle;\n",
       "    }\n",
       "\n",
       "    .dataframe tbody tr th {\n",
       "        vertical-align: top;\n",
       "    }\n",
       "\n",
       "    .dataframe thead th {\n",
       "        text-align: right;\n",
       "    }\n",
       "</style>\n",
       "<table border=\"1\" class=\"dataframe\">\n",
       "  <thead>\n",
       "    <tr style=\"text-align: right;\">\n",
       "      <th></th>\n",
       "      <th>Country</th>\n",
       "      <th>Score</th>\n",
       "      <th>Economy</th>\n",
       "      <th>Social_Support</th>\n",
       "      <th>Life_Expectancy</th>\n",
       "      <th>Freedom</th>\n",
       "      <th>Perceptions_of_Corruption</th>\n",
       "      <th>Generosity</th>\n",
       "    </tr>\n",
       "  </thead>\n",
       "  <tbody>\n",
       "    <tr>\n",
       "      <th>0</th>\n",
       "      <td>Norway</td>\n",
       "      <td>7.537</td>\n",
       "      <td>1.616463</td>\n",
       "      <td>1.533524</td>\n",
       "      <td>0.796667</td>\n",
       "      <td>0.635423</td>\n",
       "      <td>0.315964</td>\n",
       "      <td>0.362012</td>\n",
       "    </tr>\n",
       "    <tr>\n",
       "      <th>1</th>\n",
       "      <td>Denmark</td>\n",
       "      <td>7.522</td>\n",
       "      <td>1.482383</td>\n",
       "      <td>1.551122</td>\n",
       "      <td>0.792566</td>\n",
       "      <td>0.626007</td>\n",
       "      <td>0.400770</td>\n",
       "      <td>0.355280</td>\n",
       "    </tr>\n",
       "    <tr>\n",
       "      <th>2</th>\n",
       "      <td>Iceland</td>\n",
       "      <td>7.504</td>\n",
       "      <td>1.480633</td>\n",
       "      <td>1.610574</td>\n",
       "      <td>0.833552</td>\n",
       "      <td>0.627163</td>\n",
       "      <td>0.153527</td>\n",
       "      <td>0.475540</td>\n",
       "    </tr>\n",
       "    <tr>\n",
       "      <th>3</th>\n",
       "      <td>Switzerland</td>\n",
       "      <td>7.494</td>\n",
       "      <td>1.564980</td>\n",
       "      <td>1.516912</td>\n",
       "      <td>0.858131</td>\n",
       "      <td>0.620071</td>\n",
       "      <td>0.367007</td>\n",
       "      <td>0.290549</td>\n",
       "    </tr>\n",
       "    <tr>\n",
       "      <th>4</th>\n",
       "      <td>Finland</td>\n",
       "      <td>7.469</td>\n",
       "      <td>1.443572</td>\n",
       "      <td>1.540247</td>\n",
       "      <td>0.809158</td>\n",
       "      <td>0.617951</td>\n",
       "      <td>0.382612</td>\n",
       "      <td>0.245483</td>\n",
       "    </tr>\n",
       "  </tbody>\n",
       "</table>\n",
       "</div>"
      ],
      "text/plain": [
       "       Country  Score   Economy  Social_Support  Life_Expectancy   Freedom  \\\n",
       "0       Norway  7.537  1.616463        1.533524         0.796667  0.635423   \n",
       "1      Denmark  7.522  1.482383        1.551122         0.792566  0.626007   \n",
       "2      Iceland  7.504  1.480633        1.610574         0.833552  0.627163   \n",
       "3  Switzerland  7.494  1.564980        1.516912         0.858131  0.620071   \n",
       "4      Finland  7.469  1.443572        1.540247         0.809158  0.617951   \n",
       "\n",
       "   Perceptions_of_Corruption  Generosity  \n",
       "0                   0.315964    0.362012  \n",
       "1                   0.400770    0.355280  \n",
       "2                   0.153527    0.475540  \n",
       "3                   0.367007    0.290549  \n",
       "4                   0.382612    0.245483  "
      ]
     },
     "execution_count": 42,
     "metadata": {},
     "output_type": "execute_result"
    }
   ],
   "source": [
    "df_2017 = df_2017.drop(columns = ['Happiness.Rank', 'Whisker.high', 'Whisker.low', 'Dystopia.Residual'])\n",
    "df_2017.columns = ['Country', 'Score', 'Economy', 'Social_Support', 'Life_Expectancy', 'Freedom', 'Generosity', 'Perceptions_of_Corruption']\n",
    "df_2017 = df_2017.reindex(columns = ['Country', 'Score', 'Economy', 'Social_Support', 'Life_Expectancy', 'Freedom', 'Perceptions_of_Corruption', 'Generosity'])\n",
    "df_2017.head()"
   ]
  },
  {
   "cell_type": "code",
   "execution_count": 43,
   "metadata": {},
   "outputs": [
    {
     "data": {
      "text/html": [
       "<div>\n",
       "<style scoped>\n",
       "    .dataframe tbody tr th:only-of-type {\n",
       "        vertical-align: middle;\n",
       "    }\n",
       "\n",
       "    .dataframe tbody tr th {\n",
       "        vertical-align: top;\n",
       "    }\n",
       "\n",
       "    .dataframe thead th {\n",
       "        text-align: right;\n",
       "    }\n",
       "</style>\n",
       "<table border=\"1\" class=\"dataframe\">\n",
       "  <thead>\n",
       "    <tr style=\"text-align: right;\">\n",
       "      <th></th>\n",
       "      <th>Country</th>\n",
       "      <th>Score</th>\n",
       "      <th>Economy</th>\n",
       "      <th>Social_Support</th>\n",
       "      <th>Life_Expectancy</th>\n",
       "      <th>Freedom</th>\n",
       "      <th>Perceptions_of_Corruption</th>\n",
       "      <th>Generosity</th>\n",
       "    </tr>\n",
       "  </thead>\n",
       "  <tbody>\n",
       "    <tr>\n",
       "      <th>0</th>\n",
       "      <td>Finland</td>\n",
       "      <td>7.632</td>\n",
       "      <td>1.305</td>\n",
       "      <td>1.592</td>\n",
       "      <td>0.874</td>\n",
       "      <td>0.681</td>\n",
       "      <td>0.393</td>\n",
       "      <td>0.202</td>\n",
       "    </tr>\n",
       "    <tr>\n",
       "      <th>1</th>\n",
       "      <td>Norway</td>\n",
       "      <td>7.594</td>\n",
       "      <td>1.456</td>\n",
       "      <td>1.582</td>\n",
       "      <td>0.861</td>\n",
       "      <td>0.686</td>\n",
       "      <td>0.340</td>\n",
       "      <td>0.286</td>\n",
       "    </tr>\n",
       "    <tr>\n",
       "      <th>2</th>\n",
       "      <td>Denmark</td>\n",
       "      <td>7.555</td>\n",
       "      <td>1.351</td>\n",
       "      <td>1.590</td>\n",
       "      <td>0.868</td>\n",
       "      <td>0.683</td>\n",
       "      <td>0.408</td>\n",
       "      <td>0.284</td>\n",
       "    </tr>\n",
       "    <tr>\n",
       "      <th>3</th>\n",
       "      <td>Iceland</td>\n",
       "      <td>7.495</td>\n",
       "      <td>1.343</td>\n",
       "      <td>1.644</td>\n",
       "      <td>0.914</td>\n",
       "      <td>0.677</td>\n",
       "      <td>0.138</td>\n",
       "      <td>0.353</td>\n",
       "    </tr>\n",
       "    <tr>\n",
       "      <th>4</th>\n",
       "      <td>Switzerland</td>\n",
       "      <td>7.487</td>\n",
       "      <td>1.420</td>\n",
       "      <td>1.549</td>\n",
       "      <td>0.927</td>\n",
       "      <td>0.660</td>\n",
       "      <td>0.357</td>\n",
       "      <td>0.256</td>\n",
       "    </tr>\n",
       "  </tbody>\n",
       "</table>\n",
       "</div>"
      ],
      "text/plain": [
       "       Country  Score  Economy  Social_Support  Life_Expectancy  Freedom  \\\n",
       "0      Finland  7.632    1.305           1.592            0.874    0.681   \n",
       "1       Norway  7.594    1.456           1.582            0.861    0.686   \n",
       "2      Denmark  7.555    1.351           1.590            0.868    0.683   \n",
       "3      Iceland  7.495    1.343           1.644            0.914    0.677   \n",
       "4  Switzerland  7.487    1.420           1.549            0.927    0.660   \n",
       "\n",
       "   Perceptions_of_Corruption  Generosity  \n",
       "0                      0.393       0.202  \n",
       "1                      0.340       0.286  \n",
       "2                      0.408       0.284  \n",
       "3                      0.138       0.353  \n",
       "4                      0.357       0.256  "
      ]
     },
     "execution_count": 43,
     "metadata": {},
     "output_type": "execute_result"
    }
   ],
   "source": [
    "df_2018 = df_2018.drop(columns = ['Overall rank'])\n",
    "df_2018.columns = ['Country', 'Score', 'Economy', 'Social_Support', 'Life_Expectancy', 'Freedom', 'Generosity', 'Perceptions_of_Corruption']\n",
    "df_2018 = df_2018.reindex(columns = ['Country', 'Score', 'Economy', 'Social_Support', 'Life_Expectancy', 'Freedom', 'Perceptions_of_Corruption', 'Generosity'])   \n",
    "df_2018.head()"
   ]
  },
  {
   "cell_type": "code",
   "execution_count": 44,
   "metadata": {},
   "outputs": [
    {
     "data": {
      "text/html": [
       "<div>\n",
       "<style scoped>\n",
       "    .dataframe tbody tr th:only-of-type {\n",
       "        vertical-align: middle;\n",
       "    }\n",
       "\n",
       "    .dataframe tbody tr th {\n",
       "        vertical-align: top;\n",
       "    }\n",
       "\n",
       "    .dataframe thead th {\n",
       "        text-align: right;\n",
       "    }\n",
       "</style>\n",
       "<table border=\"1\" class=\"dataframe\">\n",
       "  <thead>\n",
       "    <tr style=\"text-align: right;\">\n",
       "      <th></th>\n",
       "      <th>Country</th>\n",
       "      <th>Score</th>\n",
       "      <th>Economy</th>\n",
       "      <th>Social_Support</th>\n",
       "      <th>Life_Expectancy</th>\n",
       "      <th>Freedom</th>\n",
       "      <th>Perceptions_of_Corruption</th>\n",
       "      <th>Generosity</th>\n",
       "    </tr>\n",
       "  </thead>\n",
       "  <tbody>\n",
       "    <tr>\n",
       "      <th>0</th>\n",
       "      <td>Finland</td>\n",
       "      <td>7.769</td>\n",
       "      <td>1.340</td>\n",
       "      <td>1.587</td>\n",
       "      <td>0.986</td>\n",
       "      <td>0.596</td>\n",
       "      <td>0.393</td>\n",
       "      <td>0.153</td>\n",
       "    </tr>\n",
       "    <tr>\n",
       "      <th>1</th>\n",
       "      <td>Denmark</td>\n",
       "      <td>7.600</td>\n",
       "      <td>1.383</td>\n",
       "      <td>1.573</td>\n",
       "      <td>0.996</td>\n",
       "      <td>0.592</td>\n",
       "      <td>0.410</td>\n",
       "      <td>0.252</td>\n",
       "    </tr>\n",
       "    <tr>\n",
       "      <th>2</th>\n",
       "      <td>Norway</td>\n",
       "      <td>7.554</td>\n",
       "      <td>1.488</td>\n",
       "      <td>1.582</td>\n",
       "      <td>1.028</td>\n",
       "      <td>0.603</td>\n",
       "      <td>0.341</td>\n",
       "      <td>0.271</td>\n",
       "    </tr>\n",
       "    <tr>\n",
       "      <th>3</th>\n",
       "      <td>Iceland</td>\n",
       "      <td>7.494</td>\n",
       "      <td>1.380</td>\n",
       "      <td>1.624</td>\n",
       "      <td>1.026</td>\n",
       "      <td>0.591</td>\n",
       "      <td>0.118</td>\n",
       "      <td>0.354</td>\n",
       "    </tr>\n",
       "    <tr>\n",
       "      <th>4</th>\n",
       "      <td>Netherlands</td>\n",
       "      <td>7.488</td>\n",
       "      <td>1.396</td>\n",
       "      <td>1.522</td>\n",
       "      <td>0.999</td>\n",
       "      <td>0.557</td>\n",
       "      <td>0.298</td>\n",
       "      <td>0.322</td>\n",
       "    </tr>\n",
       "  </tbody>\n",
       "</table>\n",
       "</div>"
      ],
      "text/plain": [
       "       Country  Score  Economy  Social_Support  Life_Expectancy  Freedom  \\\n",
       "0      Finland  7.769    1.340           1.587            0.986    0.596   \n",
       "1      Denmark  7.600    1.383           1.573            0.996    0.592   \n",
       "2       Norway  7.554    1.488           1.582            1.028    0.603   \n",
       "3      Iceland  7.494    1.380           1.624            1.026    0.591   \n",
       "4  Netherlands  7.488    1.396           1.522            0.999    0.557   \n",
       "\n",
       "   Perceptions_of_Corruption  Generosity  \n",
       "0                      0.393       0.153  \n",
       "1                      0.410       0.252  \n",
       "2                      0.341       0.271  \n",
       "3                      0.118       0.354  \n",
       "4                      0.298       0.322  "
      ]
     },
     "execution_count": 44,
     "metadata": {},
     "output_type": "execute_result"
    }
   ],
   "source": [
    "df_2019 = df_2019.drop(columns = ['Overall rank'])\n",
    "df_2019.columns = ['Country', 'Score', 'Economy', 'Social_Support', 'Life_Expectancy', 'Freedom', 'Generosity', 'Perceptions_of_Corruption']\n",
    "df_2019 = df_2019.reindex(columns = ['Country', 'Score', 'Economy', 'Social_Support', 'Life_Expectancy', 'Freedom', 'Perceptions_of_Corruption', 'Generosity'])\n",
    "df_2019.head()"
   ]
  },
  {
   "cell_type": "code",
   "execution_count": 45,
   "metadata": {},
   "outputs": [
    {
     "data": {
      "application/vnd.plotly.v1+json": {
       "config": {
        "plotlyServerURL": "https://plot.ly"
       },
       "data": [
        {
         "alignmentgroup": "True",
         "customdata": [
          [
           "Afghanistan"
          ],
          [
           "Afghanistan"
          ],
          [
           "Afghanistan"
          ],
          [
           "Afghanistan"
          ],
          [
           "Afghanistan"
          ],
          [
           "Afghanistan"
          ],
          [
           "Afghanistan"
          ],
          [
           "Afghanistan"
          ],
          [
           "Afghanistan"
          ],
          [
           "Afghanistan"
          ],
          [
           "Afghanistan"
          ],
          [
           "Afghanistan"
          ],
          [
           "Bahrain"
          ],
          [
           "Bahrain"
          ],
          [
           "Bahrain"
          ],
          [
           "Bahrain"
          ],
          [
           "Bahrain"
          ],
          [
           "Bahrain"
          ],
          [
           "Bahrain"
          ],
          [
           "Bahrain"
          ],
          [
           "Bahrain"
          ],
          [
           "Bahrain"
          ],
          [
           "Bahrain"
          ],
          [
           "Bahrain"
          ],
          [
           "Bangladesh"
          ],
          [
           "Bangladesh"
          ],
          [
           "Bangladesh"
          ],
          [
           "Bangladesh"
          ],
          [
           "Bangladesh"
          ],
          [
           "Bangladesh"
          ],
          [
           "Bangladesh"
          ],
          [
           "Bangladesh"
          ],
          [
           "Bangladesh"
          ],
          [
           "Bangladesh"
          ],
          [
           "Bangladesh"
          ],
          [
           "Bangladesh"
          ],
          [
           "Cambodia"
          ],
          [
           "Cambodia"
          ],
          [
           "Cambodia"
          ],
          [
           "Cambodia"
          ],
          [
           "Cambodia"
          ],
          [
           "Cambodia"
          ],
          [
           "Cambodia"
          ],
          [
           "Cambodia"
          ],
          [
           "Cambodia"
          ],
          [
           "Cambodia"
          ],
          [
           "Cambodia"
          ],
          [
           "Cambodia"
          ],
          [
           "China"
          ],
          [
           "China"
          ],
          [
           "China"
          ],
          [
           "China"
          ],
          [
           "China"
          ],
          [
           "China"
          ],
          [
           "China"
          ],
          [
           "China"
          ],
          [
           "China"
          ],
          [
           "China"
          ],
          [
           "China"
          ],
          [
           "China"
          ],
          [
           "Hong Kong, China"
          ],
          [
           "Hong Kong, China"
          ],
          [
           "Hong Kong, China"
          ],
          [
           "Hong Kong, China"
          ],
          [
           "Hong Kong, China"
          ],
          [
           "Hong Kong, China"
          ],
          [
           "Hong Kong, China"
          ],
          [
           "Hong Kong, China"
          ],
          [
           "Hong Kong, China"
          ],
          [
           "Hong Kong, China"
          ],
          [
           "Hong Kong, China"
          ],
          [
           "Hong Kong, China"
          ],
          [
           "India"
          ],
          [
           "India"
          ],
          [
           "India"
          ],
          [
           "India"
          ],
          [
           "India"
          ],
          [
           "India"
          ],
          [
           "India"
          ],
          [
           "India"
          ],
          [
           "India"
          ],
          [
           "India"
          ],
          [
           "India"
          ],
          [
           "India"
          ],
          [
           "Indonesia"
          ],
          [
           "Indonesia"
          ],
          [
           "Indonesia"
          ],
          [
           "Indonesia"
          ],
          [
           "Indonesia"
          ],
          [
           "Indonesia"
          ],
          [
           "Indonesia"
          ],
          [
           "Indonesia"
          ],
          [
           "Indonesia"
          ],
          [
           "Indonesia"
          ],
          [
           "Indonesia"
          ],
          [
           "Indonesia"
          ],
          [
           "Iran"
          ],
          [
           "Iran"
          ],
          [
           "Iran"
          ],
          [
           "Iran"
          ],
          [
           "Iran"
          ],
          [
           "Iran"
          ],
          [
           "Iran"
          ],
          [
           "Iran"
          ],
          [
           "Iran"
          ],
          [
           "Iran"
          ],
          [
           "Iran"
          ],
          [
           "Iran"
          ],
          [
           "Iraq"
          ],
          [
           "Iraq"
          ],
          [
           "Iraq"
          ],
          [
           "Iraq"
          ],
          [
           "Iraq"
          ],
          [
           "Iraq"
          ],
          [
           "Iraq"
          ],
          [
           "Iraq"
          ],
          [
           "Iraq"
          ],
          [
           "Iraq"
          ],
          [
           "Iraq"
          ],
          [
           "Iraq"
          ],
          [
           "Israel"
          ],
          [
           "Israel"
          ],
          [
           "Israel"
          ],
          [
           "Israel"
          ],
          [
           "Israel"
          ],
          [
           "Israel"
          ],
          [
           "Israel"
          ],
          [
           "Israel"
          ],
          [
           "Israel"
          ],
          [
           "Israel"
          ],
          [
           "Israel"
          ],
          [
           "Israel"
          ],
          [
           "Japan"
          ],
          [
           "Japan"
          ],
          [
           "Japan"
          ],
          [
           "Japan"
          ],
          [
           "Japan"
          ],
          [
           "Japan"
          ],
          [
           "Japan"
          ],
          [
           "Japan"
          ],
          [
           "Japan"
          ],
          [
           "Japan"
          ],
          [
           "Japan"
          ],
          [
           "Japan"
          ],
          [
           "Jordan"
          ],
          [
           "Jordan"
          ],
          [
           "Jordan"
          ],
          [
           "Jordan"
          ],
          [
           "Jordan"
          ],
          [
           "Jordan"
          ],
          [
           "Jordan"
          ],
          [
           "Jordan"
          ],
          [
           "Jordan"
          ],
          [
           "Jordan"
          ],
          [
           "Jordan"
          ],
          [
           "Jordan"
          ],
          [
           "Korea, Dem. Rep."
          ],
          [
           "Korea, Dem. Rep."
          ],
          [
           "Korea, Dem. Rep."
          ],
          [
           "Korea, Dem. Rep."
          ],
          [
           "Korea, Dem. Rep."
          ],
          [
           "Korea, Dem. Rep."
          ],
          [
           "Korea, Dem. Rep."
          ],
          [
           "Korea, Dem. Rep."
          ],
          [
           "Korea, Dem. Rep."
          ],
          [
           "Korea, Dem. Rep."
          ],
          [
           "Korea, Dem. Rep."
          ],
          [
           "Korea, Dem. Rep."
          ],
          [
           "Korea, Rep."
          ],
          [
           "Korea, Rep."
          ],
          [
           "Korea, Rep."
          ],
          [
           "Korea, Rep."
          ],
          [
           "Korea, Rep."
          ],
          [
           "Korea, Rep."
          ],
          [
           "Korea, Rep."
          ],
          [
           "Korea, Rep."
          ],
          [
           "Korea, Rep."
          ],
          [
           "Korea, Rep."
          ],
          [
           "Korea, Rep."
          ],
          [
           "Korea, Rep."
          ],
          [
           "Kuwait"
          ],
          [
           "Kuwait"
          ],
          [
           "Kuwait"
          ],
          [
           "Kuwait"
          ],
          [
           "Kuwait"
          ],
          [
           "Kuwait"
          ],
          [
           "Kuwait"
          ],
          [
           "Kuwait"
          ],
          [
           "Kuwait"
          ],
          [
           "Kuwait"
          ],
          [
           "Kuwait"
          ],
          [
           "Kuwait"
          ],
          [
           "Lebanon"
          ],
          [
           "Lebanon"
          ],
          [
           "Lebanon"
          ],
          [
           "Lebanon"
          ],
          [
           "Lebanon"
          ],
          [
           "Lebanon"
          ],
          [
           "Lebanon"
          ],
          [
           "Lebanon"
          ],
          [
           "Lebanon"
          ],
          [
           "Lebanon"
          ],
          [
           "Lebanon"
          ],
          [
           "Lebanon"
          ],
          [
           "Malaysia"
          ],
          [
           "Malaysia"
          ],
          [
           "Malaysia"
          ],
          [
           "Malaysia"
          ],
          [
           "Malaysia"
          ],
          [
           "Malaysia"
          ],
          [
           "Malaysia"
          ],
          [
           "Malaysia"
          ],
          [
           "Malaysia"
          ],
          [
           "Malaysia"
          ],
          [
           "Malaysia"
          ],
          [
           "Malaysia"
          ],
          [
           "Mongolia"
          ],
          [
           "Mongolia"
          ],
          [
           "Mongolia"
          ],
          [
           "Mongolia"
          ],
          [
           "Mongolia"
          ],
          [
           "Mongolia"
          ],
          [
           "Mongolia"
          ],
          [
           "Mongolia"
          ],
          [
           "Mongolia"
          ],
          [
           "Mongolia"
          ],
          [
           "Mongolia"
          ],
          [
           "Mongolia"
          ],
          [
           "Myanmar"
          ],
          [
           "Myanmar"
          ],
          [
           "Myanmar"
          ],
          [
           "Myanmar"
          ],
          [
           "Myanmar"
          ],
          [
           "Myanmar"
          ],
          [
           "Myanmar"
          ],
          [
           "Myanmar"
          ],
          [
           "Myanmar"
          ],
          [
           "Myanmar"
          ],
          [
           "Myanmar"
          ],
          [
           "Myanmar"
          ],
          [
           "Nepal"
          ],
          [
           "Nepal"
          ],
          [
           "Nepal"
          ],
          [
           "Nepal"
          ],
          [
           "Nepal"
          ],
          [
           "Nepal"
          ],
          [
           "Nepal"
          ],
          [
           "Nepal"
          ],
          [
           "Nepal"
          ],
          [
           "Nepal"
          ],
          [
           "Nepal"
          ],
          [
           "Nepal"
          ],
          [
           "Oman"
          ],
          [
           "Oman"
          ],
          [
           "Oman"
          ],
          [
           "Oman"
          ],
          [
           "Oman"
          ],
          [
           "Oman"
          ],
          [
           "Oman"
          ],
          [
           "Oman"
          ],
          [
           "Oman"
          ],
          [
           "Oman"
          ],
          [
           "Oman"
          ],
          [
           "Oman"
          ],
          [
           "Pakistan"
          ],
          [
           "Pakistan"
          ],
          [
           "Pakistan"
          ],
          [
           "Pakistan"
          ],
          [
           "Pakistan"
          ],
          [
           "Pakistan"
          ],
          [
           "Pakistan"
          ],
          [
           "Pakistan"
          ],
          [
           "Pakistan"
          ],
          [
           "Pakistan"
          ],
          [
           "Pakistan"
          ],
          [
           "Pakistan"
          ],
          [
           "Philippines"
          ],
          [
           "Philippines"
          ],
          [
           "Philippines"
          ],
          [
           "Philippines"
          ],
          [
           "Philippines"
          ],
          [
           "Philippines"
          ],
          [
           "Philippines"
          ],
          [
           "Philippines"
          ],
          [
           "Philippines"
          ],
          [
           "Philippines"
          ],
          [
           "Philippines"
          ],
          [
           "Philippines"
          ],
          [
           "Saudi Arabia"
          ],
          [
           "Saudi Arabia"
          ],
          [
           "Saudi Arabia"
          ],
          [
           "Saudi Arabia"
          ],
          [
           "Saudi Arabia"
          ],
          [
           "Saudi Arabia"
          ],
          [
           "Saudi Arabia"
          ],
          [
           "Saudi Arabia"
          ],
          [
           "Saudi Arabia"
          ],
          [
           "Saudi Arabia"
          ],
          [
           "Saudi Arabia"
          ],
          [
           "Saudi Arabia"
          ],
          [
           "Singapore"
          ],
          [
           "Singapore"
          ],
          [
           "Singapore"
          ],
          [
           "Singapore"
          ],
          [
           "Singapore"
          ],
          [
           "Singapore"
          ],
          [
           "Singapore"
          ],
          [
           "Singapore"
          ],
          [
           "Singapore"
          ],
          [
           "Singapore"
          ],
          [
           "Singapore"
          ],
          [
           "Singapore"
          ],
          [
           "Sri Lanka"
          ],
          [
           "Sri Lanka"
          ],
          [
           "Sri Lanka"
          ],
          [
           "Sri Lanka"
          ],
          [
           "Sri Lanka"
          ],
          [
           "Sri Lanka"
          ],
          [
           "Sri Lanka"
          ],
          [
           "Sri Lanka"
          ],
          [
           "Sri Lanka"
          ],
          [
           "Sri Lanka"
          ],
          [
           "Sri Lanka"
          ],
          [
           "Sri Lanka"
          ],
          [
           "Syria"
          ],
          [
           "Syria"
          ],
          [
           "Syria"
          ],
          [
           "Syria"
          ],
          [
           "Syria"
          ],
          [
           "Syria"
          ],
          [
           "Syria"
          ],
          [
           "Syria"
          ],
          [
           "Syria"
          ],
          [
           "Syria"
          ],
          [
           "Syria"
          ],
          [
           "Syria"
          ],
          [
           "Taiwan"
          ],
          [
           "Taiwan"
          ],
          [
           "Taiwan"
          ],
          [
           "Taiwan"
          ],
          [
           "Taiwan"
          ],
          [
           "Taiwan"
          ],
          [
           "Taiwan"
          ],
          [
           "Taiwan"
          ],
          [
           "Taiwan"
          ],
          [
           "Taiwan"
          ],
          [
           "Taiwan"
          ],
          [
           "Taiwan"
          ],
          [
           "Thailand"
          ],
          [
           "Thailand"
          ],
          [
           "Thailand"
          ],
          [
           "Thailand"
          ],
          [
           "Thailand"
          ],
          [
           "Thailand"
          ],
          [
           "Thailand"
          ],
          [
           "Thailand"
          ],
          [
           "Thailand"
          ],
          [
           "Thailand"
          ],
          [
           "Thailand"
          ],
          [
           "Thailand"
          ],
          [
           "Vietnam"
          ],
          [
           "Vietnam"
          ],
          [
           "Vietnam"
          ],
          [
           "Vietnam"
          ],
          [
           "Vietnam"
          ],
          [
           "Vietnam"
          ],
          [
           "Vietnam"
          ],
          [
           "Vietnam"
          ],
          [
           "Vietnam"
          ],
          [
           "Vietnam"
          ],
          [
           "Vietnam"
          ],
          [
           "Vietnam"
          ],
          [
           "West Bank and Gaza"
          ],
          [
           "West Bank and Gaza"
          ],
          [
           "West Bank and Gaza"
          ],
          [
           "West Bank and Gaza"
          ],
          [
           "West Bank and Gaza"
          ],
          [
           "West Bank and Gaza"
          ],
          [
           "West Bank and Gaza"
          ],
          [
           "West Bank and Gaza"
          ],
          [
           "West Bank and Gaza"
          ],
          [
           "West Bank and Gaza"
          ],
          [
           "West Bank and Gaza"
          ],
          [
           "West Bank and Gaza"
          ],
          [
           "Yemen, Rep."
          ],
          [
           "Yemen, Rep."
          ],
          [
           "Yemen, Rep."
          ],
          [
           "Yemen, Rep."
          ],
          [
           "Yemen, Rep."
          ],
          [
           "Yemen, Rep."
          ],
          [
           "Yemen, Rep."
          ],
          [
           "Yemen, Rep."
          ],
          [
           "Yemen, Rep."
          ],
          [
           "Yemen, Rep."
          ],
          [
           "Yemen, Rep."
          ],
          [
           "Yemen, Rep."
          ]
         ],
         "hovertemplate": "continent=Asia<br>year=%{x}<br>gdp=%{y}<br>country=%{customdata[0]}<extra></extra>",
         "legendgroup": "Asia",
         "marker": {
          "color": "#636efa"
         },
         "name": "Asia",
         "offsetgroup": "Asia",
         "orientation": "v",
         "showlegend": true,
         "textposition": "auto",
         "type": "bar",
         "x": [
          1952,
          1957,
          1962,
          1967,
          1972,
          1977,
          1982,
          1987,
          1992,
          1997,
          2002,
          2007,
          1952,
          1957,
          1962,
          1967,
          1972,
          1977,
          1982,
          1987,
          1992,
          1997,
          2002,
          2007,
          1952,
          1957,
          1962,
          1967,
          1972,
          1977,
          1982,
          1987,
          1992,
          1997,
          2002,
          2007,
          1952,
          1957,
          1962,
          1967,
          1972,
          1977,
          1982,
          1987,
          1992,
          1997,
          2002,
          2007,
          1952,
          1957,
          1962,
          1967,
          1972,
          1977,
          1982,
          1987,
          1992,
          1997,
          2002,
          2007,
          1952,
          1957,
          1962,
          1967,
          1972,
          1977,
          1982,
          1987,
          1992,
          1997,
          2002,
          2007,
          1952,
          1957,
          1962,
          1967,
          1972,
          1977,
          1982,
          1987,
          1992,
          1997,
          2002,
          2007,
          1952,
          1957,
          1962,
          1967,
          1972,
          1977,
          1982,
          1987,
          1992,
          1997,
          2002,
          2007,
          1952,
          1957,
          1962,
          1967,
          1972,
          1977,
          1982,
          1987,
          1992,
          1997,
          2002,
          2007,
          1952,
          1957,
          1962,
          1967,
          1972,
          1977,
          1982,
          1987,
          1992,
          1997,
          2002,
          2007,
          1952,
          1957,
          1962,
          1967,
          1972,
          1977,
          1982,
          1987,
          1992,
          1997,
          2002,
          2007,
          1952,
          1957,
          1962,
          1967,
          1972,
          1977,
          1982,
          1987,
          1992,
          1997,
          2002,
          2007,
          1952,
          1957,
          1962,
          1967,
          1972,
          1977,
          1982,
          1987,
          1992,
          1997,
          2002,
          2007,
          1952,
          1957,
          1962,
          1967,
          1972,
          1977,
          1982,
          1987,
          1992,
          1997,
          2002,
          2007,
          1952,
          1957,
          1962,
          1967,
          1972,
          1977,
          1982,
          1987,
          1992,
          1997,
          2002,
          2007,
          1952,
          1957,
          1962,
          1967,
          1972,
          1977,
          1982,
          1987,
          1992,
          1997,
          2002,
          2007,
          1952,
          1957,
          1962,
          1967,
          1972,
          1977,
          1982,
          1987,
          1992,
          1997,
          2002,
          2007,
          1952,
          1957,
          1962,
          1967,
          1972,
          1977,
          1982,
          1987,
          1992,
          1997,
          2002,
          2007,
          1952,
          1957,
          1962,
          1967,
          1972,
          1977,
          1982,
          1987,
          1992,
          1997,
          2002,
          2007,
          1952,
          1957,
          1962,
          1967,
          1972,
          1977,
          1982,
          1987,
          1992,
          1997,
          2002,
          2007,
          1952,
          1957,
          1962,
          1967,
          1972,
          1977,
          1982,
          1987,
          1992,
          1997,
          2002,
          2007,
          1952,
          1957,
          1962,
          1967,
          1972,
          1977,
          1982,
          1987,
          1992,
          1997,
          2002,
          2007,
          1952,
          1957,
          1962,
          1967,
          1972,
          1977,
          1982,
          1987,
          1992,
          1997,
          2002,
          2007,
          1952,
          1957,
          1962,
          1967,
          1972,
          1977,
          1982,
          1987,
          1992,
          1997,
          2002,
          2007,
          1952,
          1957,
          1962,
          1967,
          1972,
          1977,
          1982,
          1987,
          1992,
          1997,
          2002,
          2007,
          1952,
          1957,
          1962,
          1967,
          1972,
          1977,
          1982,
          1987,
          1992,
          1997,
          2002,
          2007,
          1952,
          1957,
          1962,
          1967,
          1972,
          1977,
          1982,
          1987,
          1992,
          1997,
          2002,
          2007,
          1952,
          1957,
          1962,
          1967,
          1972,
          1977,
          1982,
          1987,
          1992,
          1997,
          2002,
          2007,
          1952,
          1957,
          1962,
          1967,
          1972,
          1977,
          1982,
          1987,
          1992,
          1997,
          2002,
          2007,
          1952,
          1957,
          1962,
          1967,
          1972,
          1977,
          1982,
          1987,
          1992,
          1997,
          2002,
          2007,
          1952,
          1957,
          1962,
          1967,
          1972,
          1977,
          1982,
          1987,
          1992,
          1997,
          2002,
          2007,
          1952,
          1957,
          1962,
          1967,
          1972,
          1977,
          1982,
          1987,
          1992,
          1997,
          2002,
          2007,
          1952,
          1957,
          1962,
          1967,
          1972,
          1977,
          1982,
          1987,
          1992,
          1997,
          2002,
          2007
         ],
         "xaxis": "x",
         "y": [
          6567086329.952229,
          7585448670.233646,
          8758855796.92893,
          9648014149.848902,
          9678553274.066866,
          11697659230.96992,
          12598563400.516861,
          11820990309.460773,
          10595901588.903381,
          14121995875.337666,
          18363410423.978592,
          31079291948.889942,
          1188460758.6899552,
          1613361772.7397501,
          2191816125.38582,
          2993238335.8314,
          4216406356.412,
          5751939723.9236,
          7261179715.31877,
          8421243625.96472,
          10079167850.30247,
          12146009861.839191,
          15362026094.150188,
          21112675360.41882,
          32082059995.381004,
          33985317661.090706,
          39011165929.14725,
          45306268649.67041,
          44594887096.43332,
          53072807953.81466,
          63009685013.49184,
          78028572051.81024,
          95262852013.65231,
          119957417048.45815,
          154159077920.5197,
          209311822133.85147,
          1729534397.6435618,
          2310184670.8691106,
          3023033307.8986645,
          3643123976.797051,
          3141354495.624574,
          3663574552.484802,
          4541488549.531824,
          5725430804.6556015,
          6925441367.823497,
          8652054255.27354,
          11585251105.560616,
          24218877033.97859,
          222754956737.111,
          367138722269.6672,
          324678731163.591,
          462317080954.97,
          583508186392.963,
          699324197164.5044,
          962691820907.9204,
          1494780217152.63,
          1928938870545.26,
          2815929679840.2,
          3993927259238.4004,
          6539500929092.308,
          6493394048.2131,
          9930241909.2891,
          15510141068.614399,
          23073775963.9592,
          34225865466.3765,
          51273915647.625,
          76653912869.89499,
          111905051122.0319,
          144329299236.98495,
          184338771740.4004,
          204287740003.13617,
          277296717807.812,
          203322458739.6,
          241335356364,
          298889606508.6,
          354589929014.2001,
          410526442809,
          515655862782.00006,
          605852264691.6001,
          769491988372.8,
          1015362737448,
          1399005926878,
          1806461015264.9792,
          2722925438772.817,
          61512879123.2392,
          77407527996.5668,
          84103467353.4628,
          83366577256.7303,
          134757389176.774,
          189049938606.6,
          232601854598.884,
          295954872930.236,
          440442568204.768,
          621614960294.634,
          606568050342.2001,
          791502035177.508,
          52426150706.544,
          65120779270.256,
          95780981890.948,
          156752848641.09,
          294317442834.698,
          421815425794.4593,
          327711901836.6301,
          344697094905.25323,
          437018785886.18787,
          523316539155.0541,
          618279294330.7163,
          806058303731.2294,
          22473220511.4949,
          38924881556.85636,
          60396350632.4319,
          76089624801.57571,
          96349359728.37958,
          174539063525.06412,
          205766914164.49097,
          192621823480.4765,
          66904278115.32873,
          63911044337.70088,
          105385189030.63858,
          122952583890.59003,
          6623900928.584992,
          10471140805.402851,
          16420430421.018225,
          22609255939.69334,
          39586973982.33139,
          46518849615.38477,
          59292468172.8932,
          71968316978.59927,
          89112243594.837,
          115587232694.21588,
          132080421158.88907,
          164029908949.7509,
          278134909229.18164,
          395341088001.7443,
          630251873020.733,
          992906033833.7963,
          1584112586964.3562,
          1891464707591.0457,
          2296143737891.302,
          2731908393473.1045,
          3335119600027.974,
          3629636158476.35,
          3634666526235.2876,
          4035134797102.1743,
          940386912.5845981,
          1408070439.936369,
          2192005081.533322,
          3441113320.442616,
          3405974308.2432585,
          5526864720.438336,
          9766972259.667728,
          12545464196.396303,
          13271376154.750622,
          16499844607.071419,
          20406782659.63918,
          27357170724.069004,
          9648113404.215904,
          14786546840.508556,
          17704830126.003414,
          27045071155.618484,
          54714559526.62523,
          67036681906.324684,
          72469979025.67278,
          78300763966.8475,
          77171898567.29211,
          36495163359.65547,
          36583333391.19012,
          37121173721.953,
          21588403826.183044,
          33636798616.73942,
          40590690362.26681,
          61142673146.602005,
          101549522158.25,
          169690505084.72,
          221127835339.26398,
          355164222241.70996,
          530233376255.024,
          738482217215.8954,
          922638064104.647,
          1145104609948.5068,
          17341176464,
          24162944745.2334,
          34199395867.80816,
          46514800559.14978,
          92063687054.778,
          67583801714.93897,
          46952480381.46062,
          53185644767.58026,
          49538198605.98105,
          71144497943.28621,
          74137129817.53526,
          118530454006.18703,
          6959840663.764443,
          10032388072.514809,
          10782507259.744127,
          13136635172.651548,
          20063644788.798138,
          26981770825.54993,
          23585336336.906395,
          16611733228.520136,
          22188356725.038876,
          30032922931.4738,
          34254617950.197395,
          41020719258.59304,
          12357176936.945932,
          14008533816.831121,
          18141281511.96744,
          23130196146.80769,
          32597809659.76836,
          49171111017.613556,
          71059367334.44211,
          85738648221.2256,
          133327738132.0646,
          207482379883.41724,
          231314259623.22812,
          309066109785.3588,
          629774979.8265225,
          805090717.486539,
          1067213276.6882399,
          1409334278.9350002,
          1877410277.9875,
          2517397824.12,
          3513123131.384448,
          4711397687.664432,
          4129281353.408832,
          4745744245.8363,
          5724837882.703583,
          8897642669.932417,
          6650781676,
          7606145400,
          9170161168,
          9028724579,
          10162501230,
          11696920277,
          14704507408,
          14641002530,
          14069648686,
          17947864805,
          27860427491,
          45087309120,
          5012431651.695273,
          5789421899.34386,
          6740601536.90858,
          7617882645.364925,
          8375870413.956054,
          9671206057.996479,
          11347646973.032936,
          13897146222.282719,
          18247658193.225723,
          23251644296.949596,
          27354068342.690186,
          31542251118.20262,
          928435681.4947311,
          1260371978.491327,
          1837152375.614532,
          3374411809.100425,
          8802884859.877499,
          11902052462.98936,
          16854804933.97848,
          28873528072.890663,
          35654866007.68728,
          44992304219.66934,
          53658268402.94394,
          71521099580.48439,
          28305736881.955326,
          34873817306.378365,
          42658038632.559746,
          57149426446.91546,
          72787986851.6265,
          91901399757.27438,
          132019106316.20921,
          179310664748.31763,
          236747712482.47787,
          277819863187.1785,
          321029463168.0421,
          441110354736.25684,
          28561783326.577545,
          40358318274.06773,
          50023104521.493385,
          64141377891.538,
          81266211261.24387,
          111186903868.47409,
          139162617315.7341,
          131417048927.29105,
          153138130044.34204,
          190273063890.6059,
          220013427319.714,
          290580355162.2836,
          25874890184.730167,
          36053698159.223206,
          57469729990.422745,
          94964675299.15428,
          160766615318.8594,
          277732829132.913,
          379205636077.268,
          309913175526.5532,
          420962502379.07886,
          437050471341.36426,
          465885351158.00543,
          597695839259.5537,
          2609160781.829,
          4110927115.000961,
          6431522198.1144,
          9843342904.703999,
          18505810449.1848,
          26066821067.844,
          40226628130.13328,
          52709528648.14712,
          80152023987.888,
          127451407551.4694,
          151216927293.5904,
          214643321189.53674,
          8649123231.41426,
          9790790993.50069,
          11198078000.914558,
          13327981307.935097,
          15794445637.40349,
          19040444665.960236,
          25397158408.53814,
          30957839348.480408,
          37877940921.66731,
          49822140983.989334,
          59031417076.434235,
          80903553056.64828,
          6017702154.453345,
          8786330020.339844,
          10602503376.981592,
          10690854351.749184,
          17231547901.572407,
          25348191033.168747,
          35400751245.98121,
          35041416419.7894,
          44158841963.84361,
          60538802164.55556,
          70183154066.52444,
          80823487648.36848,
          10319841571.294506,
          15326226341.73735,
          21726782116.232265,
          36085212828.49525,
          61856147294.153984,
          93938682197.2959,
          137397885952.13585,
          218413809089.58826,
          314765067293.3522,
          437045349282.13293,
          521733747819.8263,
          665525790663.5509,
          16133053859.977215,
          19872699754.49617,
          29327752243.307285,
          44077076065.54434,
          59870954797.253204,
          86584704135.00099,
          116854125162.05196,
          157813231197.02036,
          261626115120.6868,
          352425659154.8135,
          371388079010.6457,
          485304043506.2887,
          15881082791.944736,
          19611292638.302555,
          26092281505.00163,
          25143376124.160816,
          31236255710.308517,
          36057532314.52932,
          39705759524.13192,
          51567948937.81485,
          69172999028.93025,
          105396057842.09392,
          142758920197.8475,
          208174556559.04782,
          1561946720.382465,
          1955764566.678738,
          2491712161.6418085,
          3027659756.7384524,
          3414075012.7594438,
          4644385651.599954,
          6182644080.953832,
          8637343287.79464,
          12665833359.678925,
          20095073782.004475,
          15305597343.493351,
          12156859904.496937,
          3880312374.054887,
          4425030274.681523,
          5052880863.151249,
          5813537083.146846,
          9370298237.144325,
          15377328249.85623,
          19098490175.80218,
          22121638706.94492,
          25125105886.17398,
          33512362498.285423,
          41793958634.67954,
          50659874994.20616
         ],
         "yaxis": "y"
        },
        {
         "alignmentgroup": "True",
         "customdata": [
          [
           "Albania"
          ],
          [
           "Albania"
          ],
          [
           "Albania"
          ],
          [
           "Albania"
          ],
          [
           "Albania"
          ],
          [
           "Albania"
          ],
          [
           "Albania"
          ],
          [
           "Albania"
          ],
          [
           "Albania"
          ],
          [
           "Albania"
          ],
          [
           "Albania"
          ],
          [
           "Albania"
          ],
          [
           "Austria"
          ],
          [
           "Austria"
          ],
          [
           "Austria"
          ],
          [
           "Austria"
          ],
          [
           "Austria"
          ],
          [
           "Austria"
          ],
          [
           "Austria"
          ],
          [
           "Austria"
          ],
          [
           "Austria"
          ],
          [
           "Austria"
          ],
          [
           "Austria"
          ],
          [
           "Austria"
          ],
          [
           "Belgium"
          ],
          [
           "Belgium"
          ],
          [
           "Belgium"
          ],
          [
           "Belgium"
          ],
          [
           "Belgium"
          ],
          [
           "Belgium"
          ],
          [
           "Belgium"
          ],
          [
           "Belgium"
          ],
          [
           "Belgium"
          ],
          [
           "Belgium"
          ],
          [
           "Belgium"
          ],
          [
           "Belgium"
          ],
          [
           "Bosnia and Herzegovina"
          ],
          [
           "Bosnia and Herzegovina"
          ],
          [
           "Bosnia and Herzegovina"
          ],
          [
           "Bosnia and Herzegovina"
          ],
          [
           "Bosnia and Herzegovina"
          ],
          [
           "Bosnia and Herzegovina"
          ],
          [
           "Bosnia and Herzegovina"
          ],
          [
           "Bosnia and Herzegovina"
          ],
          [
           "Bosnia and Herzegovina"
          ],
          [
           "Bosnia and Herzegovina"
          ],
          [
           "Bosnia and Herzegovina"
          ],
          [
           "Bosnia and Herzegovina"
          ],
          [
           "Bulgaria"
          ],
          [
           "Bulgaria"
          ],
          [
           "Bulgaria"
          ],
          [
           "Bulgaria"
          ],
          [
           "Bulgaria"
          ],
          [
           "Bulgaria"
          ],
          [
           "Bulgaria"
          ],
          [
           "Bulgaria"
          ],
          [
           "Bulgaria"
          ],
          [
           "Bulgaria"
          ],
          [
           "Bulgaria"
          ],
          [
           "Bulgaria"
          ],
          [
           "Croatia"
          ],
          [
           "Croatia"
          ],
          [
           "Croatia"
          ],
          [
           "Croatia"
          ],
          [
           "Croatia"
          ],
          [
           "Croatia"
          ],
          [
           "Croatia"
          ],
          [
           "Croatia"
          ],
          [
           "Croatia"
          ],
          [
           "Croatia"
          ],
          [
           "Croatia"
          ],
          [
           "Croatia"
          ],
          [
           "Czech Republic"
          ],
          [
           "Czech Republic"
          ],
          [
           "Czech Republic"
          ],
          [
           "Czech Republic"
          ],
          [
           "Czech Republic"
          ],
          [
           "Czech Republic"
          ],
          [
           "Czech Republic"
          ],
          [
           "Czech Republic"
          ],
          [
           "Czech Republic"
          ],
          [
           "Czech Republic"
          ],
          [
           "Czech Republic"
          ],
          [
           "Czech Republic"
          ],
          [
           "Denmark"
          ],
          [
           "Denmark"
          ],
          [
           "Denmark"
          ],
          [
           "Denmark"
          ],
          [
           "Denmark"
          ],
          [
           "Denmark"
          ],
          [
           "Denmark"
          ],
          [
           "Denmark"
          ],
          [
           "Denmark"
          ],
          [
           "Denmark"
          ],
          [
           "Denmark"
          ],
          [
           "Denmark"
          ],
          [
           "Finland"
          ],
          [
           "Finland"
          ],
          [
           "Finland"
          ],
          [
           "Finland"
          ],
          [
           "Finland"
          ],
          [
           "Finland"
          ],
          [
           "Finland"
          ],
          [
           "Finland"
          ],
          [
           "Finland"
          ],
          [
           "Finland"
          ],
          [
           "Finland"
          ],
          [
           "Finland"
          ],
          [
           "France"
          ],
          [
           "France"
          ],
          [
           "France"
          ],
          [
           "France"
          ],
          [
           "France"
          ],
          [
           "France"
          ],
          [
           "France"
          ],
          [
           "France"
          ],
          [
           "France"
          ],
          [
           "France"
          ],
          [
           "France"
          ],
          [
           "France"
          ],
          [
           "Germany"
          ],
          [
           "Germany"
          ],
          [
           "Germany"
          ],
          [
           "Germany"
          ],
          [
           "Germany"
          ],
          [
           "Germany"
          ],
          [
           "Germany"
          ],
          [
           "Germany"
          ],
          [
           "Germany"
          ],
          [
           "Germany"
          ],
          [
           "Germany"
          ],
          [
           "Germany"
          ],
          [
           "Greece"
          ],
          [
           "Greece"
          ],
          [
           "Greece"
          ],
          [
           "Greece"
          ],
          [
           "Greece"
          ],
          [
           "Greece"
          ],
          [
           "Greece"
          ],
          [
           "Greece"
          ],
          [
           "Greece"
          ],
          [
           "Greece"
          ],
          [
           "Greece"
          ],
          [
           "Greece"
          ],
          [
           "Hungary"
          ],
          [
           "Hungary"
          ],
          [
           "Hungary"
          ],
          [
           "Hungary"
          ],
          [
           "Hungary"
          ],
          [
           "Hungary"
          ],
          [
           "Hungary"
          ],
          [
           "Hungary"
          ],
          [
           "Hungary"
          ],
          [
           "Hungary"
          ],
          [
           "Hungary"
          ],
          [
           "Hungary"
          ],
          [
           "Iceland"
          ],
          [
           "Iceland"
          ],
          [
           "Iceland"
          ],
          [
           "Iceland"
          ],
          [
           "Iceland"
          ],
          [
           "Iceland"
          ],
          [
           "Iceland"
          ],
          [
           "Iceland"
          ],
          [
           "Iceland"
          ],
          [
           "Iceland"
          ],
          [
           "Iceland"
          ],
          [
           "Iceland"
          ],
          [
           "Ireland"
          ],
          [
           "Ireland"
          ],
          [
           "Ireland"
          ],
          [
           "Ireland"
          ],
          [
           "Ireland"
          ],
          [
           "Ireland"
          ],
          [
           "Ireland"
          ],
          [
           "Ireland"
          ],
          [
           "Ireland"
          ],
          [
           "Ireland"
          ],
          [
           "Ireland"
          ],
          [
           "Ireland"
          ],
          [
           "Italy"
          ],
          [
           "Italy"
          ],
          [
           "Italy"
          ],
          [
           "Italy"
          ],
          [
           "Italy"
          ],
          [
           "Italy"
          ],
          [
           "Italy"
          ],
          [
           "Italy"
          ],
          [
           "Italy"
          ],
          [
           "Italy"
          ],
          [
           "Italy"
          ],
          [
           "Italy"
          ],
          [
           "Montenegro"
          ],
          [
           "Montenegro"
          ],
          [
           "Montenegro"
          ],
          [
           "Montenegro"
          ],
          [
           "Montenegro"
          ],
          [
           "Montenegro"
          ],
          [
           "Montenegro"
          ],
          [
           "Montenegro"
          ],
          [
           "Montenegro"
          ],
          [
           "Montenegro"
          ],
          [
           "Montenegro"
          ],
          [
           "Montenegro"
          ],
          [
           "Netherlands"
          ],
          [
           "Netherlands"
          ],
          [
           "Netherlands"
          ],
          [
           "Netherlands"
          ],
          [
           "Netherlands"
          ],
          [
           "Netherlands"
          ],
          [
           "Netherlands"
          ],
          [
           "Netherlands"
          ],
          [
           "Netherlands"
          ],
          [
           "Netherlands"
          ],
          [
           "Netherlands"
          ],
          [
           "Netherlands"
          ],
          [
           "Norway"
          ],
          [
           "Norway"
          ],
          [
           "Norway"
          ],
          [
           "Norway"
          ],
          [
           "Norway"
          ],
          [
           "Norway"
          ],
          [
           "Norway"
          ],
          [
           "Norway"
          ],
          [
           "Norway"
          ],
          [
           "Norway"
          ],
          [
           "Norway"
          ],
          [
           "Norway"
          ],
          [
           "Poland"
          ],
          [
           "Poland"
          ],
          [
           "Poland"
          ],
          [
           "Poland"
          ],
          [
           "Poland"
          ],
          [
           "Poland"
          ],
          [
           "Poland"
          ],
          [
           "Poland"
          ],
          [
           "Poland"
          ],
          [
           "Poland"
          ],
          [
           "Poland"
          ],
          [
           "Poland"
          ],
          [
           "Portugal"
          ],
          [
           "Portugal"
          ],
          [
           "Portugal"
          ],
          [
           "Portugal"
          ],
          [
           "Portugal"
          ],
          [
           "Portugal"
          ],
          [
           "Portugal"
          ],
          [
           "Portugal"
          ],
          [
           "Portugal"
          ],
          [
           "Portugal"
          ],
          [
           "Portugal"
          ],
          [
           "Portugal"
          ],
          [
           "Romania"
          ],
          [
           "Romania"
          ],
          [
           "Romania"
          ],
          [
           "Romania"
          ],
          [
           "Romania"
          ],
          [
           "Romania"
          ],
          [
           "Romania"
          ],
          [
           "Romania"
          ],
          [
           "Romania"
          ],
          [
           "Romania"
          ],
          [
           "Romania"
          ],
          [
           "Romania"
          ],
          [
           "Serbia"
          ],
          [
           "Serbia"
          ],
          [
           "Serbia"
          ],
          [
           "Serbia"
          ],
          [
           "Serbia"
          ],
          [
           "Serbia"
          ],
          [
           "Serbia"
          ],
          [
           "Serbia"
          ],
          [
           "Serbia"
          ],
          [
           "Serbia"
          ],
          [
           "Serbia"
          ],
          [
           "Serbia"
          ],
          [
           "Slovak Republic"
          ],
          [
           "Slovak Republic"
          ],
          [
           "Slovak Republic"
          ],
          [
           "Slovak Republic"
          ],
          [
           "Slovak Republic"
          ],
          [
           "Slovak Republic"
          ],
          [
           "Slovak Republic"
          ],
          [
           "Slovak Republic"
          ],
          [
           "Slovak Republic"
          ],
          [
           "Slovak Republic"
          ],
          [
           "Slovak Republic"
          ],
          [
           "Slovak Republic"
          ],
          [
           "Slovenia"
          ],
          [
           "Slovenia"
          ],
          [
           "Slovenia"
          ],
          [
           "Slovenia"
          ],
          [
           "Slovenia"
          ],
          [
           "Slovenia"
          ],
          [
           "Slovenia"
          ],
          [
           "Slovenia"
          ],
          [
           "Slovenia"
          ],
          [
           "Slovenia"
          ],
          [
           "Slovenia"
          ],
          [
           "Slovenia"
          ],
          [
           "Spain"
          ],
          [
           "Spain"
          ],
          [
           "Spain"
          ],
          [
           "Spain"
          ],
          [
           "Spain"
          ],
          [
           "Spain"
          ],
          [
           "Spain"
          ],
          [
           "Spain"
          ],
          [
           "Spain"
          ],
          [
           "Spain"
          ],
          [
           "Spain"
          ],
          [
           "Spain"
          ],
          [
           "Sweden"
          ],
          [
           "Sweden"
          ],
          [
           "Sweden"
          ],
          [
           "Sweden"
          ],
          [
           "Sweden"
          ],
          [
           "Sweden"
          ],
          [
           "Sweden"
          ],
          [
           "Sweden"
          ],
          [
           "Sweden"
          ],
          [
           "Sweden"
          ],
          [
           "Sweden"
          ],
          [
           "Sweden"
          ],
          [
           "Switzerland"
          ],
          [
           "Switzerland"
          ],
          [
           "Switzerland"
          ],
          [
           "Switzerland"
          ],
          [
           "Switzerland"
          ],
          [
           "Switzerland"
          ],
          [
           "Switzerland"
          ],
          [
           "Switzerland"
          ],
          [
           "Switzerland"
          ],
          [
           "Switzerland"
          ],
          [
           "Switzerland"
          ],
          [
           "Switzerland"
          ],
          [
           "Turkey"
          ],
          [
           "Turkey"
          ],
          [
           "Turkey"
          ],
          [
           "Turkey"
          ],
          [
           "Turkey"
          ],
          [
           "Turkey"
          ],
          [
           "Turkey"
          ],
          [
           "Turkey"
          ],
          [
           "Turkey"
          ],
          [
           "Turkey"
          ],
          [
           "Turkey"
          ],
          [
           "Turkey"
          ],
          [
           "United Kingdom"
          ],
          [
           "United Kingdom"
          ],
          [
           "United Kingdom"
          ],
          [
           "United Kingdom"
          ],
          [
           "United Kingdom"
          ],
          [
           "United Kingdom"
          ],
          [
           "United Kingdom"
          ],
          [
           "United Kingdom"
          ],
          [
           "United Kingdom"
          ],
          [
           "United Kingdom"
          ],
          [
           "United Kingdom"
          ],
          [
           "United Kingdom"
          ]
         ],
         "hovertemplate": "continent=Europe<br>year=%{x}<br>gdp=%{y}<br>country=%{customdata[0]}<extra></extra>",
         "legendgroup": "Europe",
         "marker": {
          "color": "#EF553B"
         },
         "name": "Europe",
         "offsetgroup": "Europe",
         "orientation": "v",
         "showlegend": true,
         "textposition": "auto",
         "type": "bar",
         "x": [
          1952,
          1957,
          1962,
          1967,
          1972,
          1977,
          1982,
          1987,
          1992,
          1997,
          2002,
          2007,
          1952,
          1957,
          1962,
          1967,
          1972,
          1977,
          1982,
          1987,
          1992,
          1997,
          2002,
          2007,
          1952,
          1957,
          1962,
          1967,
          1972,
          1977,
          1982,
          1987,
          1992,
          1997,
          2002,
          2007,
          1952,
          1957,
          1962,
          1967,
          1972,
          1977,
          1982,
          1987,
          1992,
          1997,
          2002,
          2007,
          1952,
          1957,
          1962,
          1967,
          1972,
          1977,
          1982,
          1987,
          1992,
          1997,
          2002,
          2007,
          1952,
          1957,
          1962,
          1967,
          1972,
          1977,
          1982,
          1987,
          1992,
          1997,
          2002,
          2007,
          1952,
          1957,
          1962,
          1967,
          1972,
          1977,
          1982,
          1987,
          1992,
          1997,
          2002,
          2007,
          1952,
          1957,
          1962,
          1967,
          1972,
          1977,
          1982,
          1987,
          1992,
          1997,
          2002,
          2007,
          1952,
          1957,
          1962,
          1967,
          1972,
          1977,
          1982,
          1987,
          1992,
          1997,
          2002,
          2007,
          1952,
          1957,
          1962,
          1967,
          1972,
          1977,
          1982,
          1987,
          1992,
          1997,
          2002,
          2007,
          1952,
          1957,
          1962,
          1967,
          1972,
          1977,
          1982,
          1987,
          1992,
          1997,
          2002,
          2007,
          1952,
          1957,
          1962,
          1967,
          1972,
          1977,
          1982,
          1987,
          1992,
          1997,
          2002,
          2007,
          1952,
          1957,
          1962,
          1967,
          1972,
          1977,
          1982,
          1987,
          1992,
          1997,
          2002,
          2007,
          1952,
          1957,
          1962,
          1967,
          1972,
          1977,
          1982,
          1987,
          1992,
          1997,
          2002,
          2007,
          1952,
          1957,
          1962,
          1967,
          1972,
          1977,
          1982,
          1987,
          1992,
          1997,
          2002,
          2007,
          1952,
          1957,
          1962,
          1967,
          1972,
          1977,
          1982,
          1987,
          1992,
          1997,
          2002,
          2007,
          1952,
          1957,
          1962,
          1967,
          1972,
          1977,
          1982,
          1987,
          1992,
          1997,
          2002,
          2007,
          1952,
          1957,
          1962,
          1967,
          1972,
          1977,
          1982,
          1987,
          1992,
          1997,
          2002,
          2007,
          1952,
          1957,
          1962,
          1967,
          1972,
          1977,
          1982,
          1987,
          1992,
          1997,
          2002,
          2007,
          1952,
          1957,
          1962,
          1967,
          1972,
          1977,
          1982,
          1987,
          1992,
          1997,
          2002,
          2007,
          1952,
          1957,
          1962,
          1967,
          1972,
          1977,
          1982,
          1987,
          1992,
          1997,
          2002,
          2007,
          1952,
          1957,
          1962,
          1967,
          1972,
          1977,
          1982,
          1987,
          1992,
          1997,
          2002,
          2007,
          1952,
          1957,
          1962,
          1967,
          1972,
          1977,
          1982,
          1987,
          1992,
          1997,
          2002,
          2007,
          1952,
          1957,
          1962,
          1967,
          1972,
          1977,
          1982,
          1987,
          1992,
          1997,
          2002,
          2007,
          1952,
          1957,
          1962,
          1967,
          1972,
          1977,
          1982,
          1987,
          1992,
          1997,
          2002,
          2007,
          1952,
          1957,
          1962,
          1967,
          1972,
          1977,
          1982,
          1987,
          1992,
          1997,
          2002,
          2007,
          1952,
          1957,
          1962,
          1967,
          1972,
          1977,
          1982,
          1987,
          1992,
          1997,
          2002,
          2007,
          1952,
          1957,
          1962,
          1967,
          1972,
          1977,
          1982,
          1987,
          1992,
          1997,
          2002,
          2007,
          1952,
          1957,
          1962,
          1967,
          1972,
          1977,
          1982,
          1987,
          1992,
          1997,
          2002,
          2007,
          1952,
          1957,
          1962,
          1967,
          1972,
          1977,
          1982,
          1987,
          1992,
          1997,
          2002,
          2007
         ],
         "xaxis": "x",
         "y": [
          2053669902.478792,
          2867792397.68722,
          3996988985.211246,
          5476396322.91986,
          7500110047.336152,
          8864476394.377682,
          10094200602.590034,
          11498418357.532936,
          8307722182.800699,
          10945912518.586952,
          16153932129.805344,
          21376411360.042095,
          42516266683.135826,
          61596299913.25579,
          76651179416.22903,
          94680836235.5952,
          125698652513.1456,
          149472120217.98898,
          163589550350.13904,
          179527736065.4012,
          214036739549.62094,
          234800471832.03818,
          264148781751.71927,
          296229400691.0841,
          72838686716.28642,
          87328859400.77615,
          101321340396.38399,
          125658812132.235,
          161871509038.396,
          187772921747.664,
          206783717985.14468,
          222331812712.216,
          256922515586.0192,
          281118335091.11786,
          314369518653.4875,
          350141166520.1081,
          2717131146.6868,
          4164870705.376,
          5725730640.971,
          7787883436.455001,
          10922988275.25,
          14417374612.23,
          17219089833.9218,
          18718844705.98359,
          10839134938.078785,
          17192245745.728,
          25071535764.134426,
          33897026518.41899,
          17781940935.535202,
          23020103934.64166,
          34089779369.663692,
          46346153670.632805,
          56581431456.1276,
          66965046602.37563,
          73130318095.9054,
          73927631407.02539,
          54571302853.663635,
          48157496050.31932,
          58971163876.62727,
          78213929148.27957,
          12109590475.80308,
          17314932235.498314,
          22330930898.108025,
          29054830740.831127,
          38721121654.514366,
          48824261688.27941,
          58352765410.357124,
          61984751387.9814,
          37964499980.59535,
          43893062449.34643,
          52107043452.729004,
          65688728878.44863,
          62746038114.91576,
          78548858000.62386,
          97519520387.13066,
          112114783032.64302,
          129277640538.8688,
          150397974206.7873,
          158442411319.5492,
          168186719232.1098,
          147483810393.19644,
          165311042971.5677,
          180471922898.33487,
          233556067421.81143,
          42006797651.829994,
          49813395320.36985,
          63120285966.30549,
          77116977699.724,
          94172484444.60716,
          103920280027.7285,
          110995270448.94879,
          128771236166.08945,
          136559629613.11105,
          157476118455.7892,
          172885062706.9816,
          192906627080.56882,
          26279495259.9255,
          32626376129.064,
          42093096667.70552,
          50302260674.67744,
          66620259081.5663,
          73952569459.93266,
          89458310061.91013,
          104261743104.04567,
          104083163954.02461,
          121808392250.58119,
          146467538809.04224,
          173953983346.024,
          298483363097.9141,
          383857690356.89703,
          497652320115.72,
          644392918488.5399,
          833257241541.72,
          972528294778.1677,
          1104669186492.2449,
          1227558382892.414,
          1417360022289.6108,
          1517747939261.9343,
          1733393500385.6318,
          1861227940621.3972,
          493986590900.8872,
          723529963816.3889,
          951416222108.6505,
          1126100616352.8813,
          1418181247737.4536,
          1603305779824.911,
          1725845977575.6091,
          1914915573601.2065,
          2136268169644.1118,
          2278996207434.3037,
          2473468447076.1284,
          2650870893900.9224,
          27303708960.62775,
          39803435654.7198,
          50834629317.82478,
          74203907867.24005,
          113106276411.12996,
          132138739654.37013,
          149424095671.5672,
          160794049220.77112,
          181123475012.42987,
          196895300009.9881,
          238738073446.2924,
          294834223726.7252,
          50025955947.26399,
          59429331128.229004,
          75979271442.25099,
          95350224305.46074,
          105693936955.046,
          124187241501.88028,
          134311542120.3031,
          137822135542.9452,
          109029890605.3282,
          119993697078.53119,
          149676048403.31027,
          179298995810.63953,
          1075341715.183736,
          1526277073.13532,
          1884277507.35018,
          2646343594.11968,
          3306139764.0755,
          4359922739.98281,
          5445018346.1775,
          6587462419.765281,
          6512699263.29412,
          7609945738.994721,
          8975937060.538801,
          10924101860.925888,
          15381560331.987167,
          16115377912.747839,
          18767420398.62,
          22201915549.5963,
          28824869546.662395,
          36484895159.247,
          43911758506.799995,
          49108560194.147995,
          62470069169.98355,
          89927693739.3913,
          132190156526.46545,
          167141167137.8361,
          235060310452.22995,
          307321410802.224,
          419130105629.088,
          527850812033.90094,
          667025988920.1119,
          799179741816.5137,
          934957147512.0059,
          1089620726789.8584,
          1251274219399.5964,
          1418307303522.8118,
          1620107994725.4917,
          1661264433000.4402,
          1095660939.604234,
          1630611470.585587,
          2206362439.60848,
          2960040094.219795,
          4104497951.662526,
          5374421249.683064,
          6313244220.45576,
          6681347764.04041,
          4353422615.518977,
          4478413551.798199,
          4722688037.72486,
          6336475807.461696,
          92831291730.89369,
          124335627651.52753,
          151004791951.14682,
          193528142723.17792,
          250531591643.14557,
          293808863797.9488,
          306234860366.24445,
          346853235808.6136,
          406532406373.84485,
          471974656555.1323,
          543738536478.1174,
          609764312245.5251,
          33594817529.45216,
          40694951309.351524,
          48944921612.36769,
          61946375191.07293,
          74589639181.05203,
          94252564410.39494,
          108213282691.32896,
          132035157036.0956,
          145588949429.93054,
          181880081160.07977,
          202668235988.12277,
          228421423674.68744,
          103676873315.93416,
          133673272043.00957,
          161922307755.11923,
          208421579588.90933,
          264531348088.0382,
          329183780346.86334,
          306176833715.2205,
          342774381700.6121,
          296946267447.61914,
          392718270288.30176,
          463598198650.34204,
          592792827796.088,
          26160648602.03535,
          33282852529.663948,
          42645207507.8022,
          57908898290.27901,
          80933619341.82765,
          98292660518.072,
          115888777247.5815,
          129288514715.63164,
          160900556777.31842,
          179169637551.4574,
          208373796584.83328,
          218280817633.8757,
          52294917283.18,
          70307637223.58858,
          88453168839.7395,
          124789457739.14763,
          165537035770.6565,
          202646437193.0723,
          214743374426.87048,
          219973253287.76245,
          150424128715.75836,
          165756170699.8151,
          176666264621.0713,
          240770207962.99414,
          24569338287.81885,
          36218184315.731285,
          47902193037.461426,
          63703671182.05465,
          87472977399.80713,
          112754859703.88852,
          137128138486.78479,
          146500635545.1733,
          91631822558.67848,
          81807115768.40459,
          73168001828.92632,
          99335920778.79921,
          18056332320.32925,
          23424190728.965458,
          31700325638.043633,
          37372114718.244484,
          44437640820.80006,
          52732470220.30413,
          57287947438.27155,
          62585581999.51044,
          50369310506.68402,
          65275620851.2565,
          73786500198.17523,
          101750154778.25371,
          6278380543.970838,
          8987280431.62103,
          11717564986.75599,
          15490013353.792063,
          20983941200.761997,
          26687734267.546227,
          33254471590.631,
          36346000744.780396,
          28418203993.7201,
          34521489478.548195,
          41557566962.58192,
          51774742721.419556,
          109461193459.58354,
          136221071505.48975,
          177409134906.3586,
          262589077073.78085,
          367176936800.9909,
          482340170513.63,
          528962031083.2007,
          612953611112.5573,
          735740746843.7397,
          814856426872.9403,
          997206698031.1682,
          1165759889360.7666,
          60758104611.54553,
          72989108704.37526,
          93230160068.96896,
          120051227737.46907,
          144836928909.29953,
          155590807217.6461,
          172061322425.375,
          198635036915.1658,
          208206690698.53162,
          224812535648.32883,
          262730098132.63278,
          305790367006.70483,
          70945330691.25,
          91804044355.98001,
          115762571238.20001,
          139243733012.16,
          174086796614.25598,
          170431587415.50046,
          183679999508.2651,
          201371579184.63376,
          222955601022.5441,
          231173833391.74063,
          253840431788.29648,
          283348281397.7852,
          43784293371.66347,
          56957505187.437325,
          69195263214.09006,
          94432289201.0317,
          129376797192.61014,
          181028003992.74075,
          200738267961.7001,
          269115388365.695,
          330361441740.66003,
          416204622976.16,
          438052273010.6903,
          601879503437.4926,
          503266612999.41003,
          580293841968.5,
          664933720414.44,
          777276942063.51,
          891382233156.3899,
          979129659734.34,
          1027209400659.1421,
          1234494698392.6252,
          1313860808996.9365,
          1533397976044.222,
          1766158504919.931,
          2017969309929.4646
         ],
         "yaxis": "y"
        },
        {
         "alignmentgroup": "True",
         "customdata": [
          [
           "Algeria"
          ],
          [
           "Algeria"
          ],
          [
           "Algeria"
          ],
          [
           "Algeria"
          ],
          [
           "Algeria"
          ],
          [
           "Algeria"
          ],
          [
           "Algeria"
          ],
          [
           "Algeria"
          ],
          [
           "Algeria"
          ],
          [
           "Algeria"
          ],
          [
           "Algeria"
          ],
          [
           "Algeria"
          ],
          [
           "Angola"
          ],
          [
           "Angola"
          ],
          [
           "Angola"
          ],
          [
           "Angola"
          ],
          [
           "Angola"
          ],
          [
           "Angola"
          ],
          [
           "Angola"
          ],
          [
           "Angola"
          ],
          [
           "Angola"
          ],
          [
           "Angola"
          ],
          [
           "Angola"
          ],
          [
           "Angola"
          ],
          [
           "Benin"
          ],
          [
           "Benin"
          ],
          [
           "Benin"
          ],
          [
           "Benin"
          ],
          [
           "Benin"
          ],
          [
           "Benin"
          ],
          [
           "Benin"
          ],
          [
           "Benin"
          ],
          [
           "Benin"
          ],
          [
           "Benin"
          ],
          [
           "Benin"
          ],
          [
           "Benin"
          ],
          [
           "Botswana"
          ],
          [
           "Botswana"
          ],
          [
           "Botswana"
          ],
          [
           "Botswana"
          ],
          [
           "Botswana"
          ],
          [
           "Botswana"
          ],
          [
           "Botswana"
          ],
          [
           "Botswana"
          ],
          [
           "Botswana"
          ],
          [
           "Botswana"
          ],
          [
           "Botswana"
          ],
          [
           "Botswana"
          ],
          [
           "Burkina Faso"
          ],
          [
           "Burkina Faso"
          ],
          [
           "Burkina Faso"
          ],
          [
           "Burkina Faso"
          ],
          [
           "Burkina Faso"
          ],
          [
           "Burkina Faso"
          ],
          [
           "Burkina Faso"
          ],
          [
           "Burkina Faso"
          ],
          [
           "Burkina Faso"
          ],
          [
           "Burkina Faso"
          ],
          [
           "Burkina Faso"
          ],
          [
           "Burkina Faso"
          ],
          [
           "Burundi"
          ],
          [
           "Burundi"
          ],
          [
           "Burundi"
          ],
          [
           "Burundi"
          ],
          [
           "Burundi"
          ],
          [
           "Burundi"
          ],
          [
           "Burundi"
          ],
          [
           "Burundi"
          ],
          [
           "Burundi"
          ],
          [
           "Burundi"
          ],
          [
           "Burundi"
          ],
          [
           "Burundi"
          ],
          [
           "Cameroon"
          ],
          [
           "Cameroon"
          ],
          [
           "Cameroon"
          ],
          [
           "Cameroon"
          ],
          [
           "Cameroon"
          ],
          [
           "Cameroon"
          ],
          [
           "Cameroon"
          ],
          [
           "Cameroon"
          ],
          [
           "Cameroon"
          ],
          [
           "Cameroon"
          ],
          [
           "Cameroon"
          ],
          [
           "Cameroon"
          ],
          [
           "Central African Republic"
          ],
          [
           "Central African Republic"
          ],
          [
           "Central African Republic"
          ],
          [
           "Central African Republic"
          ],
          [
           "Central African Republic"
          ],
          [
           "Central African Republic"
          ],
          [
           "Central African Republic"
          ],
          [
           "Central African Republic"
          ],
          [
           "Central African Republic"
          ],
          [
           "Central African Republic"
          ],
          [
           "Central African Republic"
          ],
          [
           "Central African Republic"
          ],
          [
           "Chad"
          ],
          [
           "Chad"
          ],
          [
           "Chad"
          ],
          [
           "Chad"
          ],
          [
           "Chad"
          ],
          [
           "Chad"
          ],
          [
           "Chad"
          ],
          [
           "Chad"
          ],
          [
           "Chad"
          ],
          [
           "Chad"
          ],
          [
           "Chad"
          ],
          [
           "Chad"
          ],
          [
           "Comoros"
          ],
          [
           "Comoros"
          ],
          [
           "Comoros"
          ],
          [
           "Comoros"
          ],
          [
           "Comoros"
          ],
          [
           "Comoros"
          ],
          [
           "Comoros"
          ],
          [
           "Comoros"
          ],
          [
           "Comoros"
          ],
          [
           "Comoros"
          ],
          [
           "Comoros"
          ],
          [
           "Comoros"
          ],
          [
           "Congo, Dem. Rep."
          ],
          [
           "Congo, Dem. Rep."
          ],
          [
           "Congo, Dem. Rep."
          ],
          [
           "Congo, Dem. Rep."
          ],
          [
           "Congo, Dem. Rep."
          ],
          [
           "Congo, Dem. Rep."
          ],
          [
           "Congo, Dem. Rep."
          ],
          [
           "Congo, Dem. Rep."
          ],
          [
           "Congo, Dem. Rep."
          ],
          [
           "Congo, Dem. Rep."
          ],
          [
           "Congo, Dem. Rep."
          ],
          [
           "Congo, Dem. Rep."
          ],
          [
           "Congo, Rep."
          ],
          [
           "Congo, Rep."
          ],
          [
           "Congo, Rep."
          ],
          [
           "Congo, Rep."
          ],
          [
           "Congo, Rep."
          ],
          [
           "Congo, Rep."
          ],
          [
           "Congo, Rep."
          ],
          [
           "Congo, Rep."
          ],
          [
           "Congo, Rep."
          ],
          [
           "Congo, Rep."
          ],
          [
           "Congo, Rep."
          ],
          [
           "Congo, Rep."
          ],
          [
           "Cote d'Ivoire"
          ],
          [
           "Cote d'Ivoire"
          ],
          [
           "Cote d'Ivoire"
          ],
          [
           "Cote d'Ivoire"
          ],
          [
           "Cote d'Ivoire"
          ],
          [
           "Cote d'Ivoire"
          ],
          [
           "Cote d'Ivoire"
          ],
          [
           "Cote d'Ivoire"
          ],
          [
           "Cote d'Ivoire"
          ],
          [
           "Cote d'Ivoire"
          ],
          [
           "Cote d'Ivoire"
          ],
          [
           "Cote d'Ivoire"
          ],
          [
           "Djibouti"
          ],
          [
           "Djibouti"
          ],
          [
           "Djibouti"
          ],
          [
           "Djibouti"
          ],
          [
           "Djibouti"
          ],
          [
           "Djibouti"
          ],
          [
           "Djibouti"
          ],
          [
           "Djibouti"
          ],
          [
           "Djibouti"
          ],
          [
           "Djibouti"
          ],
          [
           "Djibouti"
          ],
          [
           "Djibouti"
          ],
          [
           "Egypt"
          ],
          [
           "Egypt"
          ],
          [
           "Egypt"
          ],
          [
           "Egypt"
          ],
          [
           "Egypt"
          ],
          [
           "Egypt"
          ],
          [
           "Egypt"
          ],
          [
           "Egypt"
          ],
          [
           "Egypt"
          ],
          [
           "Egypt"
          ],
          [
           "Egypt"
          ],
          [
           "Egypt"
          ],
          [
           "Equatorial Guinea"
          ],
          [
           "Equatorial Guinea"
          ],
          [
           "Equatorial Guinea"
          ],
          [
           "Equatorial Guinea"
          ],
          [
           "Equatorial Guinea"
          ],
          [
           "Equatorial Guinea"
          ],
          [
           "Equatorial Guinea"
          ],
          [
           "Equatorial Guinea"
          ],
          [
           "Equatorial Guinea"
          ],
          [
           "Equatorial Guinea"
          ],
          [
           "Equatorial Guinea"
          ],
          [
           "Equatorial Guinea"
          ],
          [
           "Eritrea"
          ],
          [
           "Eritrea"
          ],
          [
           "Eritrea"
          ],
          [
           "Eritrea"
          ],
          [
           "Eritrea"
          ],
          [
           "Eritrea"
          ],
          [
           "Eritrea"
          ],
          [
           "Eritrea"
          ],
          [
           "Eritrea"
          ],
          [
           "Eritrea"
          ],
          [
           "Eritrea"
          ],
          [
           "Eritrea"
          ],
          [
           "Ethiopia"
          ],
          [
           "Ethiopia"
          ],
          [
           "Ethiopia"
          ],
          [
           "Ethiopia"
          ],
          [
           "Ethiopia"
          ],
          [
           "Ethiopia"
          ],
          [
           "Ethiopia"
          ],
          [
           "Ethiopia"
          ],
          [
           "Ethiopia"
          ],
          [
           "Ethiopia"
          ],
          [
           "Ethiopia"
          ],
          [
           "Ethiopia"
          ],
          [
           "Gabon"
          ],
          [
           "Gabon"
          ],
          [
           "Gabon"
          ],
          [
           "Gabon"
          ],
          [
           "Gabon"
          ],
          [
           "Gabon"
          ],
          [
           "Gabon"
          ],
          [
           "Gabon"
          ],
          [
           "Gabon"
          ],
          [
           "Gabon"
          ],
          [
           "Gabon"
          ],
          [
           "Gabon"
          ],
          [
           "Gambia"
          ],
          [
           "Gambia"
          ],
          [
           "Gambia"
          ],
          [
           "Gambia"
          ],
          [
           "Gambia"
          ],
          [
           "Gambia"
          ],
          [
           "Gambia"
          ],
          [
           "Gambia"
          ],
          [
           "Gambia"
          ],
          [
           "Gambia"
          ],
          [
           "Gambia"
          ],
          [
           "Gambia"
          ],
          [
           "Ghana"
          ],
          [
           "Ghana"
          ],
          [
           "Ghana"
          ],
          [
           "Ghana"
          ],
          [
           "Ghana"
          ],
          [
           "Ghana"
          ],
          [
           "Ghana"
          ],
          [
           "Ghana"
          ],
          [
           "Ghana"
          ],
          [
           "Ghana"
          ],
          [
           "Ghana"
          ],
          [
           "Ghana"
          ],
          [
           "Guinea"
          ],
          [
           "Guinea"
          ],
          [
           "Guinea"
          ],
          [
           "Guinea"
          ],
          [
           "Guinea"
          ],
          [
           "Guinea"
          ],
          [
           "Guinea"
          ],
          [
           "Guinea"
          ],
          [
           "Guinea"
          ],
          [
           "Guinea"
          ],
          [
           "Guinea"
          ],
          [
           "Guinea"
          ],
          [
           "Guinea-Bissau"
          ],
          [
           "Guinea-Bissau"
          ],
          [
           "Guinea-Bissau"
          ],
          [
           "Guinea-Bissau"
          ],
          [
           "Guinea-Bissau"
          ],
          [
           "Guinea-Bissau"
          ],
          [
           "Guinea-Bissau"
          ],
          [
           "Guinea-Bissau"
          ],
          [
           "Guinea-Bissau"
          ],
          [
           "Guinea-Bissau"
          ],
          [
           "Guinea-Bissau"
          ],
          [
           "Guinea-Bissau"
          ],
          [
           "Kenya"
          ],
          [
           "Kenya"
          ],
          [
           "Kenya"
          ],
          [
           "Kenya"
          ],
          [
           "Kenya"
          ],
          [
           "Kenya"
          ],
          [
           "Kenya"
          ],
          [
           "Kenya"
          ],
          [
           "Kenya"
          ],
          [
           "Kenya"
          ],
          [
           "Kenya"
          ],
          [
           "Kenya"
          ],
          [
           "Lesotho"
          ],
          [
           "Lesotho"
          ],
          [
           "Lesotho"
          ],
          [
           "Lesotho"
          ],
          [
           "Lesotho"
          ],
          [
           "Lesotho"
          ],
          [
           "Lesotho"
          ],
          [
           "Lesotho"
          ],
          [
           "Lesotho"
          ],
          [
           "Lesotho"
          ],
          [
           "Lesotho"
          ],
          [
           "Lesotho"
          ],
          [
           "Liberia"
          ],
          [
           "Liberia"
          ],
          [
           "Liberia"
          ],
          [
           "Liberia"
          ],
          [
           "Liberia"
          ],
          [
           "Liberia"
          ],
          [
           "Liberia"
          ],
          [
           "Liberia"
          ],
          [
           "Liberia"
          ],
          [
           "Liberia"
          ],
          [
           "Liberia"
          ],
          [
           "Liberia"
          ],
          [
           "Libya"
          ],
          [
           "Libya"
          ],
          [
           "Libya"
          ],
          [
           "Libya"
          ],
          [
           "Libya"
          ],
          [
           "Libya"
          ],
          [
           "Libya"
          ],
          [
           "Libya"
          ],
          [
           "Libya"
          ],
          [
           "Libya"
          ],
          [
           "Libya"
          ],
          [
           "Libya"
          ],
          [
           "Madagascar"
          ],
          [
           "Madagascar"
          ],
          [
           "Madagascar"
          ],
          [
           "Madagascar"
          ],
          [
           "Madagascar"
          ],
          [
           "Madagascar"
          ],
          [
           "Madagascar"
          ],
          [
           "Madagascar"
          ],
          [
           "Madagascar"
          ],
          [
           "Madagascar"
          ],
          [
           "Madagascar"
          ],
          [
           "Madagascar"
          ],
          [
           "Malawi"
          ],
          [
           "Malawi"
          ],
          [
           "Malawi"
          ],
          [
           "Malawi"
          ],
          [
           "Malawi"
          ],
          [
           "Malawi"
          ],
          [
           "Malawi"
          ],
          [
           "Malawi"
          ],
          [
           "Malawi"
          ],
          [
           "Malawi"
          ],
          [
           "Malawi"
          ],
          [
           "Malawi"
          ],
          [
           "Mali"
          ],
          [
           "Mali"
          ],
          [
           "Mali"
          ],
          [
           "Mali"
          ],
          [
           "Mali"
          ],
          [
           "Mali"
          ],
          [
           "Mali"
          ],
          [
           "Mali"
          ],
          [
           "Mali"
          ],
          [
           "Mali"
          ],
          [
           "Mali"
          ],
          [
           "Mali"
          ],
          [
           "Mauritania"
          ],
          [
           "Mauritania"
          ],
          [
           "Mauritania"
          ],
          [
           "Mauritania"
          ],
          [
           "Mauritania"
          ],
          [
           "Mauritania"
          ],
          [
           "Mauritania"
          ],
          [
           "Mauritania"
          ],
          [
           "Mauritania"
          ],
          [
           "Mauritania"
          ],
          [
           "Mauritania"
          ],
          [
           "Mauritania"
          ],
          [
           "Mauritius"
          ],
          [
           "Mauritius"
          ],
          [
           "Mauritius"
          ],
          [
           "Mauritius"
          ],
          [
           "Mauritius"
          ],
          [
           "Mauritius"
          ],
          [
           "Mauritius"
          ],
          [
           "Mauritius"
          ],
          [
           "Mauritius"
          ],
          [
           "Mauritius"
          ],
          [
           "Mauritius"
          ],
          [
           "Mauritius"
          ],
          [
           "Morocco"
          ],
          [
           "Morocco"
          ],
          [
           "Morocco"
          ],
          [
           "Morocco"
          ],
          [
           "Morocco"
          ],
          [
           "Morocco"
          ],
          [
           "Morocco"
          ],
          [
           "Morocco"
          ],
          [
           "Morocco"
          ],
          [
           "Morocco"
          ],
          [
           "Morocco"
          ],
          [
           "Morocco"
          ],
          [
           "Mozambique"
          ],
          [
           "Mozambique"
          ],
          [
           "Mozambique"
          ],
          [
           "Mozambique"
          ],
          [
           "Mozambique"
          ],
          [
           "Mozambique"
          ],
          [
           "Mozambique"
          ],
          [
           "Mozambique"
          ],
          [
           "Mozambique"
          ],
          [
           "Mozambique"
          ],
          [
           "Mozambique"
          ],
          [
           "Mozambique"
          ],
          [
           "Namibia"
          ],
          [
           "Namibia"
          ],
          [
           "Namibia"
          ],
          [
           "Namibia"
          ],
          [
           "Namibia"
          ],
          [
           "Namibia"
          ],
          [
           "Namibia"
          ],
          [
           "Namibia"
          ],
          [
           "Namibia"
          ],
          [
           "Namibia"
          ],
          [
           "Namibia"
          ],
          [
           "Namibia"
          ],
          [
           "Niger"
          ],
          [
           "Niger"
          ],
          [
           "Niger"
          ],
          [
           "Niger"
          ],
          [
           "Niger"
          ],
          [
           "Niger"
          ],
          [
           "Niger"
          ],
          [
           "Niger"
          ],
          [
           "Niger"
          ],
          [
           "Niger"
          ],
          [
           "Niger"
          ],
          [
           "Niger"
          ],
          [
           "Nigeria"
          ],
          [
           "Nigeria"
          ],
          [
           "Nigeria"
          ],
          [
           "Nigeria"
          ],
          [
           "Nigeria"
          ],
          [
           "Nigeria"
          ],
          [
           "Nigeria"
          ],
          [
           "Nigeria"
          ],
          [
           "Nigeria"
          ],
          [
           "Nigeria"
          ],
          [
           "Nigeria"
          ],
          [
           "Nigeria"
          ],
          [
           "Reunion"
          ],
          [
           "Reunion"
          ],
          [
           "Reunion"
          ],
          [
           "Reunion"
          ],
          [
           "Reunion"
          ],
          [
           "Reunion"
          ],
          [
           "Reunion"
          ],
          [
           "Reunion"
          ],
          [
           "Reunion"
          ],
          [
           "Reunion"
          ],
          [
           "Reunion"
          ],
          [
           "Reunion"
          ],
          [
           "Rwanda"
          ],
          [
           "Rwanda"
          ],
          [
           "Rwanda"
          ],
          [
           "Rwanda"
          ],
          [
           "Rwanda"
          ],
          [
           "Rwanda"
          ],
          [
           "Rwanda"
          ],
          [
           "Rwanda"
          ],
          [
           "Rwanda"
          ],
          [
           "Rwanda"
          ],
          [
           "Rwanda"
          ],
          [
           "Rwanda"
          ],
          [
           "Sao Tome and Principe"
          ],
          [
           "Sao Tome and Principe"
          ],
          [
           "Sao Tome and Principe"
          ],
          [
           "Sao Tome and Principe"
          ],
          [
           "Sao Tome and Principe"
          ],
          [
           "Sao Tome and Principe"
          ],
          [
           "Sao Tome and Principe"
          ],
          [
           "Sao Tome and Principe"
          ],
          [
           "Sao Tome and Principe"
          ],
          [
           "Sao Tome and Principe"
          ],
          [
           "Sao Tome and Principe"
          ],
          [
           "Sao Tome and Principe"
          ],
          [
           "Senegal"
          ],
          [
           "Senegal"
          ],
          [
           "Senegal"
          ],
          [
           "Senegal"
          ],
          [
           "Senegal"
          ],
          [
           "Senegal"
          ],
          [
           "Senegal"
          ],
          [
           "Senegal"
          ],
          [
           "Senegal"
          ],
          [
           "Senegal"
          ],
          [
           "Senegal"
          ],
          [
           "Senegal"
          ],
          [
           "Sierra Leone"
          ],
          [
           "Sierra Leone"
          ],
          [
           "Sierra Leone"
          ],
          [
           "Sierra Leone"
          ],
          [
           "Sierra Leone"
          ],
          [
           "Sierra Leone"
          ],
          [
           "Sierra Leone"
          ],
          [
           "Sierra Leone"
          ],
          [
           "Sierra Leone"
          ],
          [
           "Sierra Leone"
          ],
          [
           "Sierra Leone"
          ],
          [
           "Sierra Leone"
          ],
          [
           "Somalia"
          ],
          [
           "Somalia"
          ],
          [
           "Somalia"
          ],
          [
           "Somalia"
          ],
          [
           "Somalia"
          ],
          [
           "Somalia"
          ],
          [
           "Somalia"
          ],
          [
           "Somalia"
          ],
          [
           "Somalia"
          ],
          [
           "Somalia"
          ],
          [
           "Somalia"
          ],
          [
           "Somalia"
          ],
          [
           "South Africa"
          ],
          [
           "South Africa"
          ],
          [
           "South Africa"
          ],
          [
           "South Africa"
          ],
          [
           "South Africa"
          ],
          [
           "South Africa"
          ],
          [
           "South Africa"
          ],
          [
           "South Africa"
          ],
          [
           "South Africa"
          ],
          [
           "South Africa"
          ],
          [
           "South Africa"
          ],
          [
           "South Africa"
          ],
          [
           "Sudan"
          ],
          [
           "Sudan"
          ],
          [
           "Sudan"
          ],
          [
           "Sudan"
          ],
          [
           "Sudan"
          ],
          [
           "Sudan"
          ],
          [
           "Sudan"
          ],
          [
           "Sudan"
          ],
          [
           "Sudan"
          ],
          [
           "Sudan"
          ],
          [
           "Sudan"
          ],
          [
           "Sudan"
          ],
          [
           "Swaziland"
          ],
          [
           "Swaziland"
          ],
          [
           "Swaziland"
          ],
          [
           "Swaziland"
          ],
          [
           "Swaziland"
          ],
          [
           "Swaziland"
          ],
          [
           "Swaziland"
          ],
          [
           "Swaziland"
          ],
          [
           "Swaziland"
          ],
          [
           "Swaziland"
          ],
          [
           "Swaziland"
          ],
          [
           "Swaziland"
          ],
          [
           "Tanzania"
          ],
          [
           "Tanzania"
          ],
          [
           "Tanzania"
          ],
          [
           "Tanzania"
          ],
          [
           "Tanzania"
          ],
          [
           "Tanzania"
          ],
          [
           "Tanzania"
          ],
          [
           "Tanzania"
          ],
          [
           "Tanzania"
          ],
          [
           "Tanzania"
          ],
          [
           "Tanzania"
          ],
          [
           "Tanzania"
          ],
          [
           "Togo"
          ],
          [
           "Togo"
          ],
          [
           "Togo"
          ],
          [
           "Togo"
          ],
          [
           "Togo"
          ],
          [
           "Togo"
          ],
          [
           "Togo"
          ],
          [
           "Togo"
          ],
          [
           "Togo"
          ],
          [
           "Togo"
          ],
          [
           "Togo"
          ],
          [
           "Togo"
          ],
          [
           "Tunisia"
          ],
          [
           "Tunisia"
          ],
          [
           "Tunisia"
          ],
          [
           "Tunisia"
          ],
          [
           "Tunisia"
          ],
          [
           "Tunisia"
          ],
          [
           "Tunisia"
          ],
          [
           "Tunisia"
          ],
          [
           "Tunisia"
          ],
          [
           "Tunisia"
          ],
          [
           "Tunisia"
          ],
          [
           "Tunisia"
          ],
          [
           "Uganda"
          ],
          [
           "Uganda"
          ],
          [
           "Uganda"
          ],
          [
           "Uganda"
          ],
          [
           "Uganda"
          ],
          [
           "Uganda"
          ],
          [
           "Uganda"
          ],
          [
           "Uganda"
          ],
          [
           "Uganda"
          ],
          [
           "Uganda"
          ],
          [
           "Uganda"
          ],
          [
           "Uganda"
          ],
          [
           "Zambia"
          ],
          [
           "Zambia"
          ],
          [
           "Zambia"
          ],
          [
           "Zambia"
          ],
          [
           "Zambia"
          ],
          [
           "Zambia"
          ],
          [
           "Zambia"
          ],
          [
           "Zambia"
          ],
          [
           "Zambia"
          ],
          [
           "Zambia"
          ],
          [
           "Zambia"
          ],
          [
           "Zambia"
          ],
          [
           "Zimbabwe"
          ],
          [
           "Zimbabwe"
          ],
          [
           "Zimbabwe"
          ],
          [
           "Zimbabwe"
          ],
          [
           "Zimbabwe"
          ],
          [
           "Zimbabwe"
          ],
          [
           "Zimbabwe"
          ],
          [
           "Zimbabwe"
          ],
          [
           "Zimbabwe"
          ],
          [
           "Zimbabwe"
          ],
          [
           "Zimbabwe"
          ],
          [
           "Zimbabwe"
          ]
         ],
         "hovertemplate": "continent=Africa<br>year=%{x}<br>gdp=%{y}<br>country=%{customdata[0]}<extra></extra>",
         "legendgroup": "Africa",
         "marker": {
          "color": "#00cc96"
         },
         "name": "Africa",
         "offsetgroup": "Africa",
         "orientation": "v",
         "showlegend": true,
         "textposition": "auto",
         "type": "bar",
         "x": [
          1952,
          1957,
          1962,
          1967,
          1972,
          1977,
          1982,
          1987,
          1992,
          1997,
          2002,
          2007,
          1952,
          1957,
          1962,
          1967,
          1972,
          1977,
          1982,
          1987,
          1992,
          1997,
          2002,
          2007,
          1952,
          1957,
          1962,
          1967,
          1972,
          1977,
          1982,
          1987,
          1992,
          1997,
          2002,
          2007,
          1952,
          1957,
          1962,
          1967,
          1972,
          1977,
          1982,
          1987,
          1992,
          1997,
          2002,
          2007,
          1952,
          1957,
          1962,
          1967,
          1972,
          1977,
          1982,
          1987,
          1992,
          1997,
          2002,
          2007,
          1952,
          1957,
          1962,
          1967,
          1972,
          1977,
          1982,
          1987,
          1992,
          1997,
          2002,
          2007,
          1952,
          1957,
          1962,
          1967,
          1972,
          1977,
          1982,
          1987,
          1992,
          1997,
          2002,
          2007,
          1952,
          1957,
          1962,
          1967,
          1972,
          1977,
          1982,
          1987,
          1992,
          1997,
          2002,
          2007,
          1952,
          1957,
          1962,
          1967,
          1972,
          1977,
          1982,
          1987,
          1992,
          1997,
          2002,
          2007,
          1952,
          1957,
          1962,
          1967,
          1972,
          1977,
          1982,
          1987,
          1992,
          1997,
          2002,
          2007,
          1952,
          1957,
          1962,
          1967,
          1972,
          1977,
          1982,
          1987,
          1992,
          1997,
          2002,
          2007,
          1952,
          1957,
          1962,
          1967,
          1972,
          1977,
          1982,
          1987,
          1992,
          1997,
          2002,
          2007,
          1952,
          1957,
          1962,
          1967,
          1972,
          1977,
          1982,
          1987,
          1992,
          1997,
          2002,
          2007,
          1952,
          1957,
          1962,
          1967,
          1972,
          1977,
          1982,
          1987,
          1992,
          1997,
          2002,
          2007,
          1952,
          1957,
          1962,
          1967,
          1972,
          1977,
          1982,
          1987,
          1992,
          1997,
          2002,
          2007,
          1952,
          1957,
          1962,
          1967,
          1972,
          1977,
          1982,
          1987,
          1992,
          1997,
          2002,
          2007,
          1952,
          1957,
          1962,
          1967,
          1972,
          1977,
          1982,
          1987,
          1992,
          1997,
          2002,
          2007,
          1952,
          1957,
          1962,
          1967,
          1972,
          1977,
          1982,
          1987,
          1992,
          1997,
          2002,
          2007,
          1952,
          1957,
          1962,
          1967,
          1972,
          1977,
          1982,
          1987,
          1992,
          1997,
          2002,
          2007,
          1952,
          1957,
          1962,
          1967,
          1972,
          1977,
          1982,
          1987,
          1992,
          1997,
          2002,
          2007,
          1952,
          1957,
          1962,
          1967,
          1972,
          1977,
          1982,
          1987,
          1992,
          1997,
          2002,
          2007,
          1952,
          1957,
          1962,
          1967,
          1972,
          1977,
          1982,
          1987,
          1992,
          1997,
          2002,
          2007,
          1952,
          1957,
          1962,
          1967,
          1972,
          1977,
          1982,
          1987,
          1992,
          1997,
          2002,
          2007,
          1952,
          1957,
          1962,
          1967,
          1972,
          1977,
          1982,
          1987,
          1992,
          1997,
          2002,
          2007,
          1952,
          1957,
          1962,
          1967,
          1972,
          1977,
          1982,
          1987,
          1992,
          1997,
          2002,
          2007,
          1952,
          1957,
          1962,
          1967,
          1972,
          1977,
          1982,
          1987,
          1992,
          1997,
          2002,
          2007,
          1952,
          1957,
          1962,
          1967,
          1972,
          1977,
          1982,
          1987,
          1992,
          1997,
          2002,
          2007,
          1952,
          1957,
          1962,
          1967,
          1972,
          1977,
          1982,
          1987,
          1992,
          1997,
          2002,
          2007,
          1952,
          1957,
          1962,
          1967,
          1972,
          1977,
          1982,
          1987,
          1992,
          1997,
          2002,
          2007,
          1952,
          1957,
          1962,
          1967,
          1972,
          1977,
          1982,
          1987,
          1992,
          1997,
          2002,
          2007,
          1952,
          1957,
          1962,
          1967,
          1972,
          1977,
          1982,
          1987,
          1992,
          1997,
          2002,
          2007,
          1952,
          1957,
          1962,
          1967,
          1972,
          1977,
          1982,
          1987,
          1992,
          1997,
          2002,
          2007,
          1952,
          1957,
          1962,
          1967,
          1972,
          1977,
          1982,
          1987,
          1992,
          1997,
          2002,
          2007,
          1952,
          1957,
          1962,
          1967,
          1972,
          1977,
          1982,
          1987,
          1992,
          1997,
          2002,
          2007,
          1952,
          1957,
          1962,
          1967,
          1972,
          1977,
          1982,
          1987,
          1992,
          1997,
          2002,
          2007,
          1952,
          1957,
          1962,
          1967,
          1972,
          1977,
          1982,
          1987,
          1992,
          1997,
          2002,
          2007,
          1952,
          1957,
          1962,
          1967,
          1972,
          1977,
          1982,
          1987,
          1992,
          1997,
          2002,
          2007,
          1952,
          1957,
          1962,
          1967,
          1972,
          1977,
          1982,
          1987,
          1992,
          1997,
          2002,
          2007,
          1952,
          1957,
          1962,
          1967,
          1972,
          1977,
          1982,
          1987,
          1992,
          1997,
          2002,
          2007,
          1952,
          1957,
          1962,
          1967,
          1972,
          1977,
          1982,
          1987,
          1992,
          1997,
          2002,
          2007,
          1952,
          1957,
          1962,
          1967,
          1972,
          1977,
          1982,
          1987,
          1992,
          1997,
          2002,
          2007,
          1952,
          1957,
          1962,
          1967,
          1972,
          1977,
          1982,
          1987,
          1992,
          1997,
          2002,
          2007,
          1952,
          1957,
          1962,
          1967,
          1972,
          1977,
          1982,
          1987,
          1992,
          1997,
          2002,
          2007,
          1952,
          1957,
          1962,
          1967,
          1972,
          1977,
          1982,
          1987,
          1992,
          1997,
          2002,
          2007,
          1952,
          1957,
          1962,
          1967,
          1972,
          1977,
          1982,
          1987,
          1992,
          1997,
          2002,
          2007,
          1952,
          1957,
          1962,
          1967,
          1972,
          1977,
          1982,
          1987,
          1992,
          1997,
          2002,
          2007,
          1952,
          1957,
          1962,
          1967,
          1972,
          1977,
          1982,
          1987,
          1992,
          1997,
          2002,
          2007,
          1952,
          1957,
          1962,
          1967,
          1972,
          1977,
          1982,
          1987,
          1992,
          1997,
          2002,
          2007,
          1952,
          1957,
          1962,
          1967,
          1972,
          1977,
          1982,
          1987,
          1992,
          1997,
          2002,
          2007,
          1952,
          1957,
          1962,
          1967,
          1972,
          1977,
          1982,
          1987,
          1992,
          1997,
          2002,
          2007,
          1952,
          1957,
          1962,
          1967,
          1972,
          1977,
          1982,
          1987,
          1992,
          1997,
          2002,
          2007,
          1952,
          1957,
          1962,
          1967,
          1972,
          1977,
          1982,
          1987,
          1992,
          1997,
          2002,
          2007
         ],
         "xaxis": "x",
         "y": [
          22725632677.912125,
          30956113719.685688,
          28061403854.402237,
          41433235246.85373,
          61739408942.54384,
          84227416173.98383,
          115097120652.66939,
          132119742844.66928,
          132102425042.61534,
          139467033682.09778,
          165447670333.36826,
          207444851958.21744,
          14899557133.311934,
          17460618347.372864,
          20603593596.04313,
          28980597821.744877,
          32264255582.578285,
          18541315838.474625,
          19343845632.962048,
          19136019188.72553,
          22956828370.011784,
          22486820880.881214,
          30134833900.64707,
          59583895818.22309,
          1847398090.5429997,
          1847398090.9494264,
          2043222288.5414696,
          2514308802.188274,
          2998327102.248753,
          3260657629.222017,
          4653595792.118448,
          5202273024.965879,
          5934204759.414951,
          7479326759.295361,
          9645995478.412203,
          11643151767.544123,
          376510766.46073556,
          435828972.13240105,
          504382347.55476964,
          672391397.310054,
          1401969807.0670142,
          2512321368.748096,
          4416187131.82605,
          7144114193.9784,
          10679301652.14003,
          13286645461.047768,
          17939694531.36276,
          20603633701.611874,
          2428339520.2509327,
          2909042417.9237566,
          3554493256.928419,
          4075818934.4152193,
          4644537855.312902,
          4378232963.874324,
          5355436506.563958,
          6919413539.727277,
          8272383440.6720495,
          9796843171.206396,
          12712408470.32219,
          17435461729.74178,
          829789526.7329766,
          1012495477.6200559,
          1052081766.9882795,
          1375623555.0489507,
          1638263359.0754337,
          2132330701.2484167,
          2563212235.30471,
          3187457567.514234,
          3669693671.311361,
          2835010319.923958,
          3134233881.438583,
          3608510288.2232585,
          5873970852.627885,
          7037836705.936378,
          8108811857.223154,
          9556813969.872889,
          11824439929.190786,
          14195884905.642145,
          21905813152.60734,
          28058456117.705402,
          22355673217.74654,
          24052491091.467422,
          30808779174.43261,
          36137515700.94532,
          1383806691.428535,
          1657993504.365152,
          1817613997.682934,
          1969510917.91537,
          2062193784.3765001,
          2404605486.968154,
          2369849412.1271696,
          2399456439.023154,
          2442004280.063125,
          2737291281.7113624,
          2990229179.3042884,
          3084613078.781406,
          3161726559.872274,
          3787904963.556335,
          4378505050.646707,
          4184010240.491355,
          4304976524.384116,
          4976220796.687,
          3889896143.5808706,
          5237128465.995194,
          6802736597.5131,
          7599528805.960882,
          10215721151.49454,
          17447579585.737267,
          169790012.724096,
          207019199.012544,
          269639001.76154196,
          407807571.736054,
          484446733.347225,
          357337879.939733,
          441765574.237369,
          519962442.552568,
          566630869.24173,
          619649302.95177,
          660959256.627156,
          701111696.196032,
          11005650695.081629,
          14111429069.117739,
          15673346681.931942,
          17181093743.005096,
          20819549223.44933,
          21072345136.19534,
          20648009138.66256,
          23871157044.32574,
          19074139151.97324,
          14922290060.339079,
          13355730548.020279,
          17931726045.03295,
          1817161865.9269302,
          2177213473.589976,
          2582905425.016068,
          3159326072.0459204,
          4307096219.148814,
          5008605218.842082,
          8659832782.05667,
          8671665463.487013,
          9675414210.846617,
          9758959756.464071,
          11597728065.426151,
          13805935492.65678,
          4133872900.463908,
          4952956552.5,
          6625733026.822625,
          9736712727.823511,
          14439714172.854256,
          18781242084.85098,
          23491934452.59572,
          23211215640.203766,
          21050180710.631435,
          26125858896.02357,
          26797508004.7935,
          27826215570.25181,
          168578116.816775,
          205850893.07967603,
          271580892.765174,
          385409786.317521,
          660702490.730496,
          704780255.165268,
          881091313.2893971,
          895783901.2121999,
          913198814.0939522,
          791942757.749472,
          853786444.0696721,
          1033689705.3380581,
          31530929611.370506,
          36487093093.66455,
          47706874227.34758,
          57497577541.344864,
          70450495584.02629,
          108032201471.66727,
          160056715026.8508,
          205148680925.85403,
          225416799454.9186,
          275990419358.7009,
          348572216623.03546,
          447970942204.7539,
          81501034.5602684,
          99247227.56746821,
          145255876.11230797,
          237930439.59366003,
          186663659.8077313,
          184691860.57917,
          264878362.3100241,
          329947736.7037356,
          439053960.276492,
          1238289912.258105,
          3818060562.4293,
          6699346424.289749,
          473266515.93319607,
          530907910.97008485,
          634974530.3689594,
          853356390.8133981,
          1162468889.1589332,
          1270778258.8869433,
          1384253502.731342,
          1519605766.2033348,
          2138181473.1580882,
          3707155863.0020103,
          3378916934.3722973,
          3146934083.9529066,
          7554712172.1051035,
          8644931130.564203,
          10547387620.62129,
          14379218703.505207,
          17423536805.781246,
          19275480698.056137,
          22023287795.452908,
          24670606852.18233,
          21947694837.133503,
          30881810733.929092,
          36015439731.14233,
          52854838162.23072,
          1806274139.9854503,
          2164168458.047496,
          3021697340.555742,
          4087468046.690948,
          6133985999.766569,
          15360355361.073761,
          11393570619.155561,
          10445389597.350681,
          13329318031.607279,
          16580702573.995321,
          16269512983.111681,
          19213678514.15884,
          137960780.995312,
          168337466.691965,
          224281196.22952,
          323005424.8106532,
          390973259.13756627,
          538173615.3642919,
          598041000.1484483,
          518935047.71040666,
          682520622.6894385,
          807858171.4846969,
          962979227.3322701,
          1270911775.4838135,
          5085960279.254037,
          6669702328.689655,
          8753047553.087263,
          9557408661.895079,
          11021245951.47696,
          10466686429.74781,
          9987067385.608322,
          12000468163.685463,
          15058811881.20565,
          18514906876.209854,
          22852118178.318073,
          30366847330.241577,
          1359290494.4137828,
          1657762332.321787,
          2155215395.1670218,
          2446225437.1339965,
          2826777030.028981,
          3697319890.2285714,
          4038075238.194777,
          4551695525.657611,
          5552951540.4196415,
          6998056844.311911,
          8328528109.017367,
          9377348758.339535,
          174108987.27830702,
          259547084.50997704,
          327743619.74295,
          430269336.40393746,
          512936468.32612365,
          569895199.8055184,
          692279501.2130277,
          683042950.1421604,
          783516180.5286227,
          950984748.8867148,
          767102932.3085784,
          852652874.1974629,
          5517327763.298273,
          7040578918.948341,
          7784373796.899472,
          10769742282.352983,
          14723063007.16688,
          18380903573.734417,
          23811625092.908535,
          28870449152.310192,
          33575604755.227623,
          38452513269.635376,
          40411021465.956345,
          52106565927.142914,
          223760204.7712387,
          273279221.6012038,
          367796847.04340386,
          496833953.22406995,
          554571893.9555238,
          932847869.1801791,
          1125581635.8690717,
          1237769947.98872,
          1762598359.1406374,
          2351921523.907062,
          2610012082.9419,
          3158513357.4098577,
          496896772.11709887,
          606035661.8380951,
          705729840.04935,
          912988789.2569097,
          1190558369.5117981,
          1090864191.369331,
          1119723032.3696249,
          1148581873.3506222,
          1217843092.0424037,
          1340624342.8743298,
          1495937378.2921028,
          1323912407.325193,
          2434651995.6757402,
          4143382666.77531,
          9742712723.450207,
          33025475319.088562,
          45886525492.48316,
          59746434997.768074,
          58067421827.09813,
          44726416798.581,
          42074394127.753006,
          45061918969.36153,
          51187726429.174194,
          72790086208.42192,
          6872937813.51408,
          8234738516.41725,
          9372769145.75364,
          10350964014.476791,
          12384074920.60626,
          12364894630.047276,
          11949321645.637867,
          12211452300.194618,
          12707067346.995052,
          13970993798.906097,
          14737783396.96881,
          20025792284.704403,
          1077150609.3377204,
          1341226242.428323,
          1552685302.4168448,
          2055024664.8729112,
          2765844790.461987,
          3738755018.0186434,
          4115013156.9265423,
          4972762582.712059,
          5640025182.00661,
          7213507712.843706,
          7868292338.770108,
          10119916240.545597,
          1736145324.5393577,
          2080144351.6477427,
          2327242244.5875216,
          2840818256.7207165,
          3388309666.1932235,
          4455837163.556076,
          4325020632.172209,
          5222971144.090861,
          6219703868.090625,
          7416558541.343246,
          10066082622.160315,
          12544127564.604815,
          759877632.1591932,
          911146295.6214277,
          1210856170.5552518,
          1748778848.0846062,
          2114933837.791866,
          2181378951.337424,
          2402627042.983704,
          2617513368.27424,
          2885375609.24556,
          3625883720.2607756,
          4466822066.371894,
          5896422596.767241,
          1016559328.1850921,
          1240388905.421496,
          1772916773.466792,
          1953845681.1746578,
          2192597230.166772,
          3388220219.7930756,
          3658680958.59756,
          4987669071.042689,
          6641069982.492892,
          8538209610.886311,
          10828037566.874163,
          13705902966.167841,
          16779421622.40469,
          18729253094.2939,
          20451257282.11777,
          25272637722.15192,
          32158341514.13325,
          43612155831.89342,
          54589498863.34788,
          63331358935.77243,
          76054427590.38922,
          85077877939.91286,
          101560083268.57027,
          128958323769.77524,
          3020266895.8206396,
          3487957478.304566,
          4335998836.091281,
          4919203358.112895,
          7111150787.504306,
          5589747687.070391,
          5817958152.491823,
          5026265057.80634,
          5407702568.10227,
          7842519681.681052,
          11705318549.540148,
          16433892152.362549,
          1177547676.4031332,
          1436763251.62864,
          1971810785.00824,
          2680776460.25992,
          3078461893.609336,
          3787427569.600908,
          4606061372.59411,
          4721268295.2520075,
          5913214598.559747,
          6920743072.82316,
          8031247474.658902,
          9887114066.42932,
          2574746971.051968,
          3084906138.3360605,
          4066902657.4941015,
          4780646467.657242,
          4828548738.4979105,
          4596222732.79786,
          5856052413.331256,
          4900402142.5841465,
          4877760835.66905,
          5609376389.039919,
          6696363647.1662855,
          7990649871.117525,
          35678601207.92218,
          40912701545.87042,
          48190888406.882774,
          47974091350.4542,
          91271560517.17122,
          123295582777.11642,
          115181178668.38,
          112951266107.58577,
          151235904174.95294,
          172581501319.65472,
          193674896635.36722,
          271949699763.73303,
          700656740.5215,
          854929784.2428,
          1139049306.726,
          1664863264.163736,
          2330165765.413379,
          2125753982.350365,
          2727418853.1769304,
          2980683766.46808,
          3796146461.768193,
          4158126197.6669097,
          4699106901.661201,
          6121478792.804452,
          1250540010.9891105,
          1524740985.7332604,
          1823034933.2912936,
          1763376143.837622,
          2357669470.1499195,
          3120613605.125979,
          4855307638.792286,
          5384205753.527205,
          5373379681.745765,
          4255023708.4276733,
          6169268408.369284,
          7647471286.1707735,
          52784690.5494405,
          52784690.551945,
          70020507.87105499,
          98028711.05669099,
          117419005.53013,
          150813401.580972,
          186362274.809381,
          168049218.941084,
          179898843.338554,
          194980183.449888,
          230529056.66908,
          319014076.627531,
          3996587748.4279866,
          4788469786.518282,
          5677013482.149689,
          6394540398.175512,
          7331414920.518976,
          8216240862.75418,
          9335285431.475471,
          10339079560.20984,
          11364398525.70248,
          13276669392.30596,
          16518491524.444695,
          21007739941.075047,
          1885604184.965614,
          2305972823.363286,
          2755749969.2489147,
          3210716852.08835,
          3897491953.674906,
          4234824811.047623,
          5075562091.405249,
          5008095519.232141,
          4553590871.789752,
          2630861090.902211,
          3748629725.0205956,
          5299935153.383328,
          2870033036.2349477,
          3498171939.3163953,
          4218233606.5954075,
          4405143232.1780205,
          4817774314.436447,
          6317136770.102658,
          6859481088.539652,
          7567286393.101254,
          5654271489.020423,
          6173124436.141397,
          6839053809.780158,
          8445270167.805196,
          67406033605.50549,
          88625232661.28523,
          105894592740.67607,
          149384977704.5157,
          185884606122.39517,
          217816767591.77216,
          266816058819.64062,
          281208278147.40186,
          288743816612.724,
          320371065827.6812,
          342625279554.9402,
          407844809855.241,
          13743466427.099043,
          17266791454.855007,
          21914581924.14611,
          21464795754.651688,
          24225983090.077724,
          37682086133.57708,
          38606646598.62687,
          37282276212.66764,
          42121123344.622284,
          52493088051.88696,
          73935737498.95758,
          110062906753.49036,
          333308277.060118,
          406697255.561724,
          686798523.3427501,
          1099305739.44885,
          1615474887.845625,
          2085164350.03065,
          2531613968.682218,
          3105576937.8025756,
          3419229788.5056,
          4087998066.31156,
          4665882609.047667,
          5114071458.241438,
          5964624801.332892,
          6603135550.61123,
          7843819038.347293,
          10693757259.323639,
          13471019459.735306,
          16487074298.368458,
          17348804251.999435,
          19165704757.286022,
          21967672236.47074,
          24217670028.598938,
          31102374563.392746,
          42238971727.89448,
          1048203910.8955071,
          1256869619.713889,
          1631297808.09138,
          2564443056.818,
          3392280377.2539883,
          3538541387.596836,
          3556092709.866045,
          3792060473.7533035,
          3876089960.581912,
          4244353748.3386264,
          4411054800.618418,
          5034322889.20126,
          5356609955.845785,
          5512352800.965332,
          7116976045.43192,
          9250181066.386663,
          14602071542.18096,
          18741055623.54047,
          23974959096.567055,
          29435397611.536896,
          36928107577.22463,
          45020990584.106766,
          55915981214.351616,
          72887997686.73795,
          4279789889.3427477,
          5169314846.81567,
          5899396651.159019,
          8089642065.17538,
          9688269464.832664,
          9667290102.618399,
          8828115615.05592,
          9440712990.759825,
          11757527777.47021,
          17319425514.016575,
          22951696053.080765,
          30815028568.858162,
          3065822956.432,
          3956861606.256,
          4969774845.486,
          6930601540.2,
          7992264610.727705,
          8287471946.14845,
          8593512578.675955,
          8823720129.489096,
          10148621483.368177,
          10089784202.268402,
          11354618752.01372,
          14931695863.783754,
          1253572117.4761236,
          1891590901.3437538,
          2255531193.8844047,
          2846372532.1147585,
          4685169626.257533,
          4553746742.390185,
          6024110453.881136,
          6508240904.928266,
          7422611852.129504,
          9037850589.823565,
          8015110972.064782,
          5782658337.338729
         ],
         "yaxis": "y"
        },
        {
         "alignmentgroup": "True",
         "customdata": [
          [
           "Argentina"
          ],
          [
           "Argentina"
          ],
          [
           "Argentina"
          ],
          [
           "Argentina"
          ],
          [
           "Argentina"
          ],
          [
           "Argentina"
          ],
          [
           "Argentina"
          ],
          [
           "Argentina"
          ],
          [
           "Argentina"
          ],
          [
           "Argentina"
          ],
          [
           "Argentina"
          ],
          [
           "Argentina"
          ],
          [
           "Bolivia"
          ],
          [
           "Bolivia"
          ],
          [
           "Bolivia"
          ],
          [
           "Bolivia"
          ],
          [
           "Bolivia"
          ],
          [
           "Bolivia"
          ],
          [
           "Bolivia"
          ],
          [
           "Bolivia"
          ],
          [
           "Bolivia"
          ],
          [
           "Bolivia"
          ],
          [
           "Bolivia"
          ],
          [
           "Bolivia"
          ],
          [
           "Brazil"
          ],
          [
           "Brazil"
          ],
          [
           "Brazil"
          ],
          [
           "Brazil"
          ],
          [
           "Brazil"
          ],
          [
           "Brazil"
          ],
          [
           "Brazil"
          ],
          [
           "Brazil"
          ],
          [
           "Brazil"
          ],
          [
           "Brazil"
          ],
          [
           "Brazil"
          ],
          [
           "Brazil"
          ],
          [
           "Canada"
          ],
          [
           "Canada"
          ],
          [
           "Canada"
          ],
          [
           "Canada"
          ],
          [
           "Canada"
          ],
          [
           "Canada"
          ],
          [
           "Canada"
          ],
          [
           "Canada"
          ],
          [
           "Canada"
          ],
          [
           "Canada"
          ],
          [
           "Canada"
          ],
          [
           "Canada"
          ],
          [
           "Chile"
          ],
          [
           "Chile"
          ],
          [
           "Chile"
          ],
          [
           "Chile"
          ],
          [
           "Chile"
          ],
          [
           "Chile"
          ],
          [
           "Chile"
          ],
          [
           "Chile"
          ],
          [
           "Chile"
          ],
          [
           "Chile"
          ],
          [
           "Chile"
          ],
          [
           "Chile"
          ],
          [
           "Colombia"
          ],
          [
           "Colombia"
          ],
          [
           "Colombia"
          ],
          [
           "Colombia"
          ],
          [
           "Colombia"
          ],
          [
           "Colombia"
          ],
          [
           "Colombia"
          ],
          [
           "Colombia"
          ],
          [
           "Colombia"
          ],
          [
           "Colombia"
          ],
          [
           "Colombia"
          ],
          [
           "Colombia"
          ],
          [
           "Costa Rica"
          ],
          [
           "Costa Rica"
          ],
          [
           "Costa Rica"
          ],
          [
           "Costa Rica"
          ],
          [
           "Costa Rica"
          ],
          [
           "Costa Rica"
          ],
          [
           "Costa Rica"
          ],
          [
           "Costa Rica"
          ],
          [
           "Costa Rica"
          ],
          [
           "Costa Rica"
          ],
          [
           "Costa Rica"
          ],
          [
           "Costa Rica"
          ],
          [
           "Cuba"
          ],
          [
           "Cuba"
          ],
          [
           "Cuba"
          ],
          [
           "Cuba"
          ],
          [
           "Cuba"
          ],
          [
           "Cuba"
          ],
          [
           "Cuba"
          ],
          [
           "Cuba"
          ],
          [
           "Cuba"
          ],
          [
           "Cuba"
          ],
          [
           "Cuba"
          ],
          [
           "Cuba"
          ],
          [
           "Dominican Republic"
          ],
          [
           "Dominican Republic"
          ],
          [
           "Dominican Republic"
          ],
          [
           "Dominican Republic"
          ],
          [
           "Dominican Republic"
          ],
          [
           "Dominican Republic"
          ],
          [
           "Dominican Republic"
          ],
          [
           "Dominican Republic"
          ],
          [
           "Dominican Republic"
          ],
          [
           "Dominican Republic"
          ],
          [
           "Dominican Republic"
          ],
          [
           "Dominican Republic"
          ],
          [
           "Ecuador"
          ],
          [
           "Ecuador"
          ],
          [
           "Ecuador"
          ],
          [
           "Ecuador"
          ],
          [
           "Ecuador"
          ],
          [
           "Ecuador"
          ],
          [
           "Ecuador"
          ],
          [
           "Ecuador"
          ],
          [
           "Ecuador"
          ],
          [
           "Ecuador"
          ],
          [
           "Ecuador"
          ],
          [
           "Ecuador"
          ],
          [
           "El Salvador"
          ],
          [
           "El Salvador"
          ],
          [
           "El Salvador"
          ],
          [
           "El Salvador"
          ],
          [
           "El Salvador"
          ],
          [
           "El Salvador"
          ],
          [
           "El Salvador"
          ],
          [
           "El Salvador"
          ],
          [
           "El Salvador"
          ],
          [
           "El Salvador"
          ],
          [
           "El Salvador"
          ],
          [
           "El Salvador"
          ],
          [
           "Guatemala"
          ],
          [
           "Guatemala"
          ],
          [
           "Guatemala"
          ],
          [
           "Guatemala"
          ],
          [
           "Guatemala"
          ],
          [
           "Guatemala"
          ],
          [
           "Guatemala"
          ],
          [
           "Guatemala"
          ],
          [
           "Guatemala"
          ],
          [
           "Guatemala"
          ],
          [
           "Guatemala"
          ],
          [
           "Guatemala"
          ],
          [
           "Haiti"
          ],
          [
           "Haiti"
          ],
          [
           "Haiti"
          ],
          [
           "Haiti"
          ],
          [
           "Haiti"
          ],
          [
           "Haiti"
          ],
          [
           "Haiti"
          ],
          [
           "Haiti"
          ],
          [
           "Haiti"
          ],
          [
           "Haiti"
          ],
          [
           "Haiti"
          ],
          [
           "Haiti"
          ],
          [
           "Honduras"
          ],
          [
           "Honduras"
          ],
          [
           "Honduras"
          ],
          [
           "Honduras"
          ],
          [
           "Honduras"
          ],
          [
           "Honduras"
          ],
          [
           "Honduras"
          ],
          [
           "Honduras"
          ],
          [
           "Honduras"
          ],
          [
           "Honduras"
          ],
          [
           "Honduras"
          ],
          [
           "Honduras"
          ],
          [
           "Jamaica"
          ],
          [
           "Jamaica"
          ],
          [
           "Jamaica"
          ],
          [
           "Jamaica"
          ],
          [
           "Jamaica"
          ],
          [
           "Jamaica"
          ],
          [
           "Jamaica"
          ],
          [
           "Jamaica"
          ],
          [
           "Jamaica"
          ],
          [
           "Jamaica"
          ],
          [
           "Jamaica"
          ],
          [
           "Jamaica"
          ],
          [
           "Mexico"
          ],
          [
           "Mexico"
          ],
          [
           "Mexico"
          ],
          [
           "Mexico"
          ],
          [
           "Mexico"
          ],
          [
           "Mexico"
          ],
          [
           "Mexico"
          ],
          [
           "Mexico"
          ],
          [
           "Mexico"
          ],
          [
           "Mexico"
          ],
          [
           "Mexico"
          ],
          [
           "Mexico"
          ],
          [
           "Nicaragua"
          ],
          [
           "Nicaragua"
          ],
          [
           "Nicaragua"
          ],
          [
           "Nicaragua"
          ],
          [
           "Nicaragua"
          ],
          [
           "Nicaragua"
          ],
          [
           "Nicaragua"
          ],
          [
           "Nicaragua"
          ],
          [
           "Nicaragua"
          ],
          [
           "Nicaragua"
          ],
          [
           "Nicaragua"
          ],
          [
           "Nicaragua"
          ],
          [
           "Panama"
          ],
          [
           "Panama"
          ],
          [
           "Panama"
          ],
          [
           "Panama"
          ],
          [
           "Panama"
          ],
          [
           "Panama"
          ],
          [
           "Panama"
          ],
          [
           "Panama"
          ],
          [
           "Panama"
          ],
          [
           "Panama"
          ],
          [
           "Panama"
          ],
          [
           "Panama"
          ],
          [
           "Paraguay"
          ],
          [
           "Paraguay"
          ],
          [
           "Paraguay"
          ],
          [
           "Paraguay"
          ],
          [
           "Paraguay"
          ],
          [
           "Paraguay"
          ],
          [
           "Paraguay"
          ],
          [
           "Paraguay"
          ],
          [
           "Paraguay"
          ],
          [
           "Paraguay"
          ],
          [
           "Paraguay"
          ],
          [
           "Paraguay"
          ],
          [
           "Peru"
          ],
          [
           "Peru"
          ],
          [
           "Peru"
          ],
          [
           "Peru"
          ],
          [
           "Peru"
          ],
          [
           "Peru"
          ],
          [
           "Peru"
          ],
          [
           "Peru"
          ],
          [
           "Peru"
          ],
          [
           "Peru"
          ],
          [
           "Peru"
          ],
          [
           "Peru"
          ],
          [
           "Puerto Rico"
          ],
          [
           "Puerto Rico"
          ],
          [
           "Puerto Rico"
          ],
          [
           "Puerto Rico"
          ],
          [
           "Puerto Rico"
          ],
          [
           "Puerto Rico"
          ],
          [
           "Puerto Rico"
          ],
          [
           "Puerto Rico"
          ],
          [
           "Puerto Rico"
          ],
          [
           "Puerto Rico"
          ],
          [
           "Puerto Rico"
          ],
          [
           "Puerto Rico"
          ],
          [
           "Trinidad and Tobago"
          ],
          [
           "Trinidad and Tobago"
          ],
          [
           "Trinidad and Tobago"
          ],
          [
           "Trinidad and Tobago"
          ],
          [
           "Trinidad and Tobago"
          ],
          [
           "Trinidad and Tobago"
          ],
          [
           "Trinidad and Tobago"
          ],
          [
           "Trinidad and Tobago"
          ],
          [
           "Trinidad and Tobago"
          ],
          [
           "Trinidad and Tobago"
          ],
          [
           "Trinidad and Tobago"
          ],
          [
           "Trinidad and Tobago"
          ],
          [
           "United States"
          ],
          [
           "United States"
          ],
          [
           "United States"
          ],
          [
           "United States"
          ],
          [
           "United States"
          ],
          [
           "United States"
          ],
          [
           "United States"
          ],
          [
           "United States"
          ],
          [
           "United States"
          ],
          [
           "United States"
          ],
          [
           "United States"
          ],
          [
           "United States"
          ],
          [
           "Uruguay"
          ],
          [
           "Uruguay"
          ],
          [
           "Uruguay"
          ],
          [
           "Uruguay"
          ],
          [
           "Uruguay"
          ],
          [
           "Uruguay"
          ],
          [
           "Uruguay"
          ],
          [
           "Uruguay"
          ],
          [
           "Uruguay"
          ],
          [
           "Uruguay"
          ],
          [
           "Uruguay"
          ],
          [
           "Uruguay"
          ],
          [
           "Venezuela"
          ],
          [
           "Venezuela"
          ],
          [
           "Venezuela"
          ],
          [
           "Venezuela"
          ],
          [
           "Venezuela"
          ],
          [
           "Venezuela"
          ],
          [
           "Venezuela"
          ],
          [
           "Venezuela"
          ],
          [
           "Venezuela"
          ],
          [
           "Venezuela"
          ],
          [
           "Venezuela"
          ],
          [
           "Venezuela"
          ]
         ],
         "hovertemplate": "continent=Americas<br>year=%{x}<br>gdp=%{y}<br>country=%{customdata[0]}<extra></extra>",
         "legendgroup": "Americas",
         "marker": {
          "color": "#ab63fa"
         },
         "name": "Americas",
         "offsetgroup": "Americas",
         "orientation": "v",
         "showlegend": true,
         "textposition": "auto",
         "type": "bar",
         "x": [
          1952,
          1957,
          1962,
          1967,
          1972,
          1977,
          1982,
          1987,
          1992,
          1997,
          2002,
          2007,
          1952,
          1957,
          1962,
          1967,
          1972,
          1977,
          1982,
          1987,
          1992,
          1997,
          2002,
          2007,
          1952,
          1957,
          1962,
          1967,
          1972,
          1977,
          1982,
          1987,
          1992,
          1997,
          2002,
          2007,
          1952,
          1957,
          1962,
          1967,
          1972,
          1977,
          1982,
          1987,
          1992,
          1997,
          2002,
          2007,
          1952,
          1957,
          1962,
          1967,
          1972,
          1977,
          1982,
          1987,
          1992,
          1997,
          2002,
          2007,
          1952,
          1957,
          1962,
          1967,
          1972,
          1977,
          1982,
          1987,
          1992,
          1997,
          2002,
          2007,
          1952,
          1957,
          1962,
          1967,
          1972,
          1977,
          1982,
          1987,
          1992,
          1997,
          2002,
          2007,
          1952,
          1957,
          1962,
          1967,
          1972,
          1977,
          1982,
          1987,
          1992,
          1997,
          2002,
          2007,
          1952,
          1957,
          1962,
          1967,
          1972,
          1977,
          1982,
          1987,
          1992,
          1997,
          2002,
          2007,
          1952,
          1957,
          1962,
          1967,
          1972,
          1977,
          1982,
          1987,
          1992,
          1997,
          2002,
          2007,
          1952,
          1957,
          1962,
          1967,
          1972,
          1977,
          1982,
          1987,
          1992,
          1997,
          2002,
          2007,
          1952,
          1957,
          1962,
          1967,
          1972,
          1977,
          1982,
          1987,
          1992,
          1997,
          2002,
          2007,
          1952,
          1957,
          1962,
          1967,
          1972,
          1977,
          1982,
          1987,
          1992,
          1997,
          2002,
          2007,
          1952,
          1957,
          1962,
          1967,
          1972,
          1977,
          1982,
          1987,
          1992,
          1997,
          2002,
          2007,
          1952,
          1957,
          1962,
          1967,
          1972,
          1977,
          1982,
          1987,
          1992,
          1997,
          2002,
          2007,
          1952,
          1957,
          1962,
          1967,
          1972,
          1977,
          1982,
          1987,
          1992,
          1997,
          2002,
          2007,
          1952,
          1957,
          1962,
          1967,
          1972,
          1977,
          1982,
          1987,
          1992,
          1997,
          2002,
          2007,
          1952,
          1957,
          1962,
          1967,
          1972,
          1977,
          1982,
          1987,
          1992,
          1997,
          2002,
          2007,
          1952,
          1957,
          1962,
          1967,
          1972,
          1977,
          1982,
          1987,
          1992,
          1997,
          2002,
          2007,
          1952,
          1957,
          1962,
          1967,
          1972,
          1977,
          1982,
          1987,
          1992,
          1997,
          2002,
          2007,
          1952,
          1957,
          1962,
          1967,
          1972,
          1977,
          1982,
          1987,
          1992,
          1997,
          2002,
          2007,
          1952,
          1957,
          1962,
          1967,
          1972,
          1977,
          1982,
          1987,
          1992,
          1997,
          2002,
          2007,
          1952,
          1957,
          1962,
          1967,
          1972,
          1977,
          1982,
          1987,
          1992,
          1997,
          2002,
          2007,
          1952,
          1957,
          1962,
          1967,
          1972,
          1977,
          1982,
          1987,
          1992,
          1997,
          2002,
          2007,
          1952,
          1957,
          1962,
          1967,
          1972,
          1977,
          1982,
          1987,
          1992,
          1997,
          2002,
          2007
         ],
         "xaxis": "x",
         "y": [
          105676319104.61867,
          134466639305.96207,
          151820757736.50504,
          184688236498.0437,
          233996596623.5363,
          271970723959.56076,
          264010673179.12408,
          289004799538.5151,
          316104097626.69836,
          397053586287.3929,
          337223430799.52264,
          515033625356.56635,
          7719575216.200304,
          6833571025.294588,
          7838236490.575228,
          10452739933.345245,
          13607811411.462606,
          18023329326.77571,
          17809739028.52525,
          16952740924.599808,
          20416331717.303993,
          25588644883.28291,
          28825460794.25046,
          34854649033.83277,
          119371649390.5488,
          163049753284.5231,
          253711949066.74078,
          301998949547.8588,
          502759433503.5451,
          761344477467.542,
          906717258453.5254,
          1115931255372.5662,
          1084077163776.1373,
          1341291557750.1165,
          1462920751252.625,
          1722598680331.3838,
          168070115581.2941,
          212455973972.90924,
          255596717816.98193,
          334710816939.58905,
          422749686329.67,
          525683489648.984,
          577093069633.066,
          706925986091.9911,
          751391311875.8785,
          877503438098.9752,
          1063269575825.7787,
          1212704377996.0366,
          25127683584.32339,
          30418347406.983994,
          35977675895.4284,
          45239380746.670204,
          53388314323.13399,
          50420712011.48595,
          58534483046.968666,
          69135019226.67091,
          103102172132.61621,
          147722858046.2242,
          167039309147.5071,
          214496727217.78784,
          26481474548.339016,
          33662631379.726933,
          42394605743.71247,
          52942488863.70165,
          73594872191.6585,
          95755454802.62244,
          122097122635.2004,
          151824477501.0795,
          186221797590.28687,
          230366568679.3712,
          236013006965.70737,
          309883885810.34344,
          2433443532.1483073,
          3325789015.0646,
          4655607493.848675,
          6611807759.248979,
          9390755531.089445,
          12496565229.209919,
          12758800460.077618,
          15762698836.4049,
          19548331623.765472,
          23490559858.5006,
          29618910245.31013,
          39871565083.15528,
          33562790922.86766,
          40456619058.877975,
          37583135793.09443,
          46314980543.06598,
          46854233350.68509,
          60857084419.7684,
          71626950339.07896,
          77135936772.23315,
          59973519954.67938,
          59659588751.87791,
          71186433969.39432,
          102160374746.55301,
          3482196998.396402,
          4514577213.34207,
          5740081668.240807,
          6696165882.705438,
          10229624253.539171,
          14222050738.919998,
          17075997880.890713,
          19299310927.750977,
          22378569689.886734,
          28885187703.878746,
          39478410078.32559,
          56154215096.98375,
          12499100973.285902,
          15342913820.218634,
          19129988881.771145,
          24875472663.347157,
          33263142611.13621,
          48620082640.02316,
          60349495671.03195,
          61869585518.9499,
          76353394349.88243,
          88498333675.31026,
          74594859031.9678,
          94546397112.51169,
          6227271303.8085,
          8060441504.580489,
          10377474227.46075,
          14091020728.10531,
          17135814152.465225,
          22007877013.979164,
          18339569693.414776,
          20048823879.44082,
          23441762292.1733,
          29812618811.760746,
          34002160153.359543,
          39752986140.86363,
          7640161179.86399,
          9528740348.507093,
          11575893401.462667,
          15209977556.00663,
          20760063435.584454,
          27832697038.72564,
          30830101093.7677,
          31111480318.829445,
          37677392867.08716,
          45924427024.60213,
          54309766224.98175,
          65203833292.11879,
          5891912670.805232,
          6057406350.579282,
          6970999000.73416,
          6270183933.688242,
          7773136723.848746,
          9200097514.955772,
          10454809788.36205,
          10493650139.466986,
          9213607207.632593,
          9276089515.180395,
          9664493045.294731,
          10217297215.951357,
          3330697353.0384116,
          3931129187.33598,
          4788888952.55727,
          6347422262.587662,
          7501351909.90737,
          9786553395.52551,
          11455138902.021713,
          13217592456.657896,
          15646832847.45824,
          18545413488.847042,
          20697904973.82048,
          26554867097.0535,
          4133580396.7396946,
          7301695161.155291,
          8735440529.223072,
          11398661093.842295,
          14850056193.92549,
          14343234914.584421,
          13946257030.167149,
          14776827263.291971,
          17613484765.76733,
          18027806344.406948,
          18638689786.3374,
          20353013484.554585,
          104845718511.96869,
          144668369722.17426,
          188402581601.13672,
          276201669610.82556,
          381219826098.5269,
          489353295727.78143,
          688551298314.6171,
          696116709845.1195,
          834621536788.2738,
          936636422664.7893,
          1100884521316.2412,
          1301973070171.2893,
          3628362766.93892,
          4698033596.430116,
          5780809121.090383,
          8662204203.741661,
          10234767751.280436,
          14015472611.217222,
          10339605319.763988,
          9885855212.484375,
          8719537247.776834,
          10385471754.594288,
          12736126639.972513,
          15603375234.63854,
          2331755944.38672,
          3149893033.27293,
          4299460457.433225,
          6213666373.434824,
          8670687327.278593,
          9846351628.112608,
          14273686782.01539,
          15853852673.61688,
          16447556623.02085,
          19452611987.55381,
          22000972010.602253,
          31803076821.027027,
          3037550252.477076,
          3623539461.1648116,
          4317132882.3836975,
          5260938508.923335,
          6596267899.027608,
          9694750656.439634,
          14335992614.146154,
          15541678375.125841,
          18816476471.14271,
          21891623375.4261,
          22264997029.865314,
          27820927446.74221,
          30164781548.3309,
          38827542285.57779,
          52130689937.702995,
          70222305898.226,
          82860598386.0801,
          100438462619.24463,
          116626175121.35681,
          128465130363.32225,
          99734320550.35487,
          144488140093.85016,
          158181134666.88882,
          212448566597.62366,
          6863524441.195,
          8830172987.140001,
          12505462638.09298,
          18355386422.555153,
          25974504080.983944,
          30101306751.314587,
          33875323753.83915,
          42302689206.05388,
          52492666708.68136,
          63908179531.019005,
          72775210745.96509,
          76203261313.5439,
          2003975797.4748,
          3136390911.66,
          4435292529.214559,
          5397385045.23316,
          6455379924.2573805,
          8207707919.138882,
          10181762179.614754,
          8802302576.061527,
          8724813465.489508,
          10006836267.273727,
          12627656072.62136,
          19027934931.05792,
          2204242423150.24,
          2553468310606.08,
          3016906282432.6797,
          3880918003145.84,
          4576999719662.24,
          5301732427679.07,
          5806915391021.0625,
          7256025860957.999,
          8221624217605.753,
          9761353098899.434,
          11247278678120.613,
          12934458535084.986,
          12879675387.39596,
          14915372268.13327,
          14560134513.462122,
          14964967150.519981,
          16137943765.522346,
          18690350108.423763,
          20442318131.984848,
          22693695077.647255,
          25625559931.72605,
          30116780131.2093,
          25986564534.62234,
          36582976212.17304,
          41829188706.34325,
          65702678704.89137,
          68591437240.90688,
          92643439785.04378,
          120974882898.41934,
          177490169722.23486,
          174209188664.34424,
          177016799858.08594,
          217529059872.6625,
          227446835024.40164,
          208996562053.54376,
          297777432881.3268
         ],
         "yaxis": "y"
        },
        {
         "alignmentgroup": "True",
         "customdata": [
          [
           "Australia"
          ],
          [
           "Australia"
          ],
          [
           "Australia"
          ],
          [
           "Australia"
          ],
          [
           "Australia"
          ],
          [
           "Australia"
          ],
          [
           "Australia"
          ],
          [
           "Australia"
          ],
          [
           "Australia"
          ],
          [
           "Australia"
          ],
          [
           "Australia"
          ],
          [
           "Australia"
          ],
          [
           "New Zealand"
          ],
          [
           "New Zealand"
          ],
          [
           "New Zealand"
          ],
          [
           "New Zealand"
          ],
          [
           "New Zealand"
          ],
          [
           "New Zealand"
          ],
          [
           "New Zealand"
          ],
          [
           "New Zealand"
          ],
          [
           "New Zealand"
          ],
          [
           "New Zealand"
          ],
          [
           "New Zealand"
          ],
          [
           "New Zealand"
          ]
         ],
         "hovertemplate": "continent=Oceania<br>year=%{x}<br>gdp=%{y}<br>country=%{customdata[0]}<extra></extra>",
         "legendgroup": "Oceania",
         "marker": {
          "color": "#FFA15A"
         },
         "name": "Oceania",
         "offsetgroup": "Oceania",
         "orientation": "v",
         "showlegend": true,
         "textposition": "auto",
         "type": "bar",
         "x": [
          1952,
          1957,
          1962,
          1967,
          1972,
          1977,
          1982,
          1987,
          1992,
          1997,
          2002,
          2007,
          1952,
          1957,
          1962,
          1967,
          1972,
          1977,
          1982,
          1987,
          1992,
          1997,
          2002,
          2007
         ],
         "xaxis": "x",
         "y": [
          87256254101.51569,
          106349227168.69672,
          131884573002.44046,
          172457986741.7076,
          221223770657.96,
          258037329175.49097,
          295742804309.37604,
          355853119294.0785,
          409511234952.4229,
          501223252920.6365,
          599847158654.3262,
          703658358893.6293,
          21058193787.114037,
          27304428858.17524,
          32788333486.9,
          39459740428.8795,
          47000447796.848,
          51378093148.729996,
          56611498450.76,
          63050008702.684135,
          63127124699.789566,
          77385257445.89499,
          90626601698.44995,
          103655730129.67381
         ],
         "yaxis": "y"
        }
       ],
       "layout": {
        "barmode": "relative",
        "legend": {
         "title": {
          "text": "continent"
         },
         "tracegroupgap": 0
        },
        "template": {
         "data": {
          "bar": [
           {
            "error_x": {
             "color": "#2a3f5f"
            },
            "error_y": {
             "color": "#2a3f5f"
            },
            "marker": {
             "line": {
              "color": "#E5ECF6",
              "width": 0.5
             }
            },
            "type": "bar"
           }
          ],
          "barpolar": [
           {
            "marker": {
             "line": {
              "color": "#E5ECF6",
              "width": 0.5
             }
            },
            "type": "barpolar"
           }
          ],
          "carpet": [
           {
            "aaxis": {
             "endlinecolor": "#2a3f5f",
             "gridcolor": "white",
             "linecolor": "white",
             "minorgridcolor": "white",
             "startlinecolor": "#2a3f5f"
            },
            "baxis": {
             "endlinecolor": "#2a3f5f",
             "gridcolor": "white",
             "linecolor": "white",
             "minorgridcolor": "white",
             "startlinecolor": "#2a3f5f"
            },
            "type": "carpet"
           }
          ],
          "choropleth": [
           {
            "colorbar": {
             "outlinewidth": 0,
             "ticks": ""
            },
            "type": "choropleth"
           }
          ],
          "contour": [
           {
            "colorbar": {
             "outlinewidth": 0,
             "ticks": ""
            },
            "colorscale": [
             [
              0,
              "#0d0887"
             ],
             [
              0.1111111111111111,
              "#46039f"
             ],
             [
              0.2222222222222222,
              "#7201a8"
             ],
             [
              0.3333333333333333,
              "#9c179e"
             ],
             [
              0.4444444444444444,
              "#bd3786"
             ],
             [
              0.5555555555555556,
              "#d8576b"
             ],
             [
              0.6666666666666666,
              "#ed7953"
             ],
             [
              0.7777777777777778,
              "#fb9f3a"
             ],
             [
              0.8888888888888888,
              "#fdca26"
             ],
             [
              1,
              "#f0f921"
             ]
            ],
            "type": "contour"
           }
          ],
          "contourcarpet": [
           {
            "colorbar": {
             "outlinewidth": 0,
             "ticks": ""
            },
            "type": "contourcarpet"
           }
          ],
          "heatmap": [
           {
            "colorbar": {
             "outlinewidth": 0,
             "ticks": ""
            },
            "colorscale": [
             [
              0,
              "#0d0887"
             ],
             [
              0.1111111111111111,
              "#46039f"
             ],
             [
              0.2222222222222222,
              "#7201a8"
             ],
             [
              0.3333333333333333,
              "#9c179e"
             ],
             [
              0.4444444444444444,
              "#bd3786"
             ],
             [
              0.5555555555555556,
              "#d8576b"
             ],
             [
              0.6666666666666666,
              "#ed7953"
             ],
             [
              0.7777777777777778,
              "#fb9f3a"
             ],
             [
              0.8888888888888888,
              "#fdca26"
             ],
             [
              1,
              "#f0f921"
             ]
            ],
            "type": "heatmap"
           }
          ],
          "heatmapgl": [
           {
            "colorbar": {
             "outlinewidth": 0,
             "ticks": ""
            },
            "colorscale": [
             [
              0,
              "#0d0887"
             ],
             [
              0.1111111111111111,
              "#46039f"
             ],
             [
              0.2222222222222222,
              "#7201a8"
             ],
             [
              0.3333333333333333,
              "#9c179e"
             ],
             [
              0.4444444444444444,
              "#bd3786"
             ],
             [
              0.5555555555555556,
              "#d8576b"
             ],
             [
              0.6666666666666666,
              "#ed7953"
             ],
             [
              0.7777777777777778,
              "#fb9f3a"
             ],
             [
              0.8888888888888888,
              "#fdca26"
             ],
             [
              1,
              "#f0f921"
             ]
            ],
            "type": "heatmapgl"
           }
          ],
          "histogram": [
           {
            "marker": {
             "colorbar": {
              "outlinewidth": 0,
              "ticks": ""
             }
            },
            "type": "histogram"
           }
          ],
          "histogram2d": [
           {
            "colorbar": {
             "outlinewidth": 0,
             "ticks": ""
            },
            "colorscale": [
             [
              0,
              "#0d0887"
             ],
             [
              0.1111111111111111,
              "#46039f"
             ],
             [
              0.2222222222222222,
              "#7201a8"
             ],
             [
              0.3333333333333333,
              "#9c179e"
             ],
             [
              0.4444444444444444,
              "#bd3786"
             ],
             [
              0.5555555555555556,
              "#d8576b"
             ],
             [
              0.6666666666666666,
              "#ed7953"
             ],
             [
              0.7777777777777778,
              "#fb9f3a"
             ],
             [
              0.8888888888888888,
              "#fdca26"
             ],
             [
              1,
              "#f0f921"
             ]
            ],
            "type": "histogram2d"
           }
          ],
          "histogram2dcontour": [
           {
            "colorbar": {
             "outlinewidth": 0,
             "ticks": ""
            },
            "colorscale": [
             [
              0,
              "#0d0887"
             ],
             [
              0.1111111111111111,
              "#46039f"
             ],
             [
              0.2222222222222222,
              "#7201a8"
             ],
             [
              0.3333333333333333,
              "#9c179e"
             ],
             [
              0.4444444444444444,
              "#bd3786"
             ],
             [
              0.5555555555555556,
              "#d8576b"
             ],
             [
              0.6666666666666666,
              "#ed7953"
             ],
             [
              0.7777777777777778,
              "#fb9f3a"
             ],
             [
              0.8888888888888888,
              "#fdca26"
             ],
             [
              1,
              "#f0f921"
             ]
            ],
            "type": "histogram2dcontour"
           }
          ],
          "mesh3d": [
           {
            "colorbar": {
             "outlinewidth": 0,
             "ticks": ""
            },
            "type": "mesh3d"
           }
          ],
          "parcoords": [
           {
            "line": {
             "colorbar": {
              "outlinewidth": 0,
              "ticks": ""
             }
            },
            "type": "parcoords"
           }
          ],
          "pie": [
           {
            "automargin": true,
            "type": "pie"
           }
          ],
          "scatter": [
           {
            "marker": {
             "colorbar": {
              "outlinewidth": 0,
              "ticks": ""
             }
            },
            "type": "scatter"
           }
          ],
          "scatter3d": [
           {
            "line": {
             "colorbar": {
              "outlinewidth": 0,
              "ticks": ""
             }
            },
            "marker": {
             "colorbar": {
              "outlinewidth": 0,
              "ticks": ""
             }
            },
            "type": "scatter3d"
           }
          ],
          "scattercarpet": [
           {
            "marker": {
             "colorbar": {
              "outlinewidth": 0,
              "ticks": ""
             }
            },
            "type": "scattercarpet"
           }
          ],
          "scattergeo": [
           {
            "marker": {
             "colorbar": {
              "outlinewidth": 0,
              "ticks": ""
             }
            },
            "type": "scattergeo"
           }
          ],
          "scattergl": [
           {
            "marker": {
             "colorbar": {
              "outlinewidth": 0,
              "ticks": ""
             }
            },
            "type": "scattergl"
           }
          ],
          "scattermapbox": [
           {
            "marker": {
             "colorbar": {
              "outlinewidth": 0,
              "ticks": ""
             }
            },
            "type": "scattermapbox"
           }
          ],
          "scatterpolar": [
           {
            "marker": {
             "colorbar": {
              "outlinewidth": 0,
              "ticks": ""
             }
            },
            "type": "scatterpolar"
           }
          ],
          "scatterpolargl": [
           {
            "marker": {
             "colorbar": {
              "outlinewidth": 0,
              "ticks": ""
             }
            },
            "type": "scatterpolargl"
           }
          ],
          "scatterternary": [
           {
            "marker": {
             "colorbar": {
              "outlinewidth": 0,
              "ticks": ""
             }
            },
            "type": "scatterternary"
           }
          ],
          "surface": [
           {
            "colorbar": {
             "outlinewidth": 0,
             "ticks": ""
            },
            "colorscale": [
             [
              0,
              "#0d0887"
             ],
             [
              0.1111111111111111,
              "#46039f"
             ],
             [
              0.2222222222222222,
              "#7201a8"
             ],
             [
              0.3333333333333333,
              "#9c179e"
             ],
             [
              0.4444444444444444,
              "#bd3786"
             ],
             [
              0.5555555555555556,
              "#d8576b"
             ],
             [
              0.6666666666666666,
              "#ed7953"
             ],
             [
              0.7777777777777778,
              "#fb9f3a"
             ],
             [
              0.8888888888888888,
              "#fdca26"
             ],
             [
              1,
              "#f0f921"
             ]
            ],
            "type": "surface"
           }
          ],
          "table": [
           {
            "cells": {
             "fill": {
              "color": "#EBF0F8"
             },
             "line": {
              "color": "white"
             }
            },
            "header": {
             "fill": {
              "color": "#C8D4E3"
             },
             "line": {
              "color": "white"
             }
            },
            "type": "table"
           }
          ]
         },
         "layout": {
          "annotationdefaults": {
           "arrowcolor": "#2a3f5f",
           "arrowhead": 0,
           "arrowwidth": 1
          },
          "autotypenumbers": "strict",
          "coloraxis": {
           "colorbar": {
            "outlinewidth": 0,
            "ticks": ""
           }
          },
          "colorscale": {
           "diverging": [
            [
             0,
             "#8e0152"
            ],
            [
             0.1,
             "#c51b7d"
            ],
            [
             0.2,
             "#de77ae"
            ],
            [
             0.3,
             "#f1b6da"
            ],
            [
             0.4,
             "#fde0ef"
            ],
            [
             0.5,
             "#f7f7f7"
            ],
            [
             0.6,
             "#e6f5d0"
            ],
            [
             0.7,
             "#b8e186"
            ],
            [
             0.8,
             "#7fbc41"
            ],
            [
             0.9,
             "#4d9221"
            ],
            [
             1,
             "#276419"
            ]
           ],
           "sequential": [
            [
             0,
             "#0d0887"
            ],
            [
             0.1111111111111111,
             "#46039f"
            ],
            [
             0.2222222222222222,
             "#7201a8"
            ],
            [
             0.3333333333333333,
             "#9c179e"
            ],
            [
             0.4444444444444444,
             "#bd3786"
            ],
            [
             0.5555555555555556,
             "#d8576b"
            ],
            [
             0.6666666666666666,
             "#ed7953"
            ],
            [
             0.7777777777777778,
             "#fb9f3a"
            ],
            [
             0.8888888888888888,
             "#fdca26"
            ],
            [
             1,
             "#f0f921"
            ]
           ],
           "sequentialminus": [
            [
             0,
             "#0d0887"
            ],
            [
             0.1111111111111111,
             "#46039f"
            ],
            [
             0.2222222222222222,
             "#7201a8"
            ],
            [
             0.3333333333333333,
             "#9c179e"
            ],
            [
             0.4444444444444444,
             "#bd3786"
            ],
            [
             0.5555555555555556,
             "#d8576b"
            ],
            [
             0.6666666666666666,
             "#ed7953"
            ],
            [
             0.7777777777777778,
             "#fb9f3a"
            ],
            [
             0.8888888888888888,
             "#fdca26"
            ],
            [
             1,
             "#f0f921"
            ]
           ]
          },
          "colorway": [
           "#636efa",
           "#EF553B",
           "#00cc96",
           "#ab63fa",
           "#FFA15A",
           "#19d3f3",
           "#FF6692",
           "#B6E880",
           "#FF97FF",
           "#FECB52"
          ],
          "font": {
           "color": "#2a3f5f"
          },
          "geo": {
           "bgcolor": "white",
           "lakecolor": "white",
           "landcolor": "#E5ECF6",
           "showlakes": true,
           "showland": true,
           "subunitcolor": "white"
          },
          "hoverlabel": {
           "align": "left"
          },
          "hovermode": "closest",
          "mapbox": {
           "style": "light"
          },
          "paper_bgcolor": "white",
          "plot_bgcolor": "#E5ECF6",
          "polar": {
           "angularaxis": {
            "gridcolor": "white",
            "linecolor": "white",
            "ticks": ""
           },
           "bgcolor": "#E5ECF6",
           "radialaxis": {
            "gridcolor": "white",
            "linecolor": "white",
            "ticks": ""
           }
          },
          "scene": {
           "xaxis": {
            "backgroundcolor": "#E5ECF6",
            "gridcolor": "white",
            "gridwidth": 2,
            "linecolor": "white",
            "showbackground": true,
            "ticks": "",
            "zerolinecolor": "white"
           },
           "yaxis": {
            "backgroundcolor": "#E5ECF6",
            "gridcolor": "white",
            "gridwidth": 2,
            "linecolor": "white",
            "showbackground": true,
            "ticks": "",
            "zerolinecolor": "white"
           },
           "zaxis": {
            "backgroundcolor": "#E5ECF6",
            "gridcolor": "white",
            "gridwidth": 2,
            "linecolor": "white",
            "showbackground": true,
            "ticks": "",
            "zerolinecolor": "white"
           }
          },
          "shapedefaults": {
           "line": {
            "color": "#2a3f5f"
           }
          },
          "ternary": {
           "aaxis": {
            "gridcolor": "white",
            "linecolor": "white",
            "ticks": ""
           },
           "baxis": {
            "gridcolor": "white",
            "linecolor": "white",
            "ticks": ""
           },
           "bgcolor": "#E5ECF6",
           "caxis": {
            "gridcolor": "white",
            "linecolor": "white",
            "ticks": ""
           }
          },
          "title": {
           "x": 0.05
          },
          "xaxis": {
           "automargin": true,
           "gridcolor": "white",
           "linecolor": "white",
           "ticks": "",
           "title": {
            "standoff": 15
           },
           "zerolinecolor": "white",
           "zerolinewidth": 2
          },
          "yaxis": {
           "automargin": true,
           "gridcolor": "white",
           "linecolor": "white",
           "ticks": "",
           "title": {
            "standoff": 15
           },
           "zerolinecolor": "white",
           "zerolinewidth": 2
          }
         }
        },
        "title": {
         "text": "Evolution of world GDP"
        },
        "xaxis": {
         "anchor": "y",
         "domain": [
          0,
          1
         ],
         "title": {
          "text": "year"
         }
        },
        "yaxis": {
         "anchor": "x",
         "domain": [
          0,
          1
         ],
         "title": {
          "text": "gdp"
         }
        }
       }
      },
      "text/html": [
       "<div>                            <div id=\"557b496a-2d6a-44d5-99a6-5f0c3596c4ce\" class=\"plotly-graph-div\" style=\"height:525px; width:100%;\"></div>            <script type=\"text/javascript\">                require([\"plotly\"], function(Plotly) {                    window.PLOTLYENV=window.PLOTLYENV || {};                                    if (document.getElementById(\"557b496a-2d6a-44d5-99a6-5f0c3596c4ce\")) {                    Plotly.newPlot(                        \"557b496a-2d6a-44d5-99a6-5f0c3596c4ce\",                        [{\"alignmentgroup\": \"True\", \"customdata\": [[\"Afghanistan\"], [\"Afghanistan\"], [\"Afghanistan\"], [\"Afghanistan\"], [\"Afghanistan\"], [\"Afghanistan\"], [\"Afghanistan\"], [\"Afghanistan\"], [\"Afghanistan\"], [\"Afghanistan\"], [\"Afghanistan\"], [\"Afghanistan\"], [\"Bahrain\"], [\"Bahrain\"], [\"Bahrain\"], [\"Bahrain\"], [\"Bahrain\"], [\"Bahrain\"], [\"Bahrain\"], [\"Bahrain\"], [\"Bahrain\"], [\"Bahrain\"], [\"Bahrain\"], [\"Bahrain\"], [\"Bangladesh\"], [\"Bangladesh\"], [\"Bangladesh\"], [\"Bangladesh\"], [\"Bangladesh\"], [\"Bangladesh\"], [\"Bangladesh\"], [\"Bangladesh\"], [\"Bangladesh\"], [\"Bangladesh\"], [\"Bangladesh\"], [\"Bangladesh\"], [\"Cambodia\"], [\"Cambodia\"], [\"Cambodia\"], [\"Cambodia\"], [\"Cambodia\"], [\"Cambodia\"], [\"Cambodia\"], [\"Cambodia\"], [\"Cambodia\"], [\"Cambodia\"], [\"Cambodia\"], [\"Cambodia\"], [\"China\"], [\"China\"], [\"China\"], [\"China\"], [\"China\"], [\"China\"], [\"China\"], [\"China\"], [\"China\"], [\"China\"], [\"China\"], [\"China\"], [\"Hong Kong, China\"], [\"Hong Kong, China\"], [\"Hong Kong, China\"], [\"Hong Kong, China\"], [\"Hong Kong, China\"], [\"Hong Kong, China\"], [\"Hong Kong, China\"], [\"Hong Kong, China\"], [\"Hong Kong, China\"], [\"Hong Kong, China\"], [\"Hong Kong, China\"], [\"Hong Kong, China\"], [\"India\"], [\"India\"], [\"India\"], [\"India\"], [\"India\"], [\"India\"], [\"India\"], [\"India\"], [\"India\"], [\"India\"], [\"India\"], [\"India\"], [\"Indonesia\"], [\"Indonesia\"], [\"Indonesia\"], [\"Indonesia\"], [\"Indonesia\"], [\"Indonesia\"], [\"Indonesia\"], [\"Indonesia\"], [\"Indonesia\"], [\"Indonesia\"], [\"Indonesia\"], [\"Indonesia\"], [\"Iran\"], [\"Iran\"], [\"Iran\"], [\"Iran\"], [\"Iran\"], [\"Iran\"], [\"Iran\"], [\"Iran\"], [\"Iran\"], [\"Iran\"], [\"Iran\"], [\"Iran\"], [\"Iraq\"], [\"Iraq\"], [\"Iraq\"], [\"Iraq\"], [\"Iraq\"], [\"Iraq\"], [\"Iraq\"], [\"Iraq\"], [\"Iraq\"], [\"Iraq\"], [\"Iraq\"], [\"Iraq\"], [\"Israel\"], [\"Israel\"], [\"Israel\"], [\"Israel\"], [\"Israel\"], [\"Israel\"], [\"Israel\"], [\"Israel\"], [\"Israel\"], [\"Israel\"], [\"Israel\"], [\"Israel\"], [\"Japan\"], [\"Japan\"], [\"Japan\"], [\"Japan\"], [\"Japan\"], [\"Japan\"], [\"Japan\"], [\"Japan\"], [\"Japan\"], [\"Japan\"], [\"Japan\"], [\"Japan\"], [\"Jordan\"], [\"Jordan\"], [\"Jordan\"], [\"Jordan\"], [\"Jordan\"], [\"Jordan\"], [\"Jordan\"], [\"Jordan\"], [\"Jordan\"], [\"Jordan\"], [\"Jordan\"], [\"Jordan\"], [\"Korea, Dem. Rep.\"], [\"Korea, Dem. Rep.\"], [\"Korea, Dem. Rep.\"], [\"Korea, Dem. Rep.\"], [\"Korea, Dem. Rep.\"], [\"Korea, Dem. Rep.\"], [\"Korea, Dem. Rep.\"], [\"Korea, Dem. Rep.\"], [\"Korea, Dem. Rep.\"], [\"Korea, Dem. Rep.\"], [\"Korea, Dem. Rep.\"], [\"Korea, Dem. Rep.\"], [\"Korea, Rep.\"], [\"Korea, Rep.\"], [\"Korea, Rep.\"], [\"Korea, Rep.\"], [\"Korea, Rep.\"], [\"Korea, Rep.\"], [\"Korea, Rep.\"], [\"Korea, Rep.\"], [\"Korea, Rep.\"], [\"Korea, Rep.\"], [\"Korea, Rep.\"], [\"Korea, Rep.\"], [\"Kuwait\"], [\"Kuwait\"], [\"Kuwait\"], [\"Kuwait\"], [\"Kuwait\"], [\"Kuwait\"], [\"Kuwait\"], [\"Kuwait\"], [\"Kuwait\"], [\"Kuwait\"], [\"Kuwait\"], [\"Kuwait\"], [\"Lebanon\"], [\"Lebanon\"], [\"Lebanon\"], [\"Lebanon\"], [\"Lebanon\"], [\"Lebanon\"], [\"Lebanon\"], [\"Lebanon\"], [\"Lebanon\"], [\"Lebanon\"], [\"Lebanon\"], [\"Lebanon\"], [\"Malaysia\"], [\"Malaysia\"], [\"Malaysia\"], [\"Malaysia\"], [\"Malaysia\"], [\"Malaysia\"], [\"Malaysia\"], [\"Malaysia\"], [\"Malaysia\"], [\"Malaysia\"], [\"Malaysia\"], [\"Malaysia\"], [\"Mongolia\"], [\"Mongolia\"], [\"Mongolia\"], [\"Mongolia\"], [\"Mongolia\"], [\"Mongolia\"], [\"Mongolia\"], [\"Mongolia\"], [\"Mongolia\"], [\"Mongolia\"], [\"Mongolia\"], [\"Mongolia\"], [\"Myanmar\"], [\"Myanmar\"], [\"Myanmar\"], [\"Myanmar\"], [\"Myanmar\"], [\"Myanmar\"], [\"Myanmar\"], [\"Myanmar\"], [\"Myanmar\"], [\"Myanmar\"], [\"Myanmar\"], [\"Myanmar\"], [\"Nepal\"], [\"Nepal\"], [\"Nepal\"], [\"Nepal\"], [\"Nepal\"], [\"Nepal\"], [\"Nepal\"], [\"Nepal\"], [\"Nepal\"], [\"Nepal\"], [\"Nepal\"], [\"Nepal\"], [\"Oman\"], [\"Oman\"], [\"Oman\"], [\"Oman\"], [\"Oman\"], [\"Oman\"], [\"Oman\"], [\"Oman\"], [\"Oman\"], [\"Oman\"], [\"Oman\"], [\"Oman\"], [\"Pakistan\"], [\"Pakistan\"], [\"Pakistan\"], [\"Pakistan\"], [\"Pakistan\"], [\"Pakistan\"], [\"Pakistan\"], [\"Pakistan\"], [\"Pakistan\"], [\"Pakistan\"], [\"Pakistan\"], [\"Pakistan\"], [\"Philippines\"], [\"Philippines\"], [\"Philippines\"], [\"Philippines\"], [\"Philippines\"], [\"Philippines\"], [\"Philippines\"], [\"Philippines\"], [\"Philippines\"], [\"Philippines\"], [\"Philippines\"], [\"Philippines\"], [\"Saudi Arabia\"], [\"Saudi Arabia\"], [\"Saudi Arabia\"], [\"Saudi Arabia\"], [\"Saudi Arabia\"], [\"Saudi Arabia\"], [\"Saudi Arabia\"], [\"Saudi Arabia\"], [\"Saudi Arabia\"], [\"Saudi Arabia\"], [\"Saudi Arabia\"], [\"Saudi Arabia\"], [\"Singapore\"], [\"Singapore\"], [\"Singapore\"], [\"Singapore\"], [\"Singapore\"], [\"Singapore\"], [\"Singapore\"], [\"Singapore\"], [\"Singapore\"], [\"Singapore\"], [\"Singapore\"], [\"Singapore\"], [\"Sri Lanka\"], [\"Sri Lanka\"], [\"Sri Lanka\"], [\"Sri Lanka\"], [\"Sri Lanka\"], [\"Sri Lanka\"], [\"Sri Lanka\"], [\"Sri Lanka\"], [\"Sri Lanka\"], [\"Sri Lanka\"], [\"Sri Lanka\"], [\"Sri Lanka\"], [\"Syria\"], [\"Syria\"], [\"Syria\"], [\"Syria\"], [\"Syria\"], [\"Syria\"], [\"Syria\"], [\"Syria\"], [\"Syria\"], [\"Syria\"], [\"Syria\"], [\"Syria\"], [\"Taiwan\"], [\"Taiwan\"], [\"Taiwan\"], [\"Taiwan\"], [\"Taiwan\"], [\"Taiwan\"], [\"Taiwan\"], [\"Taiwan\"], [\"Taiwan\"], [\"Taiwan\"], [\"Taiwan\"], [\"Taiwan\"], [\"Thailand\"], [\"Thailand\"], [\"Thailand\"], [\"Thailand\"], [\"Thailand\"], [\"Thailand\"], [\"Thailand\"], [\"Thailand\"], [\"Thailand\"], [\"Thailand\"], [\"Thailand\"], [\"Thailand\"], [\"Vietnam\"], [\"Vietnam\"], [\"Vietnam\"], [\"Vietnam\"], [\"Vietnam\"], [\"Vietnam\"], [\"Vietnam\"], [\"Vietnam\"], [\"Vietnam\"], [\"Vietnam\"], [\"Vietnam\"], [\"Vietnam\"], [\"West Bank and Gaza\"], [\"West Bank and Gaza\"], [\"West Bank and Gaza\"], [\"West Bank and Gaza\"], [\"West Bank and Gaza\"], [\"West Bank and Gaza\"], [\"West Bank and Gaza\"], [\"West Bank and Gaza\"], [\"West Bank and Gaza\"], [\"West Bank and Gaza\"], [\"West Bank and Gaza\"], [\"West Bank and Gaza\"], [\"Yemen, Rep.\"], [\"Yemen, Rep.\"], [\"Yemen, Rep.\"], [\"Yemen, Rep.\"], [\"Yemen, Rep.\"], [\"Yemen, Rep.\"], [\"Yemen, Rep.\"], [\"Yemen, Rep.\"], [\"Yemen, Rep.\"], [\"Yemen, Rep.\"], [\"Yemen, Rep.\"], [\"Yemen, Rep.\"]], \"hovertemplate\": \"continent=Asia<br>year=%{x}<br>gdp=%{y}<br>country=%{customdata[0]}<extra></extra>\", \"legendgroup\": \"Asia\", \"marker\": {\"color\": \"#636efa\"}, \"name\": \"Asia\", \"offsetgroup\": \"Asia\", \"orientation\": \"v\", \"showlegend\": true, \"textposition\": \"auto\", \"type\": \"bar\", \"x\": [1952, 1957, 1962, 1967, 1972, 1977, 1982, 1987, 1992, 1997, 2002, 2007, 1952, 1957, 1962, 1967, 1972, 1977, 1982, 1987, 1992, 1997, 2002, 2007, 1952, 1957, 1962, 1967, 1972, 1977, 1982, 1987, 1992, 1997, 2002, 2007, 1952, 1957, 1962, 1967, 1972, 1977, 1982, 1987, 1992, 1997, 2002, 2007, 1952, 1957, 1962, 1967, 1972, 1977, 1982, 1987, 1992, 1997, 2002, 2007, 1952, 1957, 1962, 1967, 1972, 1977, 1982, 1987, 1992, 1997, 2002, 2007, 1952, 1957, 1962, 1967, 1972, 1977, 1982, 1987, 1992, 1997, 2002, 2007, 1952, 1957, 1962, 1967, 1972, 1977, 1982, 1987, 1992, 1997, 2002, 2007, 1952, 1957, 1962, 1967, 1972, 1977, 1982, 1987, 1992, 1997, 2002, 2007, 1952, 1957, 1962, 1967, 1972, 1977, 1982, 1987, 1992, 1997, 2002, 2007, 1952, 1957, 1962, 1967, 1972, 1977, 1982, 1987, 1992, 1997, 2002, 2007, 1952, 1957, 1962, 1967, 1972, 1977, 1982, 1987, 1992, 1997, 2002, 2007, 1952, 1957, 1962, 1967, 1972, 1977, 1982, 1987, 1992, 1997, 2002, 2007, 1952, 1957, 1962, 1967, 1972, 1977, 1982, 1987, 1992, 1997, 2002, 2007, 1952, 1957, 1962, 1967, 1972, 1977, 1982, 1987, 1992, 1997, 2002, 2007, 1952, 1957, 1962, 1967, 1972, 1977, 1982, 1987, 1992, 1997, 2002, 2007, 1952, 1957, 1962, 1967, 1972, 1977, 1982, 1987, 1992, 1997, 2002, 2007, 1952, 1957, 1962, 1967, 1972, 1977, 1982, 1987, 1992, 1997, 2002, 2007, 1952, 1957, 1962, 1967, 1972, 1977, 1982, 1987, 1992, 1997, 2002, 2007, 1952, 1957, 1962, 1967, 1972, 1977, 1982, 1987, 1992, 1997, 2002, 2007, 1952, 1957, 1962, 1967, 1972, 1977, 1982, 1987, 1992, 1997, 2002, 2007, 1952, 1957, 1962, 1967, 1972, 1977, 1982, 1987, 1992, 1997, 2002, 2007, 1952, 1957, 1962, 1967, 1972, 1977, 1982, 1987, 1992, 1997, 2002, 2007, 1952, 1957, 1962, 1967, 1972, 1977, 1982, 1987, 1992, 1997, 2002, 2007, 1952, 1957, 1962, 1967, 1972, 1977, 1982, 1987, 1992, 1997, 2002, 2007, 1952, 1957, 1962, 1967, 1972, 1977, 1982, 1987, 1992, 1997, 2002, 2007, 1952, 1957, 1962, 1967, 1972, 1977, 1982, 1987, 1992, 1997, 2002, 2007, 1952, 1957, 1962, 1967, 1972, 1977, 1982, 1987, 1992, 1997, 2002, 2007, 1952, 1957, 1962, 1967, 1972, 1977, 1982, 1987, 1992, 1997, 2002, 2007, 1952, 1957, 1962, 1967, 1972, 1977, 1982, 1987, 1992, 1997, 2002, 2007, 1952, 1957, 1962, 1967, 1972, 1977, 1982, 1987, 1992, 1997, 2002, 2007, 1952, 1957, 1962, 1967, 1972, 1977, 1982, 1987, 1992, 1997, 2002, 2007, 1952, 1957, 1962, 1967, 1972, 1977, 1982, 1987, 1992, 1997, 2002, 2007], \"xaxis\": \"x\", \"y\": [6567086329.952229, 7585448670.233646, 8758855796.92893, 9648014149.848902, 9678553274.066866, 11697659230.96992, 12598563400.516861, 11820990309.460773, 10595901588.903381, 14121995875.337666, 18363410423.978592, 31079291948.889942, 1188460758.6899552, 1613361772.7397501, 2191816125.38582, 2993238335.8314, 4216406356.412, 5751939723.9236, 7261179715.31877, 8421243625.96472, 10079167850.30247, 12146009861.839191, 15362026094.150188, 21112675360.41882, 32082059995.381004, 33985317661.090706, 39011165929.14725, 45306268649.67041, 44594887096.43332, 53072807953.81466, 63009685013.49184, 78028572051.81024, 95262852013.65231, 119957417048.45815, 154159077920.5197, 209311822133.85147, 1729534397.6435618, 2310184670.8691106, 3023033307.8986645, 3643123976.797051, 3141354495.624574, 3663574552.484802, 4541488549.531824, 5725430804.6556015, 6925441367.823497, 8652054255.27354, 11585251105.560616, 24218877033.97859, 222754956737.111, 367138722269.6672, 324678731163.591, 462317080954.97, 583508186392.963, 699324197164.5044, 962691820907.9204, 1494780217152.63, 1928938870545.26, 2815929679840.2, 3993927259238.4004, 6539500929092.308, 6493394048.2131, 9930241909.2891, 15510141068.614399, 23073775963.9592, 34225865466.3765, 51273915647.625, 76653912869.89499, 111905051122.0319, 144329299236.98495, 184338771740.4004, 204287740003.13617, 277296717807.812, 203322458739.6, 241335356364.0, 298889606508.6, 354589929014.2001, 410526442809.0, 515655862782.00006, 605852264691.6001, 769491988372.8, 1015362737448.0, 1399005926878.0, 1806461015264.9792, 2722925438772.817, 61512879123.2392, 77407527996.5668, 84103467353.4628, 83366577256.7303, 134757389176.774, 189049938606.6, 232601854598.884, 295954872930.236, 440442568204.768, 621614960294.634, 606568050342.2001, 791502035177.508, 52426150706.544, 65120779270.256, 95780981890.948, 156752848641.09, 294317442834.698, 421815425794.4593, 327711901836.6301, 344697094905.25323, 437018785886.18787, 523316539155.0541, 618279294330.7163, 806058303731.2294, 22473220511.4949, 38924881556.85636, 60396350632.4319, 76089624801.57571, 96349359728.37958, 174539063525.06412, 205766914164.49097, 192621823480.4765, 66904278115.32873, 63911044337.70088, 105385189030.63858, 122952583890.59003, 6623900928.584992, 10471140805.402851, 16420430421.018225, 22609255939.69334, 39586973982.33139, 46518849615.38477, 59292468172.8932, 71968316978.59927, 89112243594.837, 115587232694.21588, 132080421158.88907, 164029908949.7509, 278134909229.18164, 395341088001.7443, 630251873020.733, 992906033833.7963, 1584112586964.3562, 1891464707591.0457, 2296143737891.302, 2731908393473.1045, 3335119600027.974, 3629636158476.35, 3634666526235.2876, 4035134797102.1743, 940386912.5845981, 1408070439.936369, 2192005081.533322, 3441113320.442616, 3405974308.2432585, 5526864720.438336, 9766972259.667728, 12545464196.396303, 13271376154.750622, 16499844607.071419, 20406782659.63918, 27357170724.069004, 9648113404.215904, 14786546840.508556, 17704830126.003414, 27045071155.618484, 54714559526.62523, 67036681906.324684, 72469979025.67278, 78300763966.8475, 77171898567.29211, 36495163359.65547, 36583333391.19012, 37121173721.953, 21588403826.183044, 33636798616.73942, 40590690362.26681, 61142673146.602005, 101549522158.25, 169690505084.72, 221127835339.26398, 355164222241.70996, 530233376255.024, 738482217215.8954, 922638064104.647, 1145104609948.5068, 17341176464.0, 24162944745.2334, 34199395867.80816, 46514800559.14978, 92063687054.778, 67583801714.93897, 46952480381.46062, 53185644767.58026, 49538198605.98105, 71144497943.28621, 74137129817.53526, 118530454006.18703, 6959840663.764443, 10032388072.514809, 10782507259.744127, 13136635172.651548, 20063644788.798138, 26981770825.54993, 23585336336.906395, 16611733228.520136, 22188356725.038876, 30032922931.4738, 34254617950.197395, 41020719258.59304, 12357176936.945932, 14008533816.831121, 18141281511.96744, 23130196146.80769, 32597809659.76836, 49171111017.613556, 71059367334.44211, 85738648221.2256, 133327738132.0646, 207482379883.41724, 231314259623.22812, 309066109785.3588, 629774979.8265225, 805090717.486539, 1067213276.6882399, 1409334278.9350002, 1877410277.9875, 2517397824.12, 3513123131.384448, 4711397687.664432, 4129281353.408832, 4745744245.8363, 5724837882.703583, 8897642669.932417, 6650781676.0, 7606145400.0, 9170161168.0, 9028724579.0, 10162501230.0, 11696920277.0, 14704507408.0, 14641002530.0, 14069648686.0, 17947864805.0, 27860427491.0, 45087309120.0, 5012431651.695273, 5789421899.34386, 6740601536.90858, 7617882645.364925, 8375870413.956054, 9671206057.996479, 11347646973.032936, 13897146222.282719, 18247658193.225723, 23251644296.949596, 27354068342.690186, 31542251118.20262, 928435681.4947311, 1260371978.491327, 1837152375.614532, 3374411809.100425, 8802884859.877499, 11902052462.98936, 16854804933.97848, 28873528072.890663, 35654866007.68728, 44992304219.66934, 53658268402.94394, 71521099580.48439, 28305736881.955326, 34873817306.378365, 42658038632.559746, 57149426446.91546, 72787986851.6265, 91901399757.27438, 132019106316.20921, 179310664748.31763, 236747712482.47787, 277819863187.1785, 321029463168.0421, 441110354736.25684, 28561783326.577545, 40358318274.06773, 50023104521.493385, 64141377891.538, 81266211261.24387, 111186903868.47409, 139162617315.7341, 131417048927.29105, 153138130044.34204, 190273063890.6059, 220013427319.714, 290580355162.2836, 25874890184.730167, 36053698159.223206, 57469729990.422745, 94964675299.15428, 160766615318.8594, 277732829132.913, 379205636077.268, 309913175526.5532, 420962502379.07886, 437050471341.36426, 465885351158.00543, 597695839259.5537, 2609160781.829, 4110927115.000961, 6431522198.1144, 9843342904.703999, 18505810449.1848, 26066821067.844, 40226628130.13328, 52709528648.14712, 80152023987.888, 127451407551.4694, 151216927293.5904, 214643321189.53674, 8649123231.41426, 9790790993.50069, 11198078000.914558, 13327981307.935097, 15794445637.40349, 19040444665.960236, 25397158408.53814, 30957839348.480408, 37877940921.66731, 49822140983.989334, 59031417076.434235, 80903553056.64828, 6017702154.453345, 8786330020.339844, 10602503376.981592, 10690854351.749184, 17231547901.572407, 25348191033.168747, 35400751245.98121, 35041416419.7894, 44158841963.84361, 60538802164.55556, 70183154066.52444, 80823487648.36848, 10319841571.294506, 15326226341.73735, 21726782116.232265, 36085212828.49525, 61856147294.153984, 93938682197.2959, 137397885952.13585, 218413809089.58826, 314765067293.3522, 437045349282.13293, 521733747819.8263, 665525790663.5509, 16133053859.977215, 19872699754.49617, 29327752243.307285, 44077076065.54434, 59870954797.253204, 86584704135.00099, 116854125162.05196, 157813231197.02036, 261626115120.6868, 352425659154.8135, 371388079010.6457, 485304043506.2887, 15881082791.944736, 19611292638.302555, 26092281505.00163, 25143376124.160816, 31236255710.308517, 36057532314.52932, 39705759524.13192, 51567948937.81485, 69172999028.93025, 105396057842.09392, 142758920197.8475, 208174556559.04782, 1561946720.382465, 1955764566.678738, 2491712161.6418085, 3027659756.7384524, 3414075012.7594438, 4644385651.599954, 6182644080.953832, 8637343287.79464, 12665833359.678925, 20095073782.004475, 15305597343.493351, 12156859904.496937, 3880312374.054887, 4425030274.681523, 5052880863.151249, 5813537083.146846, 9370298237.144325, 15377328249.85623, 19098490175.80218, 22121638706.94492, 25125105886.17398, 33512362498.285423, 41793958634.67954, 50659874994.20616], \"yaxis\": \"y\"}, {\"alignmentgroup\": \"True\", \"customdata\": [[\"Albania\"], [\"Albania\"], [\"Albania\"], [\"Albania\"], [\"Albania\"], [\"Albania\"], [\"Albania\"], [\"Albania\"], [\"Albania\"], [\"Albania\"], [\"Albania\"], [\"Albania\"], [\"Austria\"], [\"Austria\"], [\"Austria\"], [\"Austria\"], [\"Austria\"], [\"Austria\"], [\"Austria\"], [\"Austria\"], [\"Austria\"], [\"Austria\"], [\"Austria\"], [\"Austria\"], [\"Belgium\"], [\"Belgium\"], [\"Belgium\"], [\"Belgium\"], [\"Belgium\"], [\"Belgium\"], [\"Belgium\"], [\"Belgium\"], [\"Belgium\"], [\"Belgium\"], [\"Belgium\"], [\"Belgium\"], [\"Bosnia and Herzegovina\"], [\"Bosnia and Herzegovina\"], [\"Bosnia and Herzegovina\"], [\"Bosnia and Herzegovina\"], [\"Bosnia and Herzegovina\"], [\"Bosnia and Herzegovina\"], [\"Bosnia and Herzegovina\"], [\"Bosnia and Herzegovina\"], [\"Bosnia and Herzegovina\"], [\"Bosnia and Herzegovina\"], [\"Bosnia and Herzegovina\"], [\"Bosnia and Herzegovina\"], [\"Bulgaria\"], [\"Bulgaria\"], [\"Bulgaria\"], [\"Bulgaria\"], [\"Bulgaria\"], [\"Bulgaria\"], [\"Bulgaria\"], [\"Bulgaria\"], [\"Bulgaria\"], [\"Bulgaria\"], [\"Bulgaria\"], [\"Bulgaria\"], [\"Croatia\"], [\"Croatia\"], [\"Croatia\"], [\"Croatia\"], [\"Croatia\"], [\"Croatia\"], [\"Croatia\"], [\"Croatia\"], [\"Croatia\"], [\"Croatia\"], [\"Croatia\"], [\"Croatia\"], [\"Czech Republic\"], [\"Czech Republic\"], [\"Czech Republic\"], [\"Czech Republic\"], [\"Czech Republic\"], [\"Czech Republic\"], [\"Czech Republic\"], [\"Czech Republic\"], [\"Czech Republic\"], [\"Czech Republic\"], [\"Czech Republic\"], [\"Czech Republic\"], [\"Denmark\"], [\"Denmark\"], [\"Denmark\"], [\"Denmark\"], [\"Denmark\"], [\"Denmark\"], [\"Denmark\"], [\"Denmark\"], [\"Denmark\"], [\"Denmark\"], [\"Denmark\"], [\"Denmark\"], [\"Finland\"], [\"Finland\"], [\"Finland\"], [\"Finland\"], [\"Finland\"], [\"Finland\"], [\"Finland\"], [\"Finland\"], [\"Finland\"], [\"Finland\"], [\"Finland\"], [\"Finland\"], [\"France\"], [\"France\"], [\"France\"], [\"France\"], [\"France\"], [\"France\"], [\"France\"], [\"France\"], [\"France\"], [\"France\"], [\"France\"], [\"France\"], [\"Germany\"], [\"Germany\"], [\"Germany\"], [\"Germany\"], [\"Germany\"], [\"Germany\"], [\"Germany\"], [\"Germany\"], [\"Germany\"], [\"Germany\"], [\"Germany\"], [\"Germany\"], [\"Greece\"], [\"Greece\"], [\"Greece\"], [\"Greece\"], [\"Greece\"], [\"Greece\"], [\"Greece\"], [\"Greece\"], [\"Greece\"], [\"Greece\"], [\"Greece\"], [\"Greece\"], [\"Hungary\"], [\"Hungary\"], [\"Hungary\"], [\"Hungary\"], [\"Hungary\"], [\"Hungary\"], [\"Hungary\"], [\"Hungary\"], [\"Hungary\"], [\"Hungary\"], [\"Hungary\"], [\"Hungary\"], [\"Iceland\"], [\"Iceland\"], [\"Iceland\"], [\"Iceland\"], [\"Iceland\"], [\"Iceland\"], [\"Iceland\"], [\"Iceland\"], [\"Iceland\"], [\"Iceland\"], [\"Iceland\"], [\"Iceland\"], [\"Ireland\"], [\"Ireland\"], [\"Ireland\"], [\"Ireland\"], [\"Ireland\"], [\"Ireland\"], [\"Ireland\"], [\"Ireland\"], [\"Ireland\"], [\"Ireland\"], [\"Ireland\"], [\"Ireland\"], [\"Italy\"], [\"Italy\"], [\"Italy\"], [\"Italy\"], [\"Italy\"], [\"Italy\"], [\"Italy\"], [\"Italy\"], [\"Italy\"], [\"Italy\"], [\"Italy\"], [\"Italy\"], [\"Montenegro\"], [\"Montenegro\"], [\"Montenegro\"], [\"Montenegro\"], [\"Montenegro\"], [\"Montenegro\"], [\"Montenegro\"], [\"Montenegro\"], [\"Montenegro\"], [\"Montenegro\"], [\"Montenegro\"], [\"Montenegro\"], [\"Netherlands\"], [\"Netherlands\"], [\"Netherlands\"], [\"Netherlands\"], [\"Netherlands\"], [\"Netherlands\"], [\"Netherlands\"], [\"Netherlands\"], [\"Netherlands\"], [\"Netherlands\"], [\"Netherlands\"], [\"Netherlands\"], [\"Norway\"], [\"Norway\"], [\"Norway\"], [\"Norway\"], [\"Norway\"], [\"Norway\"], [\"Norway\"], [\"Norway\"], [\"Norway\"], [\"Norway\"], [\"Norway\"], [\"Norway\"], [\"Poland\"], [\"Poland\"], [\"Poland\"], [\"Poland\"], [\"Poland\"], [\"Poland\"], [\"Poland\"], [\"Poland\"], [\"Poland\"], [\"Poland\"], [\"Poland\"], [\"Poland\"], [\"Portugal\"], [\"Portugal\"], [\"Portugal\"], [\"Portugal\"], [\"Portugal\"], [\"Portugal\"], [\"Portugal\"], [\"Portugal\"], [\"Portugal\"], [\"Portugal\"], [\"Portugal\"], [\"Portugal\"], [\"Romania\"], [\"Romania\"], [\"Romania\"], [\"Romania\"], [\"Romania\"], [\"Romania\"], [\"Romania\"], [\"Romania\"], [\"Romania\"], [\"Romania\"], [\"Romania\"], [\"Romania\"], [\"Serbia\"], [\"Serbia\"], [\"Serbia\"], [\"Serbia\"], [\"Serbia\"], [\"Serbia\"], [\"Serbia\"], [\"Serbia\"], [\"Serbia\"], [\"Serbia\"], [\"Serbia\"], [\"Serbia\"], [\"Slovak Republic\"], [\"Slovak Republic\"], [\"Slovak Republic\"], [\"Slovak Republic\"], [\"Slovak Republic\"], [\"Slovak Republic\"], [\"Slovak Republic\"], [\"Slovak Republic\"], [\"Slovak Republic\"], [\"Slovak Republic\"], [\"Slovak Republic\"], [\"Slovak Republic\"], [\"Slovenia\"], [\"Slovenia\"], [\"Slovenia\"], [\"Slovenia\"], [\"Slovenia\"], [\"Slovenia\"], [\"Slovenia\"], [\"Slovenia\"], [\"Slovenia\"], [\"Slovenia\"], [\"Slovenia\"], [\"Slovenia\"], [\"Spain\"], [\"Spain\"], [\"Spain\"], [\"Spain\"], [\"Spain\"], [\"Spain\"], [\"Spain\"], [\"Spain\"], [\"Spain\"], [\"Spain\"], [\"Spain\"], [\"Spain\"], [\"Sweden\"], [\"Sweden\"], [\"Sweden\"], [\"Sweden\"], [\"Sweden\"], [\"Sweden\"], [\"Sweden\"], [\"Sweden\"], [\"Sweden\"], [\"Sweden\"], [\"Sweden\"], [\"Sweden\"], [\"Switzerland\"], [\"Switzerland\"], [\"Switzerland\"], [\"Switzerland\"], [\"Switzerland\"], [\"Switzerland\"], [\"Switzerland\"], [\"Switzerland\"], [\"Switzerland\"], [\"Switzerland\"], [\"Switzerland\"], [\"Switzerland\"], [\"Turkey\"], [\"Turkey\"], [\"Turkey\"], [\"Turkey\"], [\"Turkey\"], [\"Turkey\"], [\"Turkey\"], [\"Turkey\"], [\"Turkey\"], [\"Turkey\"], [\"Turkey\"], [\"Turkey\"], [\"United Kingdom\"], [\"United Kingdom\"], [\"United Kingdom\"], [\"United Kingdom\"], [\"United Kingdom\"], [\"United Kingdom\"], [\"United Kingdom\"], [\"United Kingdom\"], [\"United Kingdom\"], [\"United Kingdom\"], [\"United Kingdom\"], [\"United Kingdom\"]], \"hovertemplate\": \"continent=Europe<br>year=%{x}<br>gdp=%{y}<br>country=%{customdata[0]}<extra></extra>\", \"legendgroup\": \"Europe\", \"marker\": {\"color\": \"#EF553B\"}, \"name\": \"Europe\", \"offsetgroup\": \"Europe\", \"orientation\": \"v\", \"showlegend\": true, \"textposition\": \"auto\", \"type\": \"bar\", \"x\": [1952, 1957, 1962, 1967, 1972, 1977, 1982, 1987, 1992, 1997, 2002, 2007, 1952, 1957, 1962, 1967, 1972, 1977, 1982, 1987, 1992, 1997, 2002, 2007, 1952, 1957, 1962, 1967, 1972, 1977, 1982, 1987, 1992, 1997, 2002, 2007, 1952, 1957, 1962, 1967, 1972, 1977, 1982, 1987, 1992, 1997, 2002, 2007, 1952, 1957, 1962, 1967, 1972, 1977, 1982, 1987, 1992, 1997, 2002, 2007, 1952, 1957, 1962, 1967, 1972, 1977, 1982, 1987, 1992, 1997, 2002, 2007, 1952, 1957, 1962, 1967, 1972, 1977, 1982, 1987, 1992, 1997, 2002, 2007, 1952, 1957, 1962, 1967, 1972, 1977, 1982, 1987, 1992, 1997, 2002, 2007, 1952, 1957, 1962, 1967, 1972, 1977, 1982, 1987, 1992, 1997, 2002, 2007, 1952, 1957, 1962, 1967, 1972, 1977, 1982, 1987, 1992, 1997, 2002, 2007, 1952, 1957, 1962, 1967, 1972, 1977, 1982, 1987, 1992, 1997, 2002, 2007, 1952, 1957, 1962, 1967, 1972, 1977, 1982, 1987, 1992, 1997, 2002, 2007, 1952, 1957, 1962, 1967, 1972, 1977, 1982, 1987, 1992, 1997, 2002, 2007, 1952, 1957, 1962, 1967, 1972, 1977, 1982, 1987, 1992, 1997, 2002, 2007, 1952, 1957, 1962, 1967, 1972, 1977, 1982, 1987, 1992, 1997, 2002, 2007, 1952, 1957, 1962, 1967, 1972, 1977, 1982, 1987, 1992, 1997, 2002, 2007, 1952, 1957, 1962, 1967, 1972, 1977, 1982, 1987, 1992, 1997, 2002, 2007, 1952, 1957, 1962, 1967, 1972, 1977, 1982, 1987, 1992, 1997, 2002, 2007, 1952, 1957, 1962, 1967, 1972, 1977, 1982, 1987, 1992, 1997, 2002, 2007, 1952, 1957, 1962, 1967, 1972, 1977, 1982, 1987, 1992, 1997, 2002, 2007, 1952, 1957, 1962, 1967, 1972, 1977, 1982, 1987, 1992, 1997, 2002, 2007, 1952, 1957, 1962, 1967, 1972, 1977, 1982, 1987, 1992, 1997, 2002, 2007, 1952, 1957, 1962, 1967, 1972, 1977, 1982, 1987, 1992, 1997, 2002, 2007, 1952, 1957, 1962, 1967, 1972, 1977, 1982, 1987, 1992, 1997, 2002, 2007, 1952, 1957, 1962, 1967, 1972, 1977, 1982, 1987, 1992, 1997, 2002, 2007, 1952, 1957, 1962, 1967, 1972, 1977, 1982, 1987, 1992, 1997, 2002, 2007, 1952, 1957, 1962, 1967, 1972, 1977, 1982, 1987, 1992, 1997, 2002, 2007, 1952, 1957, 1962, 1967, 1972, 1977, 1982, 1987, 1992, 1997, 2002, 2007, 1952, 1957, 1962, 1967, 1972, 1977, 1982, 1987, 1992, 1997, 2002, 2007, 1952, 1957, 1962, 1967, 1972, 1977, 1982, 1987, 1992, 1997, 2002, 2007], \"xaxis\": \"x\", \"y\": [2053669902.478792, 2867792397.68722, 3996988985.211246, 5476396322.91986, 7500110047.336152, 8864476394.377682, 10094200602.590034, 11498418357.532936, 8307722182.800699, 10945912518.586952, 16153932129.805344, 21376411360.042095, 42516266683.135826, 61596299913.25579, 76651179416.22903, 94680836235.5952, 125698652513.1456, 149472120217.98898, 163589550350.13904, 179527736065.4012, 214036739549.62094, 234800471832.03818, 264148781751.71927, 296229400691.0841, 72838686716.28642, 87328859400.77615, 101321340396.38399, 125658812132.235, 161871509038.396, 187772921747.664, 206783717985.14468, 222331812712.216, 256922515586.0192, 281118335091.11786, 314369518653.4875, 350141166520.1081, 2717131146.6868, 4164870705.376, 5725730640.971, 7787883436.455001, 10922988275.25, 14417374612.23, 17219089833.9218, 18718844705.98359, 10839134938.078785, 17192245745.728, 25071535764.134426, 33897026518.41899, 17781940935.535202, 23020103934.64166, 34089779369.663692, 46346153670.632805, 56581431456.1276, 66965046602.37563, 73130318095.9054, 73927631407.02539, 54571302853.663635, 48157496050.31932, 58971163876.62727, 78213929148.27957, 12109590475.80308, 17314932235.498314, 22330930898.108025, 29054830740.831127, 38721121654.514366, 48824261688.27941, 58352765410.357124, 61984751387.9814, 37964499980.59535, 43893062449.34643, 52107043452.729004, 65688728878.44863, 62746038114.91576, 78548858000.62386, 97519520387.13066, 112114783032.64302, 129277640538.8688, 150397974206.7873, 158442411319.5492, 168186719232.1098, 147483810393.19644, 165311042971.5677, 180471922898.33487, 233556067421.81143, 42006797651.829994, 49813395320.36985, 63120285966.30549, 77116977699.724, 94172484444.60716, 103920280027.7285, 110995270448.94879, 128771236166.08945, 136559629613.11105, 157476118455.7892, 172885062706.9816, 192906627080.56882, 26279495259.9255, 32626376129.064, 42093096667.70552, 50302260674.67744, 66620259081.5663, 73952569459.93266, 89458310061.91013, 104261743104.04567, 104083163954.02461, 121808392250.58119, 146467538809.04224, 173953983346.024, 298483363097.9141, 383857690356.89703, 497652320115.72, 644392918488.5399, 833257241541.72, 972528294778.1677, 1104669186492.2449, 1227558382892.414, 1417360022289.6108, 1517747939261.9343, 1733393500385.6318, 1861227940621.3972, 493986590900.8872, 723529963816.3889, 951416222108.6505, 1126100616352.8813, 1418181247737.4536, 1603305779824.911, 1725845977575.6091, 1914915573601.2065, 2136268169644.1118, 2278996207434.3037, 2473468447076.1284, 2650870893900.9224, 27303708960.62775, 39803435654.7198, 50834629317.82478, 74203907867.24005, 113106276411.12996, 132138739654.37013, 149424095671.5672, 160794049220.77112, 181123475012.42987, 196895300009.9881, 238738073446.2924, 294834223726.7252, 50025955947.26399, 59429331128.229004, 75979271442.25099, 95350224305.46074, 105693936955.046, 124187241501.88028, 134311542120.3031, 137822135542.9452, 109029890605.3282, 119993697078.53119, 149676048403.31027, 179298995810.63953, 1075341715.183736, 1526277073.13532, 1884277507.35018, 2646343594.11968, 3306139764.0755, 4359922739.98281, 5445018346.1775, 6587462419.765281, 6512699263.29412, 7609945738.994721, 8975937060.538801, 10924101860.925888, 15381560331.987167, 16115377912.747839, 18767420398.62, 22201915549.5963, 28824869546.662395, 36484895159.247, 43911758506.799995, 49108560194.147995, 62470069169.98355, 89927693739.3913, 132190156526.46545, 167141167137.8361, 235060310452.22995, 307321410802.224, 419130105629.088, 527850812033.90094, 667025988920.1119, 799179741816.5137, 934957147512.0059, 1089620726789.8584, 1251274219399.5964, 1418307303522.8118, 1620107994725.4917, 1661264433000.4402, 1095660939.604234, 1630611470.585587, 2206362439.60848, 2960040094.219795, 4104497951.662526, 5374421249.683064, 6313244220.45576, 6681347764.04041, 4353422615.518977, 4478413551.798199, 4722688037.72486, 6336475807.461696, 92831291730.89369, 124335627651.52753, 151004791951.14682, 193528142723.17792, 250531591643.14557, 293808863797.9488, 306234860366.24445, 346853235808.6136, 406532406373.84485, 471974656555.1323, 543738536478.1174, 609764312245.5251, 33594817529.45216, 40694951309.351524, 48944921612.36769, 61946375191.07293, 74589639181.05203, 94252564410.39494, 108213282691.32896, 132035157036.0956, 145588949429.93054, 181880081160.07977, 202668235988.12277, 228421423674.68744, 103676873315.93416, 133673272043.00957, 161922307755.11923, 208421579588.90933, 264531348088.0382, 329183780346.86334, 306176833715.2205, 342774381700.6121, 296946267447.61914, 392718270288.30176, 463598198650.34204, 592792827796.088, 26160648602.03535, 33282852529.663948, 42645207507.8022, 57908898290.27901, 80933619341.82765, 98292660518.072, 115888777247.5815, 129288514715.63164, 160900556777.31842, 179169637551.4574, 208373796584.83328, 218280817633.8757, 52294917283.18, 70307637223.58858, 88453168839.7395, 124789457739.14763, 165537035770.6565, 202646437193.0723, 214743374426.87048, 219973253287.76245, 150424128715.75836, 165756170699.8151, 176666264621.0713, 240770207962.99414, 24569338287.81885, 36218184315.731285, 47902193037.461426, 63703671182.05465, 87472977399.80713, 112754859703.88852, 137128138486.78479, 146500635545.1733, 91631822558.67848, 81807115768.40459, 73168001828.92632, 99335920778.79921, 18056332320.32925, 23424190728.965458, 31700325638.043633, 37372114718.244484, 44437640820.80006, 52732470220.30413, 57287947438.27155, 62585581999.51044, 50369310506.68402, 65275620851.2565, 73786500198.17523, 101750154778.25371, 6278380543.970838, 8987280431.62103, 11717564986.75599, 15490013353.792063, 20983941200.761997, 26687734267.546227, 33254471590.631, 36346000744.780396, 28418203993.7201, 34521489478.548195, 41557566962.58192, 51774742721.419556, 109461193459.58354, 136221071505.48975, 177409134906.3586, 262589077073.78085, 367176936800.9909, 482340170513.63, 528962031083.2007, 612953611112.5573, 735740746843.7397, 814856426872.9403, 997206698031.1682, 1165759889360.7666, 60758104611.54553, 72989108704.37526, 93230160068.96896, 120051227737.46907, 144836928909.29953, 155590807217.6461, 172061322425.375, 198635036915.1658, 208206690698.53162, 224812535648.32883, 262730098132.63278, 305790367006.70483, 70945330691.25, 91804044355.98001, 115762571238.20001, 139243733012.16, 174086796614.25598, 170431587415.50046, 183679999508.2651, 201371579184.63376, 222955601022.5441, 231173833391.74063, 253840431788.29648, 283348281397.7852, 43784293371.66347, 56957505187.437325, 69195263214.09006, 94432289201.0317, 129376797192.61014, 181028003992.74075, 200738267961.7001, 269115388365.695, 330361441740.66003, 416204622976.16, 438052273010.6903, 601879503437.4926, 503266612999.41003, 580293841968.5, 664933720414.44, 777276942063.51, 891382233156.3899, 979129659734.34, 1027209400659.1421, 1234494698392.6252, 1313860808996.9365, 1533397976044.222, 1766158504919.931, 2017969309929.4646], \"yaxis\": \"y\"}, {\"alignmentgroup\": \"True\", \"customdata\": [[\"Algeria\"], [\"Algeria\"], [\"Algeria\"], [\"Algeria\"], [\"Algeria\"], [\"Algeria\"], [\"Algeria\"], [\"Algeria\"], [\"Algeria\"], [\"Algeria\"], [\"Algeria\"], [\"Algeria\"], [\"Angola\"], [\"Angola\"], [\"Angola\"], [\"Angola\"], [\"Angola\"], [\"Angola\"], [\"Angola\"], [\"Angola\"], [\"Angola\"], [\"Angola\"], [\"Angola\"], [\"Angola\"], [\"Benin\"], [\"Benin\"], [\"Benin\"], [\"Benin\"], [\"Benin\"], [\"Benin\"], [\"Benin\"], [\"Benin\"], [\"Benin\"], [\"Benin\"], [\"Benin\"], [\"Benin\"], [\"Botswana\"], [\"Botswana\"], [\"Botswana\"], [\"Botswana\"], [\"Botswana\"], [\"Botswana\"], [\"Botswana\"], [\"Botswana\"], [\"Botswana\"], [\"Botswana\"], [\"Botswana\"], [\"Botswana\"], [\"Burkina Faso\"], [\"Burkina Faso\"], [\"Burkina Faso\"], [\"Burkina Faso\"], [\"Burkina Faso\"], [\"Burkina Faso\"], [\"Burkina Faso\"], [\"Burkina Faso\"], [\"Burkina Faso\"], [\"Burkina Faso\"], [\"Burkina Faso\"], [\"Burkina Faso\"], [\"Burundi\"], [\"Burundi\"], [\"Burundi\"], [\"Burundi\"], [\"Burundi\"], [\"Burundi\"], [\"Burundi\"], [\"Burundi\"], [\"Burundi\"], [\"Burundi\"], [\"Burundi\"], [\"Burundi\"], [\"Cameroon\"], [\"Cameroon\"], [\"Cameroon\"], [\"Cameroon\"], [\"Cameroon\"], [\"Cameroon\"], [\"Cameroon\"], [\"Cameroon\"], [\"Cameroon\"], [\"Cameroon\"], [\"Cameroon\"], [\"Cameroon\"], [\"Central African Republic\"], [\"Central African Republic\"], [\"Central African Republic\"], [\"Central African Republic\"], [\"Central African Republic\"], [\"Central African Republic\"], [\"Central African Republic\"], [\"Central African Republic\"], [\"Central African Republic\"], [\"Central African Republic\"], [\"Central African Republic\"], [\"Central African Republic\"], [\"Chad\"], [\"Chad\"], [\"Chad\"], [\"Chad\"], [\"Chad\"], [\"Chad\"], [\"Chad\"], [\"Chad\"], [\"Chad\"], [\"Chad\"], [\"Chad\"], [\"Chad\"], [\"Comoros\"], [\"Comoros\"], [\"Comoros\"], [\"Comoros\"], [\"Comoros\"], [\"Comoros\"], [\"Comoros\"], [\"Comoros\"], [\"Comoros\"], [\"Comoros\"], [\"Comoros\"], [\"Comoros\"], [\"Congo, Dem. Rep.\"], [\"Congo, Dem. Rep.\"], [\"Congo, Dem. Rep.\"], [\"Congo, Dem. Rep.\"], [\"Congo, Dem. Rep.\"], [\"Congo, Dem. Rep.\"], [\"Congo, Dem. Rep.\"], [\"Congo, Dem. Rep.\"], [\"Congo, Dem. Rep.\"], [\"Congo, Dem. Rep.\"], [\"Congo, Dem. Rep.\"], [\"Congo, Dem. Rep.\"], [\"Congo, Rep.\"], [\"Congo, Rep.\"], [\"Congo, Rep.\"], [\"Congo, Rep.\"], [\"Congo, Rep.\"], [\"Congo, Rep.\"], [\"Congo, Rep.\"], [\"Congo, Rep.\"], [\"Congo, Rep.\"], [\"Congo, Rep.\"], [\"Congo, Rep.\"], [\"Congo, Rep.\"], [\"Cote d'Ivoire\"], [\"Cote d'Ivoire\"], [\"Cote d'Ivoire\"], [\"Cote d'Ivoire\"], [\"Cote d'Ivoire\"], [\"Cote d'Ivoire\"], [\"Cote d'Ivoire\"], [\"Cote d'Ivoire\"], [\"Cote d'Ivoire\"], [\"Cote d'Ivoire\"], [\"Cote d'Ivoire\"], [\"Cote d'Ivoire\"], [\"Djibouti\"], [\"Djibouti\"], [\"Djibouti\"], [\"Djibouti\"], [\"Djibouti\"], [\"Djibouti\"], [\"Djibouti\"], [\"Djibouti\"], [\"Djibouti\"], [\"Djibouti\"], [\"Djibouti\"], [\"Djibouti\"], [\"Egypt\"], [\"Egypt\"], [\"Egypt\"], [\"Egypt\"], [\"Egypt\"], [\"Egypt\"], [\"Egypt\"], [\"Egypt\"], [\"Egypt\"], [\"Egypt\"], [\"Egypt\"], [\"Egypt\"], [\"Equatorial Guinea\"], [\"Equatorial Guinea\"], [\"Equatorial Guinea\"], [\"Equatorial Guinea\"], [\"Equatorial Guinea\"], [\"Equatorial Guinea\"], [\"Equatorial Guinea\"], [\"Equatorial Guinea\"], [\"Equatorial Guinea\"], [\"Equatorial Guinea\"], [\"Equatorial Guinea\"], [\"Equatorial Guinea\"], [\"Eritrea\"], [\"Eritrea\"], [\"Eritrea\"], [\"Eritrea\"], [\"Eritrea\"], [\"Eritrea\"], [\"Eritrea\"], [\"Eritrea\"], [\"Eritrea\"], [\"Eritrea\"], [\"Eritrea\"], [\"Eritrea\"], [\"Ethiopia\"], [\"Ethiopia\"], [\"Ethiopia\"], [\"Ethiopia\"], [\"Ethiopia\"], [\"Ethiopia\"], [\"Ethiopia\"], [\"Ethiopia\"], [\"Ethiopia\"], [\"Ethiopia\"], [\"Ethiopia\"], [\"Ethiopia\"], [\"Gabon\"], [\"Gabon\"], [\"Gabon\"], [\"Gabon\"], [\"Gabon\"], [\"Gabon\"], [\"Gabon\"], [\"Gabon\"], [\"Gabon\"], [\"Gabon\"], [\"Gabon\"], [\"Gabon\"], [\"Gambia\"], [\"Gambia\"], [\"Gambia\"], [\"Gambia\"], [\"Gambia\"], [\"Gambia\"], [\"Gambia\"], [\"Gambia\"], [\"Gambia\"], [\"Gambia\"], [\"Gambia\"], [\"Gambia\"], [\"Ghana\"], [\"Ghana\"], [\"Ghana\"], [\"Ghana\"], [\"Ghana\"], [\"Ghana\"], [\"Ghana\"], [\"Ghana\"], [\"Ghana\"], [\"Ghana\"], [\"Ghana\"], [\"Ghana\"], [\"Guinea\"], [\"Guinea\"], [\"Guinea\"], [\"Guinea\"], [\"Guinea\"], [\"Guinea\"], [\"Guinea\"], [\"Guinea\"], [\"Guinea\"], [\"Guinea\"], [\"Guinea\"], [\"Guinea\"], [\"Guinea-Bissau\"], [\"Guinea-Bissau\"], [\"Guinea-Bissau\"], [\"Guinea-Bissau\"], [\"Guinea-Bissau\"], [\"Guinea-Bissau\"], [\"Guinea-Bissau\"], [\"Guinea-Bissau\"], [\"Guinea-Bissau\"], [\"Guinea-Bissau\"], [\"Guinea-Bissau\"], [\"Guinea-Bissau\"], [\"Kenya\"], [\"Kenya\"], [\"Kenya\"], [\"Kenya\"], [\"Kenya\"], [\"Kenya\"], [\"Kenya\"], [\"Kenya\"], [\"Kenya\"], [\"Kenya\"], [\"Kenya\"], [\"Kenya\"], [\"Lesotho\"], [\"Lesotho\"], [\"Lesotho\"], [\"Lesotho\"], [\"Lesotho\"], [\"Lesotho\"], [\"Lesotho\"], [\"Lesotho\"], [\"Lesotho\"], [\"Lesotho\"], [\"Lesotho\"], [\"Lesotho\"], [\"Liberia\"], [\"Liberia\"], [\"Liberia\"], [\"Liberia\"], [\"Liberia\"], [\"Liberia\"], [\"Liberia\"], [\"Liberia\"], [\"Liberia\"], [\"Liberia\"], [\"Liberia\"], [\"Liberia\"], [\"Libya\"], [\"Libya\"], [\"Libya\"], [\"Libya\"], [\"Libya\"], [\"Libya\"], [\"Libya\"], [\"Libya\"], [\"Libya\"], [\"Libya\"], [\"Libya\"], [\"Libya\"], [\"Madagascar\"], [\"Madagascar\"], [\"Madagascar\"], [\"Madagascar\"], [\"Madagascar\"], [\"Madagascar\"], [\"Madagascar\"], [\"Madagascar\"], [\"Madagascar\"], [\"Madagascar\"], [\"Madagascar\"], [\"Madagascar\"], [\"Malawi\"], [\"Malawi\"], [\"Malawi\"], [\"Malawi\"], [\"Malawi\"], [\"Malawi\"], [\"Malawi\"], [\"Malawi\"], [\"Malawi\"], [\"Malawi\"], [\"Malawi\"], [\"Malawi\"], [\"Mali\"], [\"Mali\"], [\"Mali\"], [\"Mali\"], [\"Mali\"], [\"Mali\"], [\"Mali\"], [\"Mali\"], [\"Mali\"], [\"Mali\"], [\"Mali\"], [\"Mali\"], [\"Mauritania\"], [\"Mauritania\"], [\"Mauritania\"], [\"Mauritania\"], [\"Mauritania\"], [\"Mauritania\"], [\"Mauritania\"], [\"Mauritania\"], [\"Mauritania\"], [\"Mauritania\"], [\"Mauritania\"], [\"Mauritania\"], [\"Mauritius\"], [\"Mauritius\"], [\"Mauritius\"], [\"Mauritius\"], [\"Mauritius\"], [\"Mauritius\"], [\"Mauritius\"], [\"Mauritius\"], [\"Mauritius\"], [\"Mauritius\"], [\"Mauritius\"], [\"Mauritius\"], [\"Morocco\"], [\"Morocco\"], [\"Morocco\"], [\"Morocco\"], [\"Morocco\"], [\"Morocco\"], [\"Morocco\"], [\"Morocco\"], [\"Morocco\"], [\"Morocco\"], [\"Morocco\"], [\"Morocco\"], [\"Mozambique\"], [\"Mozambique\"], [\"Mozambique\"], [\"Mozambique\"], [\"Mozambique\"], [\"Mozambique\"], [\"Mozambique\"], [\"Mozambique\"], [\"Mozambique\"], [\"Mozambique\"], [\"Mozambique\"], [\"Mozambique\"], [\"Namibia\"], [\"Namibia\"], [\"Namibia\"], [\"Namibia\"], [\"Namibia\"], [\"Namibia\"], [\"Namibia\"], [\"Namibia\"], [\"Namibia\"], [\"Namibia\"], [\"Namibia\"], [\"Namibia\"], [\"Niger\"], [\"Niger\"], [\"Niger\"], [\"Niger\"], [\"Niger\"], [\"Niger\"], [\"Niger\"], [\"Niger\"], [\"Niger\"], [\"Niger\"], [\"Niger\"], [\"Niger\"], [\"Nigeria\"], [\"Nigeria\"], [\"Nigeria\"], [\"Nigeria\"], [\"Nigeria\"], [\"Nigeria\"], [\"Nigeria\"], [\"Nigeria\"], [\"Nigeria\"], [\"Nigeria\"], [\"Nigeria\"], [\"Nigeria\"], [\"Reunion\"], [\"Reunion\"], [\"Reunion\"], [\"Reunion\"], [\"Reunion\"], [\"Reunion\"], [\"Reunion\"], [\"Reunion\"], [\"Reunion\"], [\"Reunion\"], [\"Reunion\"], [\"Reunion\"], [\"Rwanda\"], [\"Rwanda\"], [\"Rwanda\"], [\"Rwanda\"], [\"Rwanda\"], [\"Rwanda\"], [\"Rwanda\"], [\"Rwanda\"], [\"Rwanda\"], [\"Rwanda\"], [\"Rwanda\"], [\"Rwanda\"], [\"Sao Tome and Principe\"], [\"Sao Tome and Principe\"], [\"Sao Tome and Principe\"], [\"Sao Tome and Principe\"], [\"Sao Tome and Principe\"], [\"Sao Tome and Principe\"], [\"Sao Tome and Principe\"], [\"Sao Tome and Principe\"], [\"Sao Tome and Principe\"], [\"Sao Tome and Principe\"], [\"Sao Tome and Principe\"], [\"Sao Tome and Principe\"], [\"Senegal\"], [\"Senegal\"], [\"Senegal\"], [\"Senegal\"], [\"Senegal\"], [\"Senegal\"], [\"Senegal\"], [\"Senegal\"], [\"Senegal\"], [\"Senegal\"], [\"Senegal\"], [\"Senegal\"], [\"Sierra Leone\"], [\"Sierra Leone\"], [\"Sierra Leone\"], [\"Sierra Leone\"], [\"Sierra Leone\"], [\"Sierra Leone\"], [\"Sierra Leone\"], [\"Sierra Leone\"], [\"Sierra Leone\"], [\"Sierra Leone\"], [\"Sierra Leone\"], [\"Sierra Leone\"], [\"Somalia\"], [\"Somalia\"], [\"Somalia\"], [\"Somalia\"], [\"Somalia\"], [\"Somalia\"], [\"Somalia\"], [\"Somalia\"], [\"Somalia\"], [\"Somalia\"], [\"Somalia\"], [\"Somalia\"], [\"South Africa\"], [\"South Africa\"], [\"South Africa\"], [\"South Africa\"], [\"South Africa\"], [\"South Africa\"], [\"South Africa\"], [\"South Africa\"], [\"South Africa\"], [\"South Africa\"], [\"South Africa\"], [\"South Africa\"], [\"Sudan\"], [\"Sudan\"], [\"Sudan\"], [\"Sudan\"], [\"Sudan\"], [\"Sudan\"], [\"Sudan\"], [\"Sudan\"], [\"Sudan\"], [\"Sudan\"], [\"Sudan\"], [\"Sudan\"], [\"Swaziland\"], [\"Swaziland\"], [\"Swaziland\"], [\"Swaziland\"], [\"Swaziland\"], [\"Swaziland\"], [\"Swaziland\"], [\"Swaziland\"], [\"Swaziland\"], [\"Swaziland\"], [\"Swaziland\"], [\"Swaziland\"], [\"Tanzania\"], [\"Tanzania\"], [\"Tanzania\"], [\"Tanzania\"], [\"Tanzania\"], [\"Tanzania\"], [\"Tanzania\"], [\"Tanzania\"], [\"Tanzania\"], [\"Tanzania\"], [\"Tanzania\"], [\"Tanzania\"], [\"Togo\"], [\"Togo\"], [\"Togo\"], [\"Togo\"], [\"Togo\"], [\"Togo\"], [\"Togo\"], [\"Togo\"], [\"Togo\"], [\"Togo\"], [\"Togo\"], [\"Togo\"], [\"Tunisia\"], [\"Tunisia\"], [\"Tunisia\"], [\"Tunisia\"], [\"Tunisia\"], [\"Tunisia\"], [\"Tunisia\"], [\"Tunisia\"], [\"Tunisia\"], [\"Tunisia\"], [\"Tunisia\"], [\"Tunisia\"], [\"Uganda\"], [\"Uganda\"], [\"Uganda\"], [\"Uganda\"], [\"Uganda\"], [\"Uganda\"], [\"Uganda\"], [\"Uganda\"], [\"Uganda\"], [\"Uganda\"], [\"Uganda\"], [\"Uganda\"], [\"Zambia\"], [\"Zambia\"], [\"Zambia\"], [\"Zambia\"], [\"Zambia\"], [\"Zambia\"], [\"Zambia\"], [\"Zambia\"], [\"Zambia\"], [\"Zambia\"], [\"Zambia\"], [\"Zambia\"], [\"Zimbabwe\"], [\"Zimbabwe\"], [\"Zimbabwe\"], [\"Zimbabwe\"], [\"Zimbabwe\"], [\"Zimbabwe\"], [\"Zimbabwe\"], [\"Zimbabwe\"], [\"Zimbabwe\"], [\"Zimbabwe\"], [\"Zimbabwe\"], [\"Zimbabwe\"]], \"hovertemplate\": \"continent=Africa<br>year=%{x}<br>gdp=%{y}<br>country=%{customdata[0]}<extra></extra>\", \"legendgroup\": \"Africa\", \"marker\": {\"color\": \"#00cc96\"}, \"name\": \"Africa\", \"offsetgroup\": \"Africa\", \"orientation\": \"v\", \"showlegend\": true, \"textposition\": \"auto\", \"type\": \"bar\", \"x\": [1952, 1957, 1962, 1967, 1972, 1977, 1982, 1987, 1992, 1997, 2002, 2007, 1952, 1957, 1962, 1967, 1972, 1977, 1982, 1987, 1992, 1997, 2002, 2007, 1952, 1957, 1962, 1967, 1972, 1977, 1982, 1987, 1992, 1997, 2002, 2007, 1952, 1957, 1962, 1967, 1972, 1977, 1982, 1987, 1992, 1997, 2002, 2007, 1952, 1957, 1962, 1967, 1972, 1977, 1982, 1987, 1992, 1997, 2002, 2007, 1952, 1957, 1962, 1967, 1972, 1977, 1982, 1987, 1992, 1997, 2002, 2007, 1952, 1957, 1962, 1967, 1972, 1977, 1982, 1987, 1992, 1997, 2002, 2007, 1952, 1957, 1962, 1967, 1972, 1977, 1982, 1987, 1992, 1997, 2002, 2007, 1952, 1957, 1962, 1967, 1972, 1977, 1982, 1987, 1992, 1997, 2002, 2007, 1952, 1957, 1962, 1967, 1972, 1977, 1982, 1987, 1992, 1997, 2002, 2007, 1952, 1957, 1962, 1967, 1972, 1977, 1982, 1987, 1992, 1997, 2002, 2007, 1952, 1957, 1962, 1967, 1972, 1977, 1982, 1987, 1992, 1997, 2002, 2007, 1952, 1957, 1962, 1967, 1972, 1977, 1982, 1987, 1992, 1997, 2002, 2007, 1952, 1957, 1962, 1967, 1972, 1977, 1982, 1987, 1992, 1997, 2002, 2007, 1952, 1957, 1962, 1967, 1972, 1977, 1982, 1987, 1992, 1997, 2002, 2007, 1952, 1957, 1962, 1967, 1972, 1977, 1982, 1987, 1992, 1997, 2002, 2007, 1952, 1957, 1962, 1967, 1972, 1977, 1982, 1987, 1992, 1997, 2002, 2007, 1952, 1957, 1962, 1967, 1972, 1977, 1982, 1987, 1992, 1997, 2002, 2007, 1952, 1957, 1962, 1967, 1972, 1977, 1982, 1987, 1992, 1997, 2002, 2007, 1952, 1957, 1962, 1967, 1972, 1977, 1982, 1987, 1992, 1997, 2002, 2007, 1952, 1957, 1962, 1967, 1972, 1977, 1982, 1987, 1992, 1997, 2002, 2007, 1952, 1957, 1962, 1967, 1972, 1977, 1982, 1987, 1992, 1997, 2002, 2007, 1952, 1957, 1962, 1967, 1972, 1977, 1982, 1987, 1992, 1997, 2002, 2007, 1952, 1957, 1962, 1967, 1972, 1977, 1982, 1987, 1992, 1997, 2002, 2007, 1952, 1957, 1962, 1967, 1972, 1977, 1982, 1987, 1992, 1997, 2002, 2007, 1952, 1957, 1962, 1967, 1972, 1977, 1982, 1987, 1992, 1997, 2002, 2007, 1952, 1957, 1962, 1967, 1972, 1977, 1982, 1987, 1992, 1997, 2002, 2007, 1952, 1957, 1962, 1967, 1972, 1977, 1982, 1987, 1992, 1997, 2002, 2007, 1952, 1957, 1962, 1967, 1972, 1977, 1982, 1987, 1992, 1997, 2002, 2007, 1952, 1957, 1962, 1967, 1972, 1977, 1982, 1987, 1992, 1997, 2002, 2007, 1952, 1957, 1962, 1967, 1972, 1977, 1982, 1987, 1992, 1997, 2002, 2007, 1952, 1957, 1962, 1967, 1972, 1977, 1982, 1987, 1992, 1997, 2002, 2007, 1952, 1957, 1962, 1967, 1972, 1977, 1982, 1987, 1992, 1997, 2002, 2007, 1952, 1957, 1962, 1967, 1972, 1977, 1982, 1987, 1992, 1997, 2002, 2007, 1952, 1957, 1962, 1967, 1972, 1977, 1982, 1987, 1992, 1997, 2002, 2007, 1952, 1957, 1962, 1967, 1972, 1977, 1982, 1987, 1992, 1997, 2002, 2007, 1952, 1957, 1962, 1967, 1972, 1977, 1982, 1987, 1992, 1997, 2002, 2007, 1952, 1957, 1962, 1967, 1972, 1977, 1982, 1987, 1992, 1997, 2002, 2007, 1952, 1957, 1962, 1967, 1972, 1977, 1982, 1987, 1992, 1997, 2002, 2007, 1952, 1957, 1962, 1967, 1972, 1977, 1982, 1987, 1992, 1997, 2002, 2007, 1952, 1957, 1962, 1967, 1972, 1977, 1982, 1987, 1992, 1997, 2002, 2007, 1952, 1957, 1962, 1967, 1972, 1977, 1982, 1987, 1992, 1997, 2002, 2007, 1952, 1957, 1962, 1967, 1972, 1977, 1982, 1987, 1992, 1997, 2002, 2007, 1952, 1957, 1962, 1967, 1972, 1977, 1982, 1987, 1992, 1997, 2002, 2007, 1952, 1957, 1962, 1967, 1972, 1977, 1982, 1987, 1992, 1997, 2002, 2007, 1952, 1957, 1962, 1967, 1972, 1977, 1982, 1987, 1992, 1997, 2002, 2007, 1952, 1957, 1962, 1967, 1972, 1977, 1982, 1987, 1992, 1997, 2002, 2007, 1952, 1957, 1962, 1967, 1972, 1977, 1982, 1987, 1992, 1997, 2002, 2007, 1952, 1957, 1962, 1967, 1972, 1977, 1982, 1987, 1992, 1997, 2002, 2007, 1952, 1957, 1962, 1967, 1972, 1977, 1982, 1987, 1992, 1997, 2002, 2007, 1952, 1957, 1962, 1967, 1972, 1977, 1982, 1987, 1992, 1997, 2002, 2007, 1952, 1957, 1962, 1967, 1972, 1977, 1982, 1987, 1992, 1997, 2002, 2007], \"xaxis\": \"x\", \"y\": [22725632677.912125, 30956113719.685688, 28061403854.402237, 41433235246.85373, 61739408942.54384, 84227416173.98383, 115097120652.66939, 132119742844.66928, 132102425042.61534, 139467033682.09778, 165447670333.36826, 207444851958.21744, 14899557133.311934, 17460618347.372864, 20603593596.04313, 28980597821.744877, 32264255582.578285, 18541315838.474625, 19343845632.962048, 19136019188.72553, 22956828370.011784, 22486820880.881214, 30134833900.64707, 59583895818.22309, 1847398090.5429997, 1847398090.9494264, 2043222288.5414696, 2514308802.188274, 2998327102.248753, 3260657629.222017, 4653595792.118448, 5202273024.965879, 5934204759.414951, 7479326759.295361, 9645995478.412203, 11643151767.544123, 376510766.46073556, 435828972.13240105, 504382347.55476964, 672391397.310054, 1401969807.0670142, 2512321368.748096, 4416187131.82605, 7144114193.9784, 10679301652.14003, 13286645461.047768, 17939694531.36276, 20603633701.611874, 2428339520.2509327, 2909042417.9237566, 3554493256.928419, 4075818934.4152193, 4644537855.312902, 4378232963.874324, 5355436506.563958, 6919413539.727277, 8272383440.6720495, 9796843171.206396, 12712408470.32219, 17435461729.74178, 829789526.7329766, 1012495477.6200559, 1052081766.9882795, 1375623555.0489507, 1638263359.0754337, 2132330701.2484167, 2563212235.30471, 3187457567.514234, 3669693671.311361, 2835010319.923958, 3134233881.438583, 3608510288.2232585, 5873970852.627885, 7037836705.936378, 8108811857.223154, 9556813969.872889, 11824439929.190786, 14195884905.642145, 21905813152.60734, 28058456117.705402, 22355673217.74654, 24052491091.467422, 30808779174.43261, 36137515700.94532, 1383806691.428535, 1657993504.365152, 1817613997.682934, 1969510917.91537, 2062193784.3765001, 2404605486.968154, 2369849412.1271696, 2399456439.023154, 2442004280.063125, 2737291281.7113624, 2990229179.3042884, 3084613078.781406, 3161726559.872274, 3787904963.556335, 4378505050.646707, 4184010240.491355, 4304976524.384116, 4976220796.687, 3889896143.5808706, 5237128465.995194, 6802736597.5131, 7599528805.960882, 10215721151.49454, 17447579585.737267, 169790012.724096, 207019199.012544, 269639001.76154196, 407807571.736054, 484446733.347225, 357337879.939733, 441765574.237369, 519962442.552568, 566630869.24173, 619649302.95177, 660959256.627156, 701111696.196032, 11005650695.081629, 14111429069.117739, 15673346681.931942, 17181093743.005096, 20819549223.44933, 21072345136.19534, 20648009138.66256, 23871157044.32574, 19074139151.97324, 14922290060.339079, 13355730548.020279, 17931726045.03295, 1817161865.9269302, 2177213473.589976, 2582905425.016068, 3159326072.0459204, 4307096219.148814, 5008605218.842082, 8659832782.05667, 8671665463.487013, 9675414210.846617, 9758959756.464071, 11597728065.426151, 13805935492.65678, 4133872900.463908, 4952956552.5, 6625733026.822625, 9736712727.823511, 14439714172.854256, 18781242084.85098, 23491934452.59572, 23211215640.203766, 21050180710.631435, 26125858896.02357, 26797508004.7935, 27826215570.25181, 168578116.816775, 205850893.07967603, 271580892.765174, 385409786.317521, 660702490.730496, 704780255.165268, 881091313.2893971, 895783901.2121999, 913198814.0939522, 791942757.749472, 853786444.0696721, 1033689705.3380581, 31530929611.370506, 36487093093.66455, 47706874227.34758, 57497577541.344864, 70450495584.02629, 108032201471.66727, 160056715026.8508, 205148680925.85403, 225416799454.9186, 275990419358.7009, 348572216623.03546, 447970942204.7539, 81501034.5602684, 99247227.56746821, 145255876.11230797, 237930439.59366003, 186663659.8077313, 184691860.57917, 264878362.3100241, 329947736.7037356, 439053960.276492, 1238289912.258105, 3818060562.4293, 6699346424.289749, 473266515.93319607, 530907910.97008485, 634974530.3689594, 853356390.8133981, 1162468889.1589332, 1270778258.8869433, 1384253502.731342, 1519605766.2033348, 2138181473.1580882, 3707155863.0020103, 3378916934.3722973, 3146934083.9529066, 7554712172.1051035, 8644931130.564203, 10547387620.62129, 14379218703.505207, 17423536805.781246, 19275480698.056137, 22023287795.452908, 24670606852.18233, 21947694837.133503, 30881810733.929092, 36015439731.14233, 52854838162.23072, 1806274139.9854503, 2164168458.047496, 3021697340.555742, 4087468046.690948, 6133985999.766569, 15360355361.073761, 11393570619.155561, 10445389597.350681, 13329318031.607279, 16580702573.995321, 16269512983.111681, 19213678514.15884, 137960780.995312, 168337466.691965, 224281196.22952, 323005424.8106532, 390973259.13756627, 538173615.3642919, 598041000.1484483, 518935047.71040666, 682520622.6894385, 807858171.4846969, 962979227.3322701, 1270911775.4838135, 5085960279.254037, 6669702328.689655, 8753047553.087263, 9557408661.895079, 11021245951.47696, 10466686429.74781, 9987067385.608322, 12000468163.685463, 15058811881.20565, 18514906876.209854, 22852118178.318073, 30366847330.241577, 1359290494.4137828, 1657762332.321787, 2155215395.1670218, 2446225437.1339965, 2826777030.028981, 3697319890.2285714, 4038075238.194777, 4551695525.657611, 5552951540.4196415, 6998056844.311911, 8328528109.017367, 9377348758.339535, 174108987.27830702, 259547084.50997704, 327743619.74295, 430269336.40393746, 512936468.32612365, 569895199.8055184, 692279501.2130277, 683042950.1421604, 783516180.5286227, 950984748.8867148, 767102932.3085784, 852652874.1974629, 5517327763.298273, 7040578918.948341, 7784373796.899472, 10769742282.352983, 14723063007.16688, 18380903573.734417, 23811625092.908535, 28870449152.310192, 33575604755.227623, 38452513269.635376, 40411021465.956345, 52106565927.142914, 223760204.7712387, 273279221.6012038, 367796847.04340386, 496833953.22406995, 554571893.9555238, 932847869.1801791, 1125581635.8690717, 1237769947.98872, 1762598359.1406374, 2351921523.907062, 2610012082.9419, 3158513357.4098577, 496896772.11709887, 606035661.8380951, 705729840.04935, 912988789.2569097, 1190558369.5117981, 1090864191.369331, 1119723032.3696249, 1148581873.3506222, 1217843092.0424037, 1340624342.8743298, 1495937378.2921028, 1323912407.325193, 2434651995.6757402, 4143382666.77531, 9742712723.450207, 33025475319.088562, 45886525492.48316, 59746434997.768074, 58067421827.09813, 44726416798.581, 42074394127.753006, 45061918969.36153, 51187726429.174194, 72790086208.42192, 6872937813.51408, 8234738516.41725, 9372769145.75364, 10350964014.476791, 12384074920.60626, 12364894630.047276, 11949321645.637867, 12211452300.194618, 12707067346.995052, 13970993798.906097, 14737783396.96881, 20025792284.704403, 1077150609.3377204, 1341226242.428323, 1552685302.4168448, 2055024664.8729112, 2765844790.461987, 3738755018.0186434, 4115013156.9265423, 4972762582.712059, 5640025182.00661, 7213507712.843706, 7868292338.770108, 10119916240.545597, 1736145324.5393577, 2080144351.6477427, 2327242244.5875216, 2840818256.7207165, 3388309666.1932235, 4455837163.556076, 4325020632.172209, 5222971144.090861, 6219703868.090625, 7416558541.343246, 10066082622.160315, 12544127564.604815, 759877632.1591932, 911146295.6214277, 1210856170.5552518, 1748778848.0846062, 2114933837.791866, 2181378951.337424, 2402627042.983704, 2617513368.27424, 2885375609.24556, 3625883720.2607756, 4466822066.371894, 5896422596.767241, 1016559328.1850921, 1240388905.421496, 1772916773.466792, 1953845681.1746578, 2192597230.166772, 3388220219.7930756, 3658680958.59756, 4987669071.042689, 6641069982.492892, 8538209610.886311, 10828037566.874163, 13705902966.167841, 16779421622.40469, 18729253094.2939, 20451257282.11777, 25272637722.15192, 32158341514.13325, 43612155831.89342, 54589498863.34788, 63331358935.77243, 76054427590.38922, 85077877939.91286, 101560083268.57027, 128958323769.77524, 3020266895.8206396, 3487957478.304566, 4335998836.091281, 4919203358.112895, 7111150787.504306, 5589747687.070391, 5817958152.491823, 5026265057.80634, 5407702568.10227, 7842519681.681052, 11705318549.540148, 16433892152.362549, 1177547676.4031332, 1436763251.62864, 1971810785.00824, 2680776460.25992, 3078461893.609336, 3787427569.600908, 4606061372.59411, 4721268295.2520075, 5913214598.559747, 6920743072.82316, 8031247474.658902, 9887114066.42932, 2574746971.051968, 3084906138.3360605, 4066902657.4941015, 4780646467.657242, 4828548738.4979105, 4596222732.79786, 5856052413.331256, 4900402142.5841465, 4877760835.66905, 5609376389.039919, 6696363647.1662855, 7990649871.117525, 35678601207.92218, 40912701545.87042, 48190888406.882774, 47974091350.4542, 91271560517.17122, 123295582777.11642, 115181178668.38, 112951266107.58577, 151235904174.95294, 172581501319.65472, 193674896635.36722, 271949699763.73303, 700656740.5215, 854929784.2428, 1139049306.726, 1664863264.163736, 2330165765.413379, 2125753982.350365, 2727418853.1769304, 2980683766.46808, 3796146461.768193, 4158126197.6669097, 4699106901.661201, 6121478792.804452, 1250540010.9891105, 1524740985.7332604, 1823034933.2912936, 1763376143.837622, 2357669470.1499195, 3120613605.125979, 4855307638.792286, 5384205753.527205, 5373379681.745765, 4255023708.4276733, 6169268408.369284, 7647471286.1707735, 52784690.5494405, 52784690.551945, 70020507.87105499, 98028711.05669099, 117419005.53013, 150813401.580972, 186362274.809381, 168049218.941084, 179898843.338554, 194980183.449888, 230529056.66908, 319014076.627531, 3996587748.4279866, 4788469786.518282, 5677013482.149689, 6394540398.175512, 7331414920.518976, 8216240862.75418, 9335285431.475471, 10339079560.20984, 11364398525.70248, 13276669392.30596, 16518491524.444695, 21007739941.075047, 1885604184.965614, 2305972823.363286, 2755749969.2489147, 3210716852.08835, 3897491953.674906, 4234824811.047623, 5075562091.405249, 5008095519.232141, 4553590871.789752, 2630861090.902211, 3748629725.0205956, 5299935153.383328, 2870033036.2349477, 3498171939.3163953, 4218233606.5954075, 4405143232.1780205, 4817774314.436447, 6317136770.102658, 6859481088.539652, 7567286393.101254, 5654271489.020423, 6173124436.141397, 6839053809.780158, 8445270167.805196, 67406033605.50549, 88625232661.28523, 105894592740.67607, 149384977704.5157, 185884606122.39517, 217816767591.77216, 266816058819.64062, 281208278147.40186, 288743816612.724, 320371065827.6812, 342625279554.9402, 407844809855.241, 13743466427.099043, 17266791454.855007, 21914581924.14611, 21464795754.651688, 24225983090.077724, 37682086133.57708, 38606646598.62687, 37282276212.66764, 42121123344.622284, 52493088051.88696, 73935737498.95758, 110062906753.49036, 333308277.060118, 406697255.561724, 686798523.3427501, 1099305739.44885, 1615474887.845625, 2085164350.03065, 2531613968.682218, 3105576937.8025756, 3419229788.5056, 4087998066.31156, 4665882609.047667, 5114071458.241438, 5964624801.332892, 6603135550.61123, 7843819038.347293, 10693757259.323639, 13471019459.735306, 16487074298.368458, 17348804251.999435, 19165704757.286022, 21967672236.47074, 24217670028.598938, 31102374563.392746, 42238971727.89448, 1048203910.8955071, 1256869619.713889, 1631297808.09138, 2564443056.818, 3392280377.2539883, 3538541387.596836, 3556092709.866045, 3792060473.7533035, 3876089960.581912, 4244353748.3386264, 4411054800.618418, 5034322889.20126, 5356609955.845785, 5512352800.965332, 7116976045.43192, 9250181066.386663, 14602071542.18096, 18741055623.54047, 23974959096.567055, 29435397611.536896, 36928107577.22463, 45020990584.106766, 55915981214.351616, 72887997686.73795, 4279789889.3427477, 5169314846.81567, 5899396651.159019, 8089642065.17538, 9688269464.832664, 9667290102.618399, 8828115615.05592, 9440712990.759825, 11757527777.47021, 17319425514.016575, 22951696053.080765, 30815028568.858162, 3065822956.432, 3956861606.256, 4969774845.486, 6930601540.2, 7992264610.727705, 8287471946.14845, 8593512578.675955, 8823720129.489096, 10148621483.368177, 10089784202.268402, 11354618752.01372, 14931695863.783754, 1253572117.4761236, 1891590901.3437538, 2255531193.8844047, 2846372532.1147585, 4685169626.257533, 4553746742.390185, 6024110453.881136, 6508240904.928266, 7422611852.129504, 9037850589.823565, 8015110972.064782, 5782658337.338729], \"yaxis\": \"y\"}, {\"alignmentgroup\": \"True\", \"customdata\": [[\"Argentina\"], [\"Argentina\"], [\"Argentina\"], [\"Argentina\"], [\"Argentina\"], [\"Argentina\"], [\"Argentina\"], [\"Argentina\"], [\"Argentina\"], [\"Argentina\"], [\"Argentina\"], [\"Argentina\"], [\"Bolivia\"], [\"Bolivia\"], [\"Bolivia\"], [\"Bolivia\"], [\"Bolivia\"], [\"Bolivia\"], [\"Bolivia\"], [\"Bolivia\"], [\"Bolivia\"], [\"Bolivia\"], [\"Bolivia\"], [\"Bolivia\"], [\"Brazil\"], [\"Brazil\"], [\"Brazil\"], [\"Brazil\"], [\"Brazil\"], [\"Brazil\"], [\"Brazil\"], [\"Brazil\"], [\"Brazil\"], [\"Brazil\"], [\"Brazil\"], [\"Brazil\"], [\"Canada\"], [\"Canada\"], [\"Canada\"], [\"Canada\"], [\"Canada\"], [\"Canada\"], [\"Canada\"], [\"Canada\"], [\"Canada\"], [\"Canada\"], [\"Canada\"], [\"Canada\"], [\"Chile\"], [\"Chile\"], [\"Chile\"], [\"Chile\"], [\"Chile\"], [\"Chile\"], [\"Chile\"], [\"Chile\"], [\"Chile\"], [\"Chile\"], [\"Chile\"], [\"Chile\"], [\"Colombia\"], [\"Colombia\"], [\"Colombia\"], [\"Colombia\"], [\"Colombia\"], [\"Colombia\"], [\"Colombia\"], [\"Colombia\"], [\"Colombia\"], [\"Colombia\"], [\"Colombia\"], [\"Colombia\"], [\"Costa Rica\"], [\"Costa Rica\"], [\"Costa Rica\"], [\"Costa Rica\"], [\"Costa Rica\"], [\"Costa Rica\"], [\"Costa Rica\"], [\"Costa Rica\"], [\"Costa Rica\"], [\"Costa Rica\"], [\"Costa Rica\"], [\"Costa Rica\"], [\"Cuba\"], [\"Cuba\"], [\"Cuba\"], [\"Cuba\"], [\"Cuba\"], [\"Cuba\"], [\"Cuba\"], [\"Cuba\"], [\"Cuba\"], [\"Cuba\"], [\"Cuba\"], [\"Cuba\"], [\"Dominican Republic\"], [\"Dominican Republic\"], [\"Dominican Republic\"], [\"Dominican Republic\"], [\"Dominican Republic\"], [\"Dominican Republic\"], [\"Dominican Republic\"], [\"Dominican Republic\"], [\"Dominican Republic\"], [\"Dominican Republic\"], [\"Dominican Republic\"], [\"Dominican Republic\"], [\"Ecuador\"], [\"Ecuador\"], [\"Ecuador\"], [\"Ecuador\"], [\"Ecuador\"], [\"Ecuador\"], [\"Ecuador\"], [\"Ecuador\"], [\"Ecuador\"], [\"Ecuador\"], [\"Ecuador\"], [\"Ecuador\"], [\"El Salvador\"], [\"El Salvador\"], [\"El Salvador\"], [\"El Salvador\"], [\"El Salvador\"], [\"El Salvador\"], [\"El Salvador\"], [\"El Salvador\"], [\"El Salvador\"], [\"El Salvador\"], [\"El Salvador\"], [\"El Salvador\"], [\"Guatemala\"], [\"Guatemala\"], [\"Guatemala\"], [\"Guatemala\"], [\"Guatemala\"], [\"Guatemala\"], [\"Guatemala\"], [\"Guatemala\"], [\"Guatemala\"], [\"Guatemala\"], [\"Guatemala\"], [\"Guatemala\"], [\"Haiti\"], [\"Haiti\"], [\"Haiti\"], [\"Haiti\"], [\"Haiti\"], [\"Haiti\"], [\"Haiti\"], [\"Haiti\"], [\"Haiti\"], [\"Haiti\"], [\"Haiti\"], [\"Haiti\"], [\"Honduras\"], [\"Honduras\"], [\"Honduras\"], [\"Honduras\"], [\"Honduras\"], [\"Honduras\"], [\"Honduras\"], [\"Honduras\"], [\"Honduras\"], [\"Honduras\"], [\"Honduras\"], [\"Honduras\"], [\"Jamaica\"], [\"Jamaica\"], [\"Jamaica\"], [\"Jamaica\"], [\"Jamaica\"], [\"Jamaica\"], [\"Jamaica\"], [\"Jamaica\"], [\"Jamaica\"], [\"Jamaica\"], [\"Jamaica\"], [\"Jamaica\"], [\"Mexico\"], [\"Mexico\"], [\"Mexico\"], [\"Mexico\"], [\"Mexico\"], [\"Mexico\"], [\"Mexico\"], [\"Mexico\"], [\"Mexico\"], [\"Mexico\"], [\"Mexico\"], [\"Mexico\"], [\"Nicaragua\"], [\"Nicaragua\"], [\"Nicaragua\"], [\"Nicaragua\"], [\"Nicaragua\"], [\"Nicaragua\"], [\"Nicaragua\"], [\"Nicaragua\"], [\"Nicaragua\"], [\"Nicaragua\"], [\"Nicaragua\"], [\"Nicaragua\"], [\"Panama\"], [\"Panama\"], [\"Panama\"], [\"Panama\"], [\"Panama\"], [\"Panama\"], [\"Panama\"], [\"Panama\"], [\"Panama\"], [\"Panama\"], [\"Panama\"], [\"Panama\"], [\"Paraguay\"], [\"Paraguay\"], [\"Paraguay\"], [\"Paraguay\"], [\"Paraguay\"], [\"Paraguay\"], [\"Paraguay\"], [\"Paraguay\"], [\"Paraguay\"], [\"Paraguay\"], [\"Paraguay\"], [\"Paraguay\"], [\"Peru\"], [\"Peru\"], [\"Peru\"], [\"Peru\"], [\"Peru\"], [\"Peru\"], [\"Peru\"], [\"Peru\"], [\"Peru\"], [\"Peru\"], [\"Peru\"], [\"Peru\"], [\"Puerto Rico\"], [\"Puerto Rico\"], [\"Puerto Rico\"], [\"Puerto Rico\"], [\"Puerto Rico\"], [\"Puerto Rico\"], [\"Puerto Rico\"], [\"Puerto Rico\"], [\"Puerto Rico\"], [\"Puerto Rico\"], [\"Puerto Rico\"], [\"Puerto Rico\"], [\"Trinidad and Tobago\"], [\"Trinidad and Tobago\"], [\"Trinidad and Tobago\"], [\"Trinidad and Tobago\"], [\"Trinidad and Tobago\"], [\"Trinidad and Tobago\"], [\"Trinidad and Tobago\"], [\"Trinidad and Tobago\"], [\"Trinidad and Tobago\"], [\"Trinidad and Tobago\"], [\"Trinidad and Tobago\"], [\"Trinidad and Tobago\"], [\"United States\"], [\"United States\"], [\"United States\"], [\"United States\"], [\"United States\"], [\"United States\"], [\"United States\"], [\"United States\"], [\"United States\"], [\"United States\"], [\"United States\"], [\"United States\"], [\"Uruguay\"], [\"Uruguay\"], [\"Uruguay\"], [\"Uruguay\"], [\"Uruguay\"], [\"Uruguay\"], [\"Uruguay\"], [\"Uruguay\"], [\"Uruguay\"], [\"Uruguay\"], [\"Uruguay\"], [\"Uruguay\"], [\"Venezuela\"], [\"Venezuela\"], [\"Venezuela\"], [\"Venezuela\"], [\"Venezuela\"], [\"Venezuela\"], [\"Venezuela\"], [\"Venezuela\"], [\"Venezuela\"], [\"Venezuela\"], [\"Venezuela\"], [\"Venezuela\"]], \"hovertemplate\": \"continent=Americas<br>year=%{x}<br>gdp=%{y}<br>country=%{customdata[0]}<extra></extra>\", \"legendgroup\": \"Americas\", \"marker\": {\"color\": \"#ab63fa\"}, \"name\": \"Americas\", \"offsetgroup\": \"Americas\", \"orientation\": \"v\", \"showlegend\": true, \"textposition\": \"auto\", \"type\": \"bar\", \"x\": [1952, 1957, 1962, 1967, 1972, 1977, 1982, 1987, 1992, 1997, 2002, 2007, 1952, 1957, 1962, 1967, 1972, 1977, 1982, 1987, 1992, 1997, 2002, 2007, 1952, 1957, 1962, 1967, 1972, 1977, 1982, 1987, 1992, 1997, 2002, 2007, 1952, 1957, 1962, 1967, 1972, 1977, 1982, 1987, 1992, 1997, 2002, 2007, 1952, 1957, 1962, 1967, 1972, 1977, 1982, 1987, 1992, 1997, 2002, 2007, 1952, 1957, 1962, 1967, 1972, 1977, 1982, 1987, 1992, 1997, 2002, 2007, 1952, 1957, 1962, 1967, 1972, 1977, 1982, 1987, 1992, 1997, 2002, 2007, 1952, 1957, 1962, 1967, 1972, 1977, 1982, 1987, 1992, 1997, 2002, 2007, 1952, 1957, 1962, 1967, 1972, 1977, 1982, 1987, 1992, 1997, 2002, 2007, 1952, 1957, 1962, 1967, 1972, 1977, 1982, 1987, 1992, 1997, 2002, 2007, 1952, 1957, 1962, 1967, 1972, 1977, 1982, 1987, 1992, 1997, 2002, 2007, 1952, 1957, 1962, 1967, 1972, 1977, 1982, 1987, 1992, 1997, 2002, 2007, 1952, 1957, 1962, 1967, 1972, 1977, 1982, 1987, 1992, 1997, 2002, 2007, 1952, 1957, 1962, 1967, 1972, 1977, 1982, 1987, 1992, 1997, 2002, 2007, 1952, 1957, 1962, 1967, 1972, 1977, 1982, 1987, 1992, 1997, 2002, 2007, 1952, 1957, 1962, 1967, 1972, 1977, 1982, 1987, 1992, 1997, 2002, 2007, 1952, 1957, 1962, 1967, 1972, 1977, 1982, 1987, 1992, 1997, 2002, 2007, 1952, 1957, 1962, 1967, 1972, 1977, 1982, 1987, 1992, 1997, 2002, 2007, 1952, 1957, 1962, 1967, 1972, 1977, 1982, 1987, 1992, 1997, 2002, 2007, 1952, 1957, 1962, 1967, 1972, 1977, 1982, 1987, 1992, 1997, 2002, 2007, 1952, 1957, 1962, 1967, 1972, 1977, 1982, 1987, 1992, 1997, 2002, 2007, 1952, 1957, 1962, 1967, 1972, 1977, 1982, 1987, 1992, 1997, 2002, 2007, 1952, 1957, 1962, 1967, 1972, 1977, 1982, 1987, 1992, 1997, 2002, 2007, 1952, 1957, 1962, 1967, 1972, 1977, 1982, 1987, 1992, 1997, 2002, 2007, 1952, 1957, 1962, 1967, 1972, 1977, 1982, 1987, 1992, 1997, 2002, 2007], \"xaxis\": \"x\", \"y\": [105676319104.61867, 134466639305.96207, 151820757736.50504, 184688236498.0437, 233996596623.5363, 271970723959.56076, 264010673179.12408, 289004799538.5151, 316104097626.69836, 397053586287.3929, 337223430799.52264, 515033625356.56635, 7719575216.200304, 6833571025.294588, 7838236490.575228, 10452739933.345245, 13607811411.462606, 18023329326.77571, 17809739028.52525, 16952740924.599808, 20416331717.303993, 25588644883.28291, 28825460794.25046, 34854649033.83277, 119371649390.5488, 163049753284.5231, 253711949066.74078, 301998949547.8588, 502759433503.5451, 761344477467.542, 906717258453.5254, 1115931255372.5662, 1084077163776.1373, 1341291557750.1165, 1462920751252.625, 1722598680331.3838, 168070115581.2941, 212455973972.90924, 255596717816.98193, 334710816939.58905, 422749686329.67, 525683489648.984, 577093069633.066, 706925986091.9911, 751391311875.8785, 877503438098.9752, 1063269575825.7787, 1212704377996.0366, 25127683584.32339, 30418347406.983994, 35977675895.4284, 45239380746.670204, 53388314323.13399, 50420712011.48595, 58534483046.968666, 69135019226.67091, 103102172132.61621, 147722858046.2242, 167039309147.5071, 214496727217.78784, 26481474548.339016, 33662631379.726933, 42394605743.71247, 52942488863.70165, 73594872191.6585, 95755454802.62244, 122097122635.2004, 151824477501.0795, 186221797590.28687, 230366568679.3712, 236013006965.70737, 309883885810.34344, 2433443532.1483073, 3325789015.0646, 4655607493.848675, 6611807759.248979, 9390755531.089445, 12496565229.209919, 12758800460.077618, 15762698836.4049, 19548331623.765472, 23490559858.5006, 29618910245.31013, 39871565083.15528, 33562790922.86766, 40456619058.877975, 37583135793.09443, 46314980543.06598, 46854233350.68509, 60857084419.7684, 71626950339.07896, 77135936772.23315, 59973519954.67938, 59659588751.87791, 71186433969.39432, 102160374746.55301, 3482196998.396402, 4514577213.34207, 5740081668.240807, 6696165882.705438, 10229624253.539171, 14222050738.919998, 17075997880.890713, 19299310927.750977, 22378569689.886734, 28885187703.878746, 39478410078.32559, 56154215096.98375, 12499100973.285902, 15342913820.218634, 19129988881.771145, 24875472663.347157, 33263142611.13621, 48620082640.02316, 60349495671.03195, 61869585518.9499, 76353394349.88243, 88498333675.31026, 74594859031.9678, 94546397112.51169, 6227271303.8085, 8060441504.580489, 10377474227.46075, 14091020728.10531, 17135814152.465225, 22007877013.979164, 18339569693.414776, 20048823879.44082, 23441762292.1733, 29812618811.760746, 34002160153.359543, 39752986140.86363, 7640161179.86399, 9528740348.507093, 11575893401.462667, 15209977556.00663, 20760063435.584454, 27832697038.72564, 30830101093.7677, 31111480318.829445, 37677392867.08716, 45924427024.60213, 54309766224.98175, 65203833292.11879, 5891912670.805232, 6057406350.579282, 6970999000.73416, 6270183933.688242, 7773136723.848746, 9200097514.955772, 10454809788.36205, 10493650139.466986, 9213607207.632593, 9276089515.180395, 9664493045.294731, 10217297215.951357, 3330697353.0384116, 3931129187.33598, 4788888952.55727, 6347422262.587662, 7501351909.90737, 9786553395.52551, 11455138902.021713, 13217592456.657896, 15646832847.45824, 18545413488.847042, 20697904973.82048, 26554867097.0535, 4133580396.7396946, 7301695161.155291, 8735440529.223072, 11398661093.842295, 14850056193.92549, 14343234914.584421, 13946257030.167149, 14776827263.291971, 17613484765.76733, 18027806344.406948, 18638689786.3374, 20353013484.554585, 104845718511.96869, 144668369722.17426, 188402581601.13672, 276201669610.82556, 381219826098.5269, 489353295727.78143, 688551298314.6171, 696116709845.1195, 834621536788.2738, 936636422664.7893, 1100884521316.2412, 1301973070171.2893, 3628362766.93892, 4698033596.430116, 5780809121.090383, 8662204203.741661, 10234767751.280436, 14015472611.217222, 10339605319.763988, 9885855212.484375, 8719537247.776834, 10385471754.594288, 12736126639.972513, 15603375234.63854, 2331755944.38672, 3149893033.27293, 4299460457.433225, 6213666373.434824, 8670687327.278593, 9846351628.112608, 14273686782.01539, 15853852673.61688, 16447556623.02085, 19452611987.55381, 22000972010.602253, 31803076821.027027, 3037550252.477076, 3623539461.1648116, 4317132882.3836975, 5260938508.923335, 6596267899.027608, 9694750656.439634, 14335992614.146154, 15541678375.125841, 18816476471.14271, 21891623375.4261, 22264997029.865314, 27820927446.74221, 30164781548.3309, 38827542285.57779, 52130689937.702995, 70222305898.226, 82860598386.0801, 100438462619.24463, 116626175121.35681, 128465130363.32225, 99734320550.35487, 144488140093.85016, 158181134666.88882, 212448566597.62366, 6863524441.195, 8830172987.140001, 12505462638.09298, 18355386422.555153, 25974504080.983944, 30101306751.314587, 33875323753.83915, 42302689206.05388, 52492666708.68136, 63908179531.019005, 72775210745.96509, 76203261313.5439, 2003975797.4748, 3136390911.66, 4435292529.214559, 5397385045.23316, 6455379924.2573805, 8207707919.138882, 10181762179.614754, 8802302576.061527, 8724813465.489508, 10006836267.273727, 12627656072.62136, 19027934931.05792, 2204242423150.24, 2553468310606.08, 3016906282432.6797, 3880918003145.84, 4576999719662.24, 5301732427679.07, 5806915391021.0625, 7256025860957.999, 8221624217605.753, 9761353098899.434, 11247278678120.613, 12934458535084.986, 12879675387.39596, 14915372268.13327, 14560134513.462122, 14964967150.519981, 16137943765.522346, 18690350108.423763, 20442318131.984848, 22693695077.647255, 25625559931.72605, 30116780131.2093, 25986564534.62234, 36582976212.17304, 41829188706.34325, 65702678704.89137, 68591437240.90688, 92643439785.04378, 120974882898.41934, 177490169722.23486, 174209188664.34424, 177016799858.08594, 217529059872.6625, 227446835024.40164, 208996562053.54376, 297777432881.3268], \"yaxis\": \"y\"}, {\"alignmentgroup\": \"True\", \"customdata\": [[\"Australia\"], [\"Australia\"], [\"Australia\"], [\"Australia\"], [\"Australia\"], [\"Australia\"], [\"Australia\"], [\"Australia\"], [\"Australia\"], [\"Australia\"], [\"Australia\"], [\"Australia\"], [\"New Zealand\"], [\"New Zealand\"], [\"New Zealand\"], [\"New Zealand\"], [\"New Zealand\"], [\"New Zealand\"], [\"New Zealand\"], [\"New Zealand\"], [\"New Zealand\"], [\"New Zealand\"], [\"New Zealand\"], [\"New Zealand\"]], \"hovertemplate\": \"continent=Oceania<br>year=%{x}<br>gdp=%{y}<br>country=%{customdata[0]}<extra></extra>\", \"legendgroup\": \"Oceania\", \"marker\": {\"color\": \"#FFA15A\"}, \"name\": \"Oceania\", \"offsetgroup\": \"Oceania\", \"orientation\": \"v\", \"showlegend\": true, \"textposition\": \"auto\", \"type\": \"bar\", \"x\": [1952, 1957, 1962, 1967, 1972, 1977, 1982, 1987, 1992, 1997, 2002, 2007, 1952, 1957, 1962, 1967, 1972, 1977, 1982, 1987, 1992, 1997, 2002, 2007], \"xaxis\": \"x\", \"y\": [87256254101.51569, 106349227168.69672, 131884573002.44046, 172457986741.7076, 221223770657.96, 258037329175.49097, 295742804309.37604, 355853119294.0785, 409511234952.4229, 501223252920.6365, 599847158654.3262, 703658358893.6293, 21058193787.114037, 27304428858.17524, 32788333486.9, 39459740428.8795, 47000447796.848, 51378093148.729996, 56611498450.76, 63050008702.684135, 63127124699.789566, 77385257445.89499, 90626601698.44995, 103655730129.67381], \"yaxis\": \"y\"}],                        {\"barmode\": \"relative\", \"legend\": {\"title\": {\"text\": \"continent\"}, \"tracegroupgap\": 0}, \"template\": {\"data\": {\"bar\": [{\"error_x\": {\"color\": \"#2a3f5f\"}, \"error_y\": {\"color\": \"#2a3f5f\"}, \"marker\": {\"line\": {\"color\": \"#E5ECF6\", \"width\": 0.5}}, \"type\": \"bar\"}], \"barpolar\": [{\"marker\": {\"line\": {\"color\": \"#E5ECF6\", \"width\": 0.5}}, \"type\": \"barpolar\"}], \"carpet\": [{\"aaxis\": {\"endlinecolor\": \"#2a3f5f\", \"gridcolor\": \"white\", \"linecolor\": \"white\", \"minorgridcolor\": \"white\", \"startlinecolor\": \"#2a3f5f\"}, \"baxis\": {\"endlinecolor\": \"#2a3f5f\", \"gridcolor\": \"white\", \"linecolor\": \"white\", \"minorgridcolor\": \"white\", \"startlinecolor\": \"#2a3f5f\"}, \"type\": \"carpet\"}], \"choropleth\": [{\"colorbar\": {\"outlinewidth\": 0, \"ticks\": \"\"}, \"type\": \"choropleth\"}], \"contour\": [{\"colorbar\": {\"outlinewidth\": 0, \"ticks\": \"\"}, \"colorscale\": [[0.0, \"#0d0887\"], [0.1111111111111111, \"#46039f\"], [0.2222222222222222, \"#7201a8\"], [0.3333333333333333, \"#9c179e\"], [0.4444444444444444, \"#bd3786\"], [0.5555555555555556, \"#d8576b\"], [0.6666666666666666, \"#ed7953\"], [0.7777777777777778, \"#fb9f3a\"], [0.8888888888888888, \"#fdca26\"], [1.0, \"#f0f921\"]], \"type\": \"contour\"}], \"contourcarpet\": [{\"colorbar\": {\"outlinewidth\": 0, \"ticks\": \"\"}, \"type\": \"contourcarpet\"}], \"heatmap\": [{\"colorbar\": {\"outlinewidth\": 0, \"ticks\": \"\"}, \"colorscale\": [[0.0, \"#0d0887\"], [0.1111111111111111, \"#46039f\"], [0.2222222222222222, \"#7201a8\"], [0.3333333333333333, \"#9c179e\"], [0.4444444444444444, \"#bd3786\"], [0.5555555555555556, \"#d8576b\"], [0.6666666666666666, \"#ed7953\"], [0.7777777777777778, \"#fb9f3a\"], [0.8888888888888888, \"#fdca26\"], [1.0, \"#f0f921\"]], \"type\": \"heatmap\"}], \"heatmapgl\": [{\"colorbar\": {\"outlinewidth\": 0, \"ticks\": \"\"}, \"colorscale\": [[0.0, \"#0d0887\"], [0.1111111111111111, \"#46039f\"], [0.2222222222222222, \"#7201a8\"], [0.3333333333333333, \"#9c179e\"], [0.4444444444444444, \"#bd3786\"], [0.5555555555555556, \"#d8576b\"], [0.6666666666666666, \"#ed7953\"], [0.7777777777777778, \"#fb9f3a\"], [0.8888888888888888, \"#fdca26\"], [1.0, \"#f0f921\"]], \"type\": \"heatmapgl\"}], \"histogram\": [{\"marker\": {\"colorbar\": {\"outlinewidth\": 0, \"ticks\": \"\"}}, \"type\": \"histogram\"}], \"histogram2d\": [{\"colorbar\": {\"outlinewidth\": 0, \"ticks\": \"\"}, \"colorscale\": [[0.0, \"#0d0887\"], [0.1111111111111111, \"#46039f\"], [0.2222222222222222, \"#7201a8\"], [0.3333333333333333, \"#9c179e\"], [0.4444444444444444, \"#bd3786\"], [0.5555555555555556, \"#d8576b\"], [0.6666666666666666, \"#ed7953\"], [0.7777777777777778, \"#fb9f3a\"], [0.8888888888888888, \"#fdca26\"], [1.0, \"#f0f921\"]], \"type\": \"histogram2d\"}], \"histogram2dcontour\": [{\"colorbar\": {\"outlinewidth\": 0, \"ticks\": \"\"}, \"colorscale\": [[0.0, \"#0d0887\"], [0.1111111111111111, \"#46039f\"], [0.2222222222222222, \"#7201a8\"], [0.3333333333333333, \"#9c179e\"], [0.4444444444444444, \"#bd3786\"], [0.5555555555555556, \"#d8576b\"], [0.6666666666666666, \"#ed7953\"], [0.7777777777777778, \"#fb9f3a\"], [0.8888888888888888, \"#fdca26\"], [1.0, \"#f0f921\"]], \"type\": \"histogram2dcontour\"}], \"mesh3d\": [{\"colorbar\": {\"outlinewidth\": 0, \"ticks\": \"\"}, \"type\": \"mesh3d\"}], \"parcoords\": [{\"line\": {\"colorbar\": {\"outlinewidth\": 0, \"ticks\": \"\"}}, \"type\": \"parcoords\"}], \"pie\": [{\"automargin\": true, \"type\": \"pie\"}], \"scatter\": [{\"marker\": {\"colorbar\": {\"outlinewidth\": 0, \"ticks\": \"\"}}, \"type\": \"scatter\"}], \"scatter3d\": [{\"line\": {\"colorbar\": {\"outlinewidth\": 0, \"ticks\": \"\"}}, \"marker\": {\"colorbar\": {\"outlinewidth\": 0, \"ticks\": \"\"}}, \"type\": \"scatter3d\"}], \"scattercarpet\": [{\"marker\": {\"colorbar\": {\"outlinewidth\": 0, \"ticks\": \"\"}}, \"type\": \"scattercarpet\"}], \"scattergeo\": [{\"marker\": {\"colorbar\": {\"outlinewidth\": 0, \"ticks\": \"\"}}, \"type\": \"scattergeo\"}], \"scattergl\": [{\"marker\": {\"colorbar\": {\"outlinewidth\": 0, \"ticks\": \"\"}}, \"type\": \"scattergl\"}], \"scattermapbox\": [{\"marker\": {\"colorbar\": {\"outlinewidth\": 0, \"ticks\": \"\"}}, \"type\": \"scattermapbox\"}], \"scatterpolar\": [{\"marker\": {\"colorbar\": {\"outlinewidth\": 0, \"ticks\": \"\"}}, \"type\": \"scatterpolar\"}], \"scatterpolargl\": [{\"marker\": {\"colorbar\": {\"outlinewidth\": 0, \"ticks\": \"\"}}, \"type\": \"scatterpolargl\"}], \"scatterternary\": [{\"marker\": {\"colorbar\": {\"outlinewidth\": 0, \"ticks\": \"\"}}, \"type\": \"scatterternary\"}], \"surface\": [{\"colorbar\": {\"outlinewidth\": 0, \"ticks\": \"\"}, \"colorscale\": [[0.0, \"#0d0887\"], [0.1111111111111111, \"#46039f\"], [0.2222222222222222, \"#7201a8\"], [0.3333333333333333, \"#9c179e\"], [0.4444444444444444, \"#bd3786\"], [0.5555555555555556, \"#d8576b\"], [0.6666666666666666, \"#ed7953\"], [0.7777777777777778, \"#fb9f3a\"], [0.8888888888888888, \"#fdca26\"], [1.0, \"#f0f921\"]], \"type\": \"surface\"}], \"table\": [{\"cells\": {\"fill\": {\"color\": \"#EBF0F8\"}, \"line\": {\"color\": \"white\"}}, \"header\": {\"fill\": {\"color\": \"#C8D4E3\"}, \"line\": {\"color\": \"white\"}}, \"type\": \"table\"}]}, \"layout\": {\"annotationdefaults\": {\"arrowcolor\": \"#2a3f5f\", \"arrowhead\": 0, \"arrowwidth\": 1}, \"autotypenumbers\": \"strict\", \"coloraxis\": {\"colorbar\": {\"outlinewidth\": 0, \"ticks\": \"\"}}, \"colorscale\": {\"diverging\": [[0, \"#8e0152\"], [0.1, \"#c51b7d\"], [0.2, \"#de77ae\"], [0.3, \"#f1b6da\"], [0.4, \"#fde0ef\"], [0.5, \"#f7f7f7\"], [0.6, \"#e6f5d0\"], [0.7, \"#b8e186\"], [0.8, \"#7fbc41\"], [0.9, \"#4d9221\"], [1, \"#276419\"]], \"sequential\": [[0.0, \"#0d0887\"], [0.1111111111111111, \"#46039f\"], [0.2222222222222222, \"#7201a8\"], [0.3333333333333333, \"#9c179e\"], [0.4444444444444444, \"#bd3786\"], [0.5555555555555556, \"#d8576b\"], [0.6666666666666666, \"#ed7953\"], [0.7777777777777778, \"#fb9f3a\"], [0.8888888888888888, \"#fdca26\"], [1.0, \"#f0f921\"]], \"sequentialminus\": [[0.0, \"#0d0887\"], [0.1111111111111111, \"#46039f\"], [0.2222222222222222, \"#7201a8\"], [0.3333333333333333, \"#9c179e\"], [0.4444444444444444, \"#bd3786\"], [0.5555555555555556, \"#d8576b\"], [0.6666666666666666, \"#ed7953\"], [0.7777777777777778, \"#fb9f3a\"], [0.8888888888888888, \"#fdca26\"], [1.0, \"#f0f921\"]]}, \"colorway\": [\"#636efa\", \"#EF553B\", \"#00cc96\", \"#ab63fa\", \"#FFA15A\", \"#19d3f3\", \"#FF6692\", \"#B6E880\", \"#FF97FF\", \"#FECB52\"], \"font\": {\"color\": \"#2a3f5f\"}, \"geo\": {\"bgcolor\": \"white\", \"lakecolor\": \"white\", \"landcolor\": \"#E5ECF6\", \"showlakes\": true, \"showland\": true, \"subunitcolor\": \"white\"}, \"hoverlabel\": {\"align\": \"left\"}, \"hovermode\": \"closest\", \"mapbox\": {\"style\": \"light\"}, \"paper_bgcolor\": \"white\", \"plot_bgcolor\": \"#E5ECF6\", \"polar\": {\"angularaxis\": {\"gridcolor\": \"white\", \"linecolor\": \"white\", \"ticks\": \"\"}, \"bgcolor\": \"#E5ECF6\", \"radialaxis\": {\"gridcolor\": \"white\", \"linecolor\": \"white\", \"ticks\": \"\"}}, \"scene\": {\"xaxis\": {\"backgroundcolor\": \"#E5ECF6\", \"gridcolor\": \"white\", \"gridwidth\": 2, \"linecolor\": \"white\", \"showbackground\": true, \"ticks\": \"\", \"zerolinecolor\": \"white\"}, \"yaxis\": {\"backgroundcolor\": \"#E5ECF6\", \"gridcolor\": \"white\", \"gridwidth\": 2, \"linecolor\": \"white\", \"showbackground\": true, \"ticks\": \"\", \"zerolinecolor\": \"white\"}, \"zaxis\": {\"backgroundcolor\": \"#E5ECF6\", \"gridcolor\": \"white\", \"gridwidth\": 2, \"linecolor\": \"white\", \"showbackground\": true, \"ticks\": \"\", \"zerolinecolor\": \"white\"}}, \"shapedefaults\": {\"line\": {\"color\": \"#2a3f5f\"}}, \"ternary\": {\"aaxis\": {\"gridcolor\": \"white\", \"linecolor\": \"white\", \"ticks\": \"\"}, \"baxis\": {\"gridcolor\": \"white\", \"linecolor\": \"white\", \"ticks\": \"\"}, \"bgcolor\": \"#E5ECF6\", \"caxis\": {\"gridcolor\": \"white\", \"linecolor\": \"white\", \"ticks\": \"\"}}, \"title\": {\"x\": 0.05}, \"xaxis\": {\"automargin\": true, \"gridcolor\": \"white\", \"linecolor\": \"white\", \"ticks\": \"\", \"title\": {\"standoff\": 15}, \"zerolinecolor\": \"white\", \"zerolinewidth\": 2}, \"yaxis\": {\"automargin\": true, \"gridcolor\": \"white\", \"linecolor\": \"white\", \"ticks\": \"\", \"title\": {\"standoff\": 15}, \"zerolinecolor\": \"white\", \"zerolinewidth\": 2}}}, \"title\": {\"text\": \"Evolution of world GDP\"}, \"xaxis\": {\"anchor\": \"y\", \"domain\": [0.0, 1.0], \"title\": {\"text\": \"year\"}}, \"yaxis\": {\"anchor\": \"x\", \"domain\": [0.0, 1.0], \"title\": {\"text\": \"gdp\"}}},                        {\"responsive\": true}                    ).then(function(){\n",
       "                            \n",
       "var gd = document.getElementById('557b496a-2d6a-44d5-99a6-5f0c3596c4ce');\n",
       "var x = new MutationObserver(function (mutations, observer) {{\n",
       "        var display = window.getComputedStyle(gd).display;\n",
       "        if (!display || display === 'none') {{\n",
       "            console.log([gd, 'removed!']);\n",
       "            Plotly.purge(gd);\n",
       "            observer.disconnect();\n",
       "        }}\n",
       "}});\n",
       "\n",
       "// Listen for the removal of the full notebook cells\n",
       "var notebookContainer = gd.closest('#notebook-container');\n",
       "if (notebookContainer) {{\n",
       "    x.observe(notebookContainer, {childList: true});\n",
       "}}\n",
       "\n",
       "// Listen for the clearing of the current output cell\n",
       "var outputEl = gd.closest('.output');\n",
       "if (outputEl) {{\n",
       "    x.observe(outputEl, {childList: true});\n",
       "}}\n",
       "\n",
       "                        })                };                });            </script>        </div>"
      ]
     },
     "metadata": {},
     "output_type": "display_data"
    }
   ],
   "source": [
    "import plotly.express as px\n",
    "import pandas as pd\n",
    "\n",
    "df = px.data.gapminder()\n",
    "gdp = df['pop'] * df['gdpPercap']\n",
    "fig = px.bar(df, x='year', y=gdp, color='continent', labels={'y':'gdp'},\n",
    "             hover_data=['country'],\n",
    "             title='Evolution of world GDP')\n",
    "fig.show()"
   ]
  },
  {
   "cell_type": "code",
   "execution_count": 46,
   "metadata": {},
   "outputs": [
    {
     "data": {
      "text/html": [
       "<div>\n",
       "<style scoped>\n",
       "    .dataframe tbody tr th:only-of-type {\n",
       "        vertical-align: middle;\n",
       "    }\n",
       "\n",
       "    .dataframe tbody tr th {\n",
       "        vertical-align: top;\n",
       "    }\n",
       "\n",
       "    .dataframe thead th {\n",
       "        text-align: right;\n",
       "    }\n",
       "</style>\n",
       "<table border=\"1\" class=\"dataframe\">\n",
       "  <thead>\n",
       "    <tr style=\"text-align: right;\">\n",
       "      <th></th>\n",
       "      <th>nation</th>\n",
       "      <th>medal</th>\n",
       "      <th>count</th>\n",
       "    </tr>\n",
       "  </thead>\n",
       "  <tbody>\n",
       "    <tr>\n",
       "      <th>0</th>\n",
       "      <td>South Korea</td>\n",
       "      <td>gold</td>\n",
       "      <td>24</td>\n",
       "    </tr>\n",
       "    <tr>\n",
       "      <th>1</th>\n",
       "      <td>China</td>\n",
       "      <td>gold</td>\n",
       "      <td>10</td>\n",
       "    </tr>\n",
       "    <tr>\n",
       "      <th>2</th>\n",
       "      <td>Canada</td>\n",
       "      <td>gold</td>\n",
       "      <td>9</td>\n",
       "    </tr>\n",
       "    <tr>\n",
       "      <th>3</th>\n",
       "      <td>South Korea</td>\n",
       "      <td>silver</td>\n",
       "      <td>13</td>\n",
       "    </tr>\n",
       "    <tr>\n",
       "      <th>4</th>\n",
       "      <td>China</td>\n",
       "      <td>silver</td>\n",
       "      <td>15</td>\n",
       "    </tr>\n",
       "    <tr>\n",
       "      <th>5</th>\n",
       "      <td>Canada</td>\n",
       "      <td>silver</td>\n",
       "      <td>12</td>\n",
       "    </tr>\n",
       "    <tr>\n",
       "      <th>6</th>\n",
       "      <td>South Korea</td>\n",
       "      <td>bronze</td>\n",
       "      <td>11</td>\n",
       "    </tr>\n",
       "    <tr>\n",
       "      <th>7</th>\n",
       "      <td>China</td>\n",
       "      <td>bronze</td>\n",
       "      <td>8</td>\n",
       "    </tr>\n",
       "    <tr>\n",
       "      <th>8</th>\n",
       "      <td>Canada</td>\n",
       "      <td>bronze</td>\n",
       "      <td>12</td>\n",
       "    </tr>\n",
       "  </tbody>\n",
       "</table>\n",
       "</div>"
      ],
      "text/plain": [
       "        nation   medal  count\n",
       "0  South Korea    gold     24\n",
       "1        China    gold     10\n",
       "2       Canada    gold      9\n",
       "3  South Korea  silver     13\n",
       "4        China  silver     15\n",
       "5       Canada  silver     12\n",
       "6  South Korea  bronze     11\n",
       "7        China  bronze      8\n",
       "8       Canada  bronze     12"
      ]
     },
     "execution_count": 46,
     "metadata": {},
     "output_type": "execute_result"
    }
   ],
   "source": [
    "long_df"
   ]
  },
  {
   "cell_type": "code",
   "execution_count": 47,
   "metadata": {},
   "outputs": [
    {
     "data": {
      "application/vnd.plotly.v1+json": {
       "config": {
        "plotlyServerURL": "https://plot.ly"
       },
       "data": [
        {
         "alignmentgroup": "True",
         "hovertemplate": "Country=%{x}<br>Score=%{y}<extra></extra>",
         "legendgroup": "",
         "marker": {
          "color": "#636efa"
         },
         "name": "",
         "offsetgroup": "",
         "orientation": "v",
         "showlegend": false,
         "textposition": "auto",
         "type": "bar",
         "x": [
          "Finland",
          "Denmark",
          "Norway",
          "Iceland",
          "Netherlands",
          "Switzerland",
          "Sweden",
          "New Zealand",
          "Canada",
          "Austria",
          "Australia",
          "Costa Rica",
          "Israel",
          "Luxembourg",
          "United Kingdom",
          "Ireland",
          "Germany",
          "Belgium",
          "United States",
          "Czech Republic",
          "United Arab Emirates",
          "Malta",
          "Mexico",
          "France",
          "Taiwan",
          "Chile",
          "Guatemala",
          "Saudi Arabia",
          "Qatar",
          "Spain",
          "Panama",
          "Brazil",
          "Uruguay",
          "Singapore",
          "El Salvador",
          "Italy",
          "Bahrain",
          "Slovakia",
          "Trinidad & Tobago",
          "Poland",
          "Uzbekistan",
          "Lithuania",
          "Colombia",
          "Slovenia",
          "Nicaragua",
          "Kosovo",
          "Argentina",
          "Romania",
          "Cyprus",
          "Ecuador",
          "Kuwait",
          "Thailand",
          "Latvia",
          "South Korea",
          "Estonia",
          "Jamaica",
          "Mauritius",
          "Japan",
          "Honduras",
          "Kazakhstan",
          "Bolivia",
          "Hungary",
          "Paraguay",
          "Northern Cyprus",
          "Peru",
          "Portugal",
          "Pakistan",
          "Russia",
          "Philippines",
          "Serbia",
          "Moldova",
          "Libya",
          "Montenegro",
          "Tajikistan",
          "Croatia",
          "Hong Kong",
          "Dominican Republic",
          "Bosnia and Herzegovina",
          "Turkey",
          "Malaysia",
          "Belarus",
          "Greece",
          "Mongolia",
          "North Macedonia",
          "Nigeria",
          "Kyrgyzstan",
          "Turkmenistan",
          "Algeria",
          "Morocco",
          "Azerbaijan",
          "Lebanon",
          "Indonesia",
          "China",
          "Vietnam",
          "Bhutan",
          "Cameroon",
          "Bulgaria",
          "Ghana",
          "Ivory Coast",
          "Nepal",
          "Jordan",
          "Benin",
          "Congo (Brazzaville)",
          "Gabon",
          "Laos",
          "South Africa",
          "Albania",
          "Venezuela",
          "Cambodia",
          "Palestinian Territories",
          "Senegal",
          "Somalia",
          "Namibia",
          "Niger",
          "Burkina Faso",
          "Armenia",
          "Iran",
          "Guinea",
          "Georgia",
          "Gambia",
          "Kenya",
          "Mauritania",
          "Mozambique",
          "Tunisia",
          "Bangladesh",
          "Iraq",
          "Congo (Kinshasa)",
          "Mali",
          "Sierra Leone",
          "Sri Lanka",
          "Myanmar",
          "Chad",
          "Ukraine",
          "Ethiopia",
          "Swaziland",
          "Uganda",
          "Egypt",
          "Zambia",
          "Togo",
          "India",
          "Liberia",
          "Comoros",
          "Madagascar",
          "Lesotho",
          "Burundi",
          "Zimbabwe",
          "Haiti",
          "Botswana",
          "Syria",
          "Malawi",
          "Yemen",
          "Rwanda",
          "Tanzania",
          "Afghanistan",
          "Central African Republic",
          "South Sudan"
         ],
         "xaxis": "x",
         "y": [
          7.769,
          7.6,
          7.553999999999999,
          7.494,
          7.4879999999999995,
          7.48,
          7.343,
          7.307,
          7.278,
          7.246,
          7.228,
          7.167000000000001,
          7.138999999999999,
          7.09,
          7.053999999999999,
          7.021,
          6.985,
          6.922999999999999,
          6.892,
          6.852,
          6.825,
          6.726,
          6.595,
          6.5920000000000005,
          6.446000000000001,
          6.444,
          6.436,
          6.375,
          6.374,
          6.354,
          6.321000000000001,
          6.3,
          6.292999999999999,
          6.2620000000000005,
          6.252999999999999,
          6.223,
          6.199,
          6.1979999999999995,
          6.192,
          6.182,
          6.1739999999999995,
          6.149,
          6.125,
          6.117999999999999,
          6.105,
          6.1,
          6.086,
          6.07,
          6.046,
          6.028,
          6.021,
          6.007999999999999,
          5.94,
          5.895,
          5.893,
          5.89,
          5.888,
          5.886,
          5.86,
          5.809,
          5.779,
          5.757999999999999,
          5.742999999999999,
          5.718,
          5.697,
          5.693,
          5.653,
          5.648,
          5.631,
          5.603,
          5.529,
          5.525,
          5.523,
          5.4670000000000005,
          5.432,
          5.43,
          5.425,
          5.386,
          5.372999999999999,
          5.3389999999999995,
          5.3229999999999995,
          5.287000000000001,
          5.285,
          5.274,
          5.265,
          5.261,
          5.247000000000001,
          5.211,
          5.207999999999999,
          5.207999999999999,
          5.197,
          5.192,
          5.191,
          5.175,
          5.082,
          5.044,
          5.011,
          4.996,
          4.944,
          4.913,
          4.906000000000001,
          4.883,
          4.812,
          4.7989999999999995,
          4.796,
          4.7219999999999995,
          4.718999999999999,
          4.707,
          4.7,
          4.696000000000001,
          4.681,
          4.668,
          4.638999999999999,
          4.628,
          4.587,
          4.559,
          4.548,
          4.534,
          4.519,
          4.516,
          4.5089999999999995,
          4.49,
          4.466,
          4.461,
          4.456,
          4.437,
          4.418,
          4.39,
          4.374,
          4.3660000000000005,
          4.36,
          4.35,
          4.332,
          4.2860000000000005,
          4.212,
          4.189,
          4.166,
          4.107,
          4.085,
          4.015,
          3.975,
          3.9730000000000003,
          3.9330000000000003,
          3.802,
          3.775,
          3.6630000000000003,
          3.597,
          3.488,
          3.4619999999999997,
          3.41,
          3.38,
          3.3339999999999996,
          3.2310000000000003,
          3.2030000000000003,
          3.083,
          2.853
         ],
         "yaxis": "y"
        }
       ],
       "layout": {
        "barmode": "relative",
        "legend": {
         "tracegroupgap": 0
        },
        "margin": {
         "t": 60
        },
        "template": {
         "data": {
          "bar": [
           {
            "error_x": {
             "color": "#2a3f5f"
            },
            "error_y": {
             "color": "#2a3f5f"
            },
            "marker": {
             "line": {
              "color": "#E5ECF6",
              "width": 0.5
             }
            },
            "type": "bar"
           }
          ],
          "barpolar": [
           {
            "marker": {
             "line": {
              "color": "#E5ECF6",
              "width": 0.5
             }
            },
            "type": "barpolar"
           }
          ],
          "carpet": [
           {
            "aaxis": {
             "endlinecolor": "#2a3f5f",
             "gridcolor": "white",
             "linecolor": "white",
             "minorgridcolor": "white",
             "startlinecolor": "#2a3f5f"
            },
            "baxis": {
             "endlinecolor": "#2a3f5f",
             "gridcolor": "white",
             "linecolor": "white",
             "minorgridcolor": "white",
             "startlinecolor": "#2a3f5f"
            },
            "type": "carpet"
           }
          ],
          "choropleth": [
           {
            "colorbar": {
             "outlinewidth": 0,
             "ticks": ""
            },
            "type": "choropleth"
           }
          ],
          "contour": [
           {
            "colorbar": {
             "outlinewidth": 0,
             "ticks": ""
            },
            "colorscale": [
             [
              0,
              "#0d0887"
             ],
             [
              0.1111111111111111,
              "#46039f"
             ],
             [
              0.2222222222222222,
              "#7201a8"
             ],
             [
              0.3333333333333333,
              "#9c179e"
             ],
             [
              0.4444444444444444,
              "#bd3786"
             ],
             [
              0.5555555555555556,
              "#d8576b"
             ],
             [
              0.6666666666666666,
              "#ed7953"
             ],
             [
              0.7777777777777778,
              "#fb9f3a"
             ],
             [
              0.8888888888888888,
              "#fdca26"
             ],
             [
              1,
              "#f0f921"
             ]
            ],
            "type": "contour"
           }
          ],
          "contourcarpet": [
           {
            "colorbar": {
             "outlinewidth": 0,
             "ticks": ""
            },
            "type": "contourcarpet"
           }
          ],
          "heatmap": [
           {
            "colorbar": {
             "outlinewidth": 0,
             "ticks": ""
            },
            "colorscale": [
             [
              0,
              "#0d0887"
             ],
             [
              0.1111111111111111,
              "#46039f"
             ],
             [
              0.2222222222222222,
              "#7201a8"
             ],
             [
              0.3333333333333333,
              "#9c179e"
             ],
             [
              0.4444444444444444,
              "#bd3786"
             ],
             [
              0.5555555555555556,
              "#d8576b"
             ],
             [
              0.6666666666666666,
              "#ed7953"
             ],
             [
              0.7777777777777778,
              "#fb9f3a"
             ],
             [
              0.8888888888888888,
              "#fdca26"
             ],
             [
              1,
              "#f0f921"
             ]
            ],
            "type": "heatmap"
           }
          ],
          "heatmapgl": [
           {
            "colorbar": {
             "outlinewidth": 0,
             "ticks": ""
            },
            "colorscale": [
             [
              0,
              "#0d0887"
             ],
             [
              0.1111111111111111,
              "#46039f"
             ],
             [
              0.2222222222222222,
              "#7201a8"
             ],
             [
              0.3333333333333333,
              "#9c179e"
             ],
             [
              0.4444444444444444,
              "#bd3786"
             ],
             [
              0.5555555555555556,
              "#d8576b"
             ],
             [
              0.6666666666666666,
              "#ed7953"
             ],
             [
              0.7777777777777778,
              "#fb9f3a"
             ],
             [
              0.8888888888888888,
              "#fdca26"
             ],
             [
              1,
              "#f0f921"
             ]
            ],
            "type": "heatmapgl"
           }
          ],
          "histogram": [
           {
            "marker": {
             "colorbar": {
              "outlinewidth": 0,
              "ticks": ""
             }
            },
            "type": "histogram"
           }
          ],
          "histogram2d": [
           {
            "colorbar": {
             "outlinewidth": 0,
             "ticks": ""
            },
            "colorscale": [
             [
              0,
              "#0d0887"
             ],
             [
              0.1111111111111111,
              "#46039f"
             ],
             [
              0.2222222222222222,
              "#7201a8"
             ],
             [
              0.3333333333333333,
              "#9c179e"
             ],
             [
              0.4444444444444444,
              "#bd3786"
             ],
             [
              0.5555555555555556,
              "#d8576b"
             ],
             [
              0.6666666666666666,
              "#ed7953"
             ],
             [
              0.7777777777777778,
              "#fb9f3a"
             ],
             [
              0.8888888888888888,
              "#fdca26"
             ],
             [
              1,
              "#f0f921"
             ]
            ],
            "type": "histogram2d"
           }
          ],
          "histogram2dcontour": [
           {
            "colorbar": {
             "outlinewidth": 0,
             "ticks": ""
            },
            "colorscale": [
             [
              0,
              "#0d0887"
             ],
             [
              0.1111111111111111,
              "#46039f"
             ],
             [
              0.2222222222222222,
              "#7201a8"
             ],
             [
              0.3333333333333333,
              "#9c179e"
             ],
             [
              0.4444444444444444,
              "#bd3786"
             ],
             [
              0.5555555555555556,
              "#d8576b"
             ],
             [
              0.6666666666666666,
              "#ed7953"
             ],
             [
              0.7777777777777778,
              "#fb9f3a"
             ],
             [
              0.8888888888888888,
              "#fdca26"
             ],
             [
              1,
              "#f0f921"
             ]
            ],
            "type": "histogram2dcontour"
           }
          ],
          "mesh3d": [
           {
            "colorbar": {
             "outlinewidth": 0,
             "ticks": ""
            },
            "type": "mesh3d"
           }
          ],
          "parcoords": [
           {
            "line": {
             "colorbar": {
              "outlinewidth": 0,
              "ticks": ""
             }
            },
            "type": "parcoords"
           }
          ],
          "pie": [
           {
            "automargin": true,
            "type": "pie"
           }
          ],
          "scatter": [
           {
            "marker": {
             "colorbar": {
              "outlinewidth": 0,
              "ticks": ""
             }
            },
            "type": "scatter"
           }
          ],
          "scatter3d": [
           {
            "line": {
             "colorbar": {
              "outlinewidth": 0,
              "ticks": ""
             }
            },
            "marker": {
             "colorbar": {
              "outlinewidth": 0,
              "ticks": ""
             }
            },
            "type": "scatter3d"
           }
          ],
          "scattercarpet": [
           {
            "marker": {
             "colorbar": {
              "outlinewidth": 0,
              "ticks": ""
             }
            },
            "type": "scattercarpet"
           }
          ],
          "scattergeo": [
           {
            "marker": {
             "colorbar": {
              "outlinewidth": 0,
              "ticks": ""
             }
            },
            "type": "scattergeo"
           }
          ],
          "scattergl": [
           {
            "marker": {
             "colorbar": {
              "outlinewidth": 0,
              "ticks": ""
             }
            },
            "type": "scattergl"
           }
          ],
          "scattermapbox": [
           {
            "marker": {
             "colorbar": {
              "outlinewidth": 0,
              "ticks": ""
             }
            },
            "type": "scattermapbox"
           }
          ],
          "scatterpolar": [
           {
            "marker": {
             "colorbar": {
              "outlinewidth": 0,
              "ticks": ""
             }
            },
            "type": "scatterpolar"
           }
          ],
          "scatterpolargl": [
           {
            "marker": {
             "colorbar": {
              "outlinewidth": 0,
              "ticks": ""
             }
            },
            "type": "scatterpolargl"
           }
          ],
          "scatterternary": [
           {
            "marker": {
             "colorbar": {
              "outlinewidth": 0,
              "ticks": ""
             }
            },
            "type": "scatterternary"
           }
          ],
          "surface": [
           {
            "colorbar": {
             "outlinewidth": 0,
             "ticks": ""
            },
            "colorscale": [
             [
              0,
              "#0d0887"
             ],
             [
              0.1111111111111111,
              "#46039f"
             ],
             [
              0.2222222222222222,
              "#7201a8"
             ],
             [
              0.3333333333333333,
              "#9c179e"
             ],
             [
              0.4444444444444444,
              "#bd3786"
             ],
             [
              0.5555555555555556,
              "#d8576b"
             ],
             [
              0.6666666666666666,
              "#ed7953"
             ],
             [
              0.7777777777777778,
              "#fb9f3a"
             ],
             [
              0.8888888888888888,
              "#fdca26"
             ],
             [
              1,
              "#f0f921"
             ]
            ],
            "type": "surface"
           }
          ],
          "table": [
           {
            "cells": {
             "fill": {
              "color": "#EBF0F8"
             },
             "line": {
              "color": "white"
             }
            },
            "header": {
             "fill": {
              "color": "#C8D4E3"
             },
             "line": {
              "color": "white"
             }
            },
            "type": "table"
           }
          ]
         },
         "layout": {
          "annotationdefaults": {
           "arrowcolor": "#2a3f5f",
           "arrowhead": 0,
           "arrowwidth": 1
          },
          "autotypenumbers": "strict",
          "coloraxis": {
           "colorbar": {
            "outlinewidth": 0,
            "ticks": ""
           }
          },
          "colorscale": {
           "diverging": [
            [
             0,
             "#8e0152"
            ],
            [
             0.1,
             "#c51b7d"
            ],
            [
             0.2,
             "#de77ae"
            ],
            [
             0.3,
             "#f1b6da"
            ],
            [
             0.4,
             "#fde0ef"
            ],
            [
             0.5,
             "#f7f7f7"
            ],
            [
             0.6,
             "#e6f5d0"
            ],
            [
             0.7,
             "#b8e186"
            ],
            [
             0.8,
             "#7fbc41"
            ],
            [
             0.9,
             "#4d9221"
            ],
            [
             1,
             "#276419"
            ]
           ],
           "sequential": [
            [
             0,
             "#0d0887"
            ],
            [
             0.1111111111111111,
             "#46039f"
            ],
            [
             0.2222222222222222,
             "#7201a8"
            ],
            [
             0.3333333333333333,
             "#9c179e"
            ],
            [
             0.4444444444444444,
             "#bd3786"
            ],
            [
             0.5555555555555556,
             "#d8576b"
            ],
            [
             0.6666666666666666,
             "#ed7953"
            ],
            [
             0.7777777777777778,
             "#fb9f3a"
            ],
            [
             0.8888888888888888,
             "#fdca26"
            ],
            [
             1,
             "#f0f921"
            ]
           ],
           "sequentialminus": [
            [
             0,
             "#0d0887"
            ],
            [
             0.1111111111111111,
             "#46039f"
            ],
            [
             0.2222222222222222,
             "#7201a8"
            ],
            [
             0.3333333333333333,
             "#9c179e"
            ],
            [
             0.4444444444444444,
             "#bd3786"
            ],
            [
             0.5555555555555556,
             "#d8576b"
            ],
            [
             0.6666666666666666,
             "#ed7953"
            ],
            [
             0.7777777777777778,
             "#fb9f3a"
            ],
            [
             0.8888888888888888,
             "#fdca26"
            ],
            [
             1,
             "#f0f921"
            ]
           ]
          },
          "colorway": [
           "#636efa",
           "#EF553B",
           "#00cc96",
           "#ab63fa",
           "#FFA15A",
           "#19d3f3",
           "#FF6692",
           "#B6E880",
           "#FF97FF",
           "#FECB52"
          ],
          "font": {
           "color": "#2a3f5f"
          },
          "geo": {
           "bgcolor": "white",
           "lakecolor": "white",
           "landcolor": "#E5ECF6",
           "showlakes": true,
           "showland": true,
           "subunitcolor": "white"
          },
          "hoverlabel": {
           "align": "left"
          },
          "hovermode": "closest",
          "mapbox": {
           "style": "light"
          },
          "paper_bgcolor": "white",
          "plot_bgcolor": "#E5ECF6",
          "polar": {
           "angularaxis": {
            "gridcolor": "white",
            "linecolor": "white",
            "ticks": ""
           },
           "bgcolor": "#E5ECF6",
           "radialaxis": {
            "gridcolor": "white",
            "linecolor": "white",
            "ticks": ""
           }
          },
          "scene": {
           "xaxis": {
            "backgroundcolor": "#E5ECF6",
            "gridcolor": "white",
            "gridwidth": 2,
            "linecolor": "white",
            "showbackground": true,
            "ticks": "",
            "zerolinecolor": "white"
           },
           "yaxis": {
            "backgroundcolor": "#E5ECF6",
            "gridcolor": "white",
            "gridwidth": 2,
            "linecolor": "white",
            "showbackground": true,
            "ticks": "",
            "zerolinecolor": "white"
           },
           "zaxis": {
            "backgroundcolor": "#E5ECF6",
            "gridcolor": "white",
            "gridwidth": 2,
            "linecolor": "white",
            "showbackground": true,
            "ticks": "",
            "zerolinecolor": "white"
           }
          },
          "shapedefaults": {
           "line": {
            "color": "#2a3f5f"
           }
          },
          "ternary": {
           "aaxis": {
            "gridcolor": "white",
            "linecolor": "white",
            "ticks": ""
           },
           "baxis": {
            "gridcolor": "white",
            "linecolor": "white",
            "ticks": ""
           },
           "bgcolor": "#E5ECF6",
           "caxis": {
            "gridcolor": "white",
            "linecolor": "white",
            "ticks": ""
           }
          },
          "title": {
           "x": 0.05
          },
          "xaxis": {
           "automargin": true,
           "gridcolor": "white",
           "linecolor": "white",
           "ticks": "",
           "title": {
            "standoff": 15
           },
           "zerolinecolor": "white",
           "zerolinewidth": 2
          },
          "yaxis": {
           "automargin": true,
           "gridcolor": "white",
           "linecolor": "white",
           "ticks": "",
           "title": {
            "standoff": 15
           },
           "zerolinecolor": "white",
           "zerolinewidth": 2
          }
         }
        },
        "xaxis": {
         "anchor": "y",
         "domain": [
          0,
          1
         ],
         "title": {
          "text": "Country"
         }
        },
        "yaxis": {
         "anchor": "x",
         "domain": [
          0,
          1
         ],
         "title": {
          "text": "Score"
         }
        }
       }
      },
      "text/html": [
       "<div>                            <div id=\"bad3b84a-2bb6-48a1-90b0-668eddf2395f\" class=\"plotly-graph-div\" style=\"height:525px; width:100%;\"></div>            <script type=\"text/javascript\">                require([\"plotly\"], function(Plotly) {                    window.PLOTLYENV=window.PLOTLYENV || {};                                    if (document.getElementById(\"bad3b84a-2bb6-48a1-90b0-668eddf2395f\")) {                    Plotly.newPlot(                        \"bad3b84a-2bb6-48a1-90b0-668eddf2395f\",                        [{\"alignmentgroup\": \"True\", \"hovertemplate\": \"Country=%{x}<br>Score=%{y}<extra></extra>\", \"legendgroup\": \"\", \"marker\": {\"color\": \"#636efa\"}, \"name\": \"\", \"offsetgroup\": \"\", \"orientation\": \"v\", \"showlegend\": false, \"textposition\": \"auto\", \"type\": \"bar\", \"x\": [\"Finland\", \"Denmark\", \"Norway\", \"Iceland\", \"Netherlands\", \"Switzerland\", \"Sweden\", \"New Zealand\", \"Canada\", \"Austria\", \"Australia\", \"Costa Rica\", \"Israel\", \"Luxembourg\", \"United Kingdom\", \"Ireland\", \"Germany\", \"Belgium\", \"United States\", \"Czech Republic\", \"United Arab Emirates\", \"Malta\", \"Mexico\", \"France\", \"Taiwan\", \"Chile\", \"Guatemala\", \"Saudi Arabia\", \"Qatar\", \"Spain\", \"Panama\", \"Brazil\", \"Uruguay\", \"Singapore\", \"El Salvador\", \"Italy\", \"Bahrain\", \"Slovakia\", \"Trinidad & Tobago\", \"Poland\", \"Uzbekistan\", \"Lithuania\", \"Colombia\", \"Slovenia\", \"Nicaragua\", \"Kosovo\", \"Argentina\", \"Romania\", \"Cyprus\", \"Ecuador\", \"Kuwait\", \"Thailand\", \"Latvia\", \"South Korea\", \"Estonia\", \"Jamaica\", \"Mauritius\", \"Japan\", \"Honduras\", \"Kazakhstan\", \"Bolivia\", \"Hungary\", \"Paraguay\", \"Northern Cyprus\", \"Peru\", \"Portugal\", \"Pakistan\", \"Russia\", \"Philippines\", \"Serbia\", \"Moldova\", \"Libya\", \"Montenegro\", \"Tajikistan\", \"Croatia\", \"Hong Kong\", \"Dominican Republic\", \"Bosnia and Herzegovina\", \"Turkey\", \"Malaysia\", \"Belarus\", \"Greece\", \"Mongolia\", \"North Macedonia\", \"Nigeria\", \"Kyrgyzstan\", \"Turkmenistan\", \"Algeria\", \"Morocco\", \"Azerbaijan\", \"Lebanon\", \"Indonesia\", \"China\", \"Vietnam\", \"Bhutan\", \"Cameroon\", \"Bulgaria\", \"Ghana\", \"Ivory Coast\", \"Nepal\", \"Jordan\", \"Benin\", \"Congo (Brazzaville)\", \"Gabon\", \"Laos\", \"South Africa\", \"Albania\", \"Venezuela\", \"Cambodia\", \"Palestinian Territories\", \"Senegal\", \"Somalia\", \"Namibia\", \"Niger\", \"Burkina Faso\", \"Armenia\", \"Iran\", \"Guinea\", \"Georgia\", \"Gambia\", \"Kenya\", \"Mauritania\", \"Mozambique\", \"Tunisia\", \"Bangladesh\", \"Iraq\", \"Congo (Kinshasa)\", \"Mali\", \"Sierra Leone\", \"Sri Lanka\", \"Myanmar\", \"Chad\", \"Ukraine\", \"Ethiopia\", \"Swaziland\", \"Uganda\", \"Egypt\", \"Zambia\", \"Togo\", \"India\", \"Liberia\", \"Comoros\", \"Madagascar\", \"Lesotho\", \"Burundi\", \"Zimbabwe\", \"Haiti\", \"Botswana\", \"Syria\", \"Malawi\", \"Yemen\", \"Rwanda\", \"Tanzania\", \"Afghanistan\", \"Central African Republic\", \"South Sudan\"], \"xaxis\": \"x\", \"y\": [7.769, 7.6, 7.553999999999999, 7.494, 7.4879999999999995, 7.48, 7.343, 7.307, 7.278, 7.246, 7.228, 7.167000000000001, 7.138999999999999, 7.09, 7.053999999999999, 7.021, 6.985, 6.922999999999999, 6.892, 6.852, 6.825, 6.726, 6.595, 6.5920000000000005, 6.446000000000001, 6.444, 6.436, 6.375, 6.374, 6.354, 6.321000000000001, 6.3, 6.292999999999999, 6.2620000000000005, 6.252999999999999, 6.223, 6.199, 6.1979999999999995, 6.192, 6.182, 6.1739999999999995, 6.149, 6.125, 6.117999999999999, 6.105, 6.1, 6.086, 6.07, 6.046, 6.028, 6.021, 6.007999999999999, 5.94, 5.895, 5.893, 5.89, 5.888, 5.886, 5.86, 5.809, 5.779, 5.757999999999999, 5.742999999999999, 5.718, 5.697, 5.693, 5.653, 5.648, 5.631, 5.603, 5.529, 5.525, 5.523, 5.4670000000000005, 5.432, 5.43, 5.425, 5.386, 5.372999999999999, 5.3389999999999995, 5.3229999999999995, 5.287000000000001, 5.285, 5.274, 5.265, 5.261, 5.247000000000001, 5.211, 5.207999999999999, 5.207999999999999, 5.197, 5.192, 5.191, 5.175, 5.082, 5.044, 5.011, 4.996, 4.944, 4.913, 4.906000000000001, 4.883, 4.812, 4.7989999999999995, 4.796, 4.7219999999999995, 4.718999999999999, 4.707, 4.7, 4.696000000000001, 4.681, 4.668, 4.638999999999999, 4.628, 4.587, 4.559, 4.548, 4.534, 4.519, 4.516, 4.5089999999999995, 4.49, 4.466, 4.461, 4.456, 4.437, 4.418, 4.39, 4.374, 4.3660000000000005, 4.36, 4.35, 4.332, 4.2860000000000005, 4.212, 4.189, 4.166, 4.107, 4.085, 4.015, 3.975, 3.9730000000000003, 3.9330000000000003, 3.802, 3.775, 3.6630000000000003, 3.597, 3.488, 3.4619999999999997, 3.41, 3.38, 3.3339999999999996, 3.2310000000000003, 3.2030000000000003, 3.083, 2.853], \"yaxis\": \"y\"}],                        {\"barmode\": \"relative\", \"legend\": {\"tracegroupgap\": 0}, \"margin\": {\"t\": 60}, \"template\": {\"data\": {\"bar\": [{\"error_x\": {\"color\": \"#2a3f5f\"}, \"error_y\": {\"color\": \"#2a3f5f\"}, \"marker\": {\"line\": {\"color\": \"#E5ECF6\", \"width\": 0.5}}, \"type\": \"bar\"}], \"barpolar\": [{\"marker\": {\"line\": {\"color\": \"#E5ECF6\", \"width\": 0.5}}, \"type\": \"barpolar\"}], \"carpet\": [{\"aaxis\": {\"endlinecolor\": \"#2a3f5f\", \"gridcolor\": \"white\", \"linecolor\": \"white\", \"minorgridcolor\": \"white\", \"startlinecolor\": \"#2a3f5f\"}, \"baxis\": {\"endlinecolor\": \"#2a3f5f\", \"gridcolor\": \"white\", \"linecolor\": \"white\", \"minorgridcolor\": \"white\", \"startlinecolor\": \"#2a3f5f\"}, \"type\": \"carpet\"}], \"choropleth\": [{\"colorbar\": {\"outlinewidth\": 0, \"ticks\": \"\"}, \"type\": \"choropleth\"}], \"contour\": [{\"colorbar\": {\"outlinewidth\": 0, \"ticks\": \"\"}, \"colorscale\": [[0.0, \"#0d0887\"], [0.1111111111111111, \"#46039f\"], [0.2222222222222222, \"#7201a8\"], [0.3333333333333333, \"#9c179e\"], [0.4444444444444444, \"#bd3786\"], [0.5555555555555556, \"#d8576b\"], [0.6666666666666666, \"#ed7953\"], [0.7777777777777778, \"#fb9f3a\"], [0.8888888888888888, \"#fdca26\"], [1.0, \"#f0f921\"]], \"type\": \"contour\"}], \"contourcarpet\": [{\"colorbar\": {\"outlinewidth\": 0, \"ticks\": \"\"}, \"type\": \"contourcarpet\"}], \"heatmap\": [{\"colorbar\": {\"outlinewidth\": 0, \"ticks\": \"\"}, \"colorscale\": [[0.0, \"#0d0887\"], [0.1111111111111111, \"#46039f\"], [0.2222222222222222, \"#7201a8\"], [0.3333333333333333, \"#9c179e\"], [0.4444444444444444, \"#bd3786\"], [0.5555555555555556, \"#d8576b\"], [0.6666666666666666, \"#ed7953\"], [0.7777777777777778, \"#fb9f3a\"], [0.8888888888888888, \"#fdca26\"], [1.0, \"#f0f921\"]], \"type\": \"heatmap\"}], \"heatmapgl\": [{\"colorbar\": {\"outlinewidth\": 0, \"ticks\": \"\"}, \"colorscale\": [[0.0, \"#0d0887\"], [0.1111111111111111, \"#46039f\"], [0.2222222222222222, \"#7201a8\"], [0.3333333333333333, \"#9c179e\"], [0.4444444444444444, \"#bd3786\"], [0.5555555555555556, \"#d8576b\"], [0.6666666666666666, \"#ed7953\"], [0.7777777777777778, \"#fb9f3a\"], [0.8888888888888888, \"#fdca26\"], [1.0, \"#f0f921\"]], \"type\": \"heatmapgl\"}], \"histogram\": [{\"marker\": {\"colorbar\": {\"outlinewidth\": 0, \"ticks\": \"\"}}, \"type\": \"histogram\"}], \"histogram2d\": [{\"colorbar\": {\"outlinewidth\": 0, \"ticks\": \"\"}, \"colorscale\": [[0.0, \"#0d0887\"], [0.1111111111111111, \"#46039f\"], [0.2222222222222222, \"#7201a8\"], [0.3333333333333333, \"#9c179e\"], [0.4444444444444444, \"#bd3786\"], [0.5555555555555556, \"#d8576b\"], [0.6666666666666666, \"#ed7953\"], [0.7777777777777778, \"#fb9f3a\"], [0.8888888888888888, \"#fdca26\"], [1.0, \"#f0f921\"]], \"type\": \"histogram2d\"}], \"histogram2dcontour\": [{\"colorbar\": {\"outlinewidth\": 0, \"ticks\": \"\"}, \"colorscale\": [[0.0, \"#0d0887\"], [0.1111111111111111, \"#46039f\"], [0.2222222222222222, \"#7201a8\"], [0.3333333333333333, \"#9c179e\"], [0.4444444444444444, \"#bd3786\"], [0.5555555555555556, \"#d8576b\"], [0.6666666666666666, \"#ed7953\"], [0.7777777777777778, \"#fb9f3a\"], [0.8888888888888888, \"#fdca26\"], [1.0, \"#f0f921\"]], \"type\": \"histogram2dcontour\"}], \"mesh3d\": [{\"colorbar\": {\"outlinewidth\": 0, \"ticks\": \"\"}, \"type\": \"mesh3d\"}], \"parcoords\": [{\"line\": {\"colorbar\": {\"outlinewidth\": 0, \"ticks\": \"\"}}, \"type\": \"parcoords\"}], \"pie\": [{\"automargin\": true, \"type\": \"pie\"}], \"scatter\": [{\"marker\": {\"colorbar\": {\"outlinewidth\": 0, \"ticks\": \"\"}}, \"type\": \"scatter\"}], \"scatter3d\": [{\"line\": {\"colorbar\": {\"outlinewidth\": 0, \"ticks\": \"\"}}, \"marker\": {\"colorbar\": {\"outlinewidth\": 0, \"ticks\": \"\"}}, \"type\": \"scatter3d\"}], \"scattercarpet\": [{\"marker\": {\"colorbar\": {\"outlinewidth\": 0, \"ticks\": \"\"}}, \"type\": \"scattercarpet\"}], \"scattergeo\": [{\"marker\": {\"colorbar\": {\"outlinewidth\": 0, \"ticks\": \"\"}}, \"type\": \"scattergeo\"}], \"scattergl\": [{\"marker\": {\"colorbar\": {\"outlinewidth\": 0, \"ticks\": \"\"}}, \"type\": \"scattergl\"}], \"scattermapbox\": [{\"marker\": {\"colorbar\": {\"outlinewidth\": 0, \"ticks\": \"\"}}, \"type\": \"scattermapbox\"}], \"scatterpolar\": [{\"marker\": {\"colorbar\": {\"outlinewidth\": 0, \"ticks\": \"\"}}, \"type\": \"scatterpolar\"}], \"scatterpolargl\": [{\"marker\": {\"colorbar\": {\"outlinewidth\": 0, \"ticks\": \"\"}}, \"type\": \"scatterpolargl\"}], \"scatterternary\": [{\"marker\": {\"colorbar\": {\"outlinewidth\": 0, \"ticks\": \"\"}}, \"type\": \"scatterternary\"}], \"surface\": [{\"colorbar\": {\"outlinewidth\": 0, \"ticks\": \"\"}, \"colorscale\": [[0.0, \"#0d0887\"], [0.1111111111111111, \"#46039f\"], [0.2222222222222222, \"#7201a8\"], [0.3333333333333333, \"#9c179e\"], [0.4444444444444444, \"#bd3786\"], [0.5555555555555556, \"#d8576b\"], [0.6666666666666666, \"#ed7953\"], [0.7777777777777778, \"#fb9f3a\"], [0.8888888888888888, \"#fdca26\"], [1.0, \"#f0f921\"]], \"type\": \"surface\"}], \"table\": [{\"cells\": {\"fill\": {\"color\": \"#EBF0F8\"}, \"line\": {\"color\": \"white\"}}, \"header\": {\"fill\": {\"color\": \"#C8D4E3\"}, \"line\": {\"color\": \"white\"}}, \"type\": \"table\"}]}, \"layout\": {\"annotationdefaults\": {\"arrowcolor\": \"#2a3f5f\", \"arrowhead\": 0, \"arrowwidth\": 1}, \"autotypenumbers\": \"strict\", \"coloraxis\": {\"colorbar\": {\"outlinewidth\": 0, \"ticks\": \"\"}}, \"colorscale\": {\"diverging\": [[0, \"#8e0152\"], [0.1, \"#c51b7d\"], [0.2, \"#de77ae\"], [0.3, \"#f1b6da\"], [0.4, \"#fde0ef\"], [0.5, \"#f7f7f7\"], [0.6, \"#e6f5d0\"], [0.7, \"#b8e186\"], [0.8, \"#7fbc41\"], [0.9, \"#4d9221\"], [1, \"#276419\"]], \"sequential\": [[0.0, \"#0d0887\"], [0.1111111111111111, \"#46039f\"], [0.2222222222222222, \"#7201a8\"], [0.3333333333333333, \"#9c179e\"], [0.4444444444444444, \"#bd3786\"], [0.5555555555555556, \"#d8576b\"], [0.6666666666666666, \"#ed7953\"], [0.7777777777777778, \"#fb9f3a\"], [0.8888888888888888, \"#fdca26\"], [1.0, \"#f0f921\"]], \"sequentialminus\": [[0.0, \"#0d0887\"], [0.1111111111111111, \"#46039f\"], [0.2222222222222222, \"#7201a8\"], [0.3333333333333333, \"#9c179e\"], [0.4444444444444444, \"#bd3786\"], [0.5555555555555556, \"#d8576b\"], [0.6666666666666666, \"#ed7953\"], [0.7777777777777778, \"#fb9f3a\"], [0.8888888888888888, \"#fdca26\"], [1.0, \"#f0f921\"]]}, \"colorway\": [\"#636efa\", \"#EF553B\", \"#00cc96\", \"#ab63fa\", \"#FFA15A\", \"#19d3f3\", \"#FF6692\", \"#B6E880\", \"#FF97FF\", \"#FECB52\"], \"font\": {\"color\": \"#2a3f5f\"}, \"geo\": {\"bgcolor\": \"white\", \"lakecolor\": \"white\", \"landcolor\": \"#E5ECF6\", \"showlakes\": true, \"showland\": true, \"subunitcolor\": \"white\"}, \"hoverlabel\": {\"align\": \"left\"}, \"hovermode\": \"closest\", \"mapbox\": {\"style\": \"light\"}, \"paper_bgcolor\": \"white\", \"plot_bgcolor\": \"#E5ECF6\", \"polar\": {\"angularaxis\": {\"gridcolor\": \"white\", \"linecolor\": \"white\", \"ticks\": \"\"}, \"bgcolor\": \"#E5ECF6\", \"radialaxis\": {\"gridcolor\": \"white\", \"linecolor\": \"white\", \"ticks\": \"\"}}, \"scene\": {\"xaxis\": {\"backgroundcolor\": \"#E5ECF6\", \"gridcolor\": \"white\", \"gridwidth\": 2, \"linecolor\": \"white\", \"showbackground\": true, \"ticks\": \"\", \"zerolinecolor\": \"white\"}, \"yaxis\": {\"backgroundcolor\": \"#E5ECF6\", \"gridcolor\": \"white\", \"gridwidth\": 2, \"linecolor\": \"white\", \"showbackground\": true, \"ticks\": \"\", \"zerolinecolor\": \"white\"}, \"zaxis\": {\"backgroundcolor\": \"#E5ECF6\", \"gridcolor\": \"white\", \"gridwidth\": 2, \"linecolor\": \"white\", \"showbackground\": true, \"ticks\": \"\", \"zerolinecolor\": \"white\"}}, \"shapedefaults\": {\"line\": {\"color\": \"#2a3f5f\"}}, \"ternary\": {\"aaxis\": {\"gridcolor\": \"white\", \"linecolor\": \"white\", \"ticks\": \"\"}, \"baxis\": {\"gridcolor\": \"white\", \"linecolor\": \"white\", \"ticks\": \"\"}, \"bgcolor\": \"#E5ECF6\", \"caxis\": {\"gridcolor\": \"white\", \"linecolor\": \"white\", \"ticks\": \"\"}}, \"title\": {\"x\": 0.05}, \"xaxis\": {\"automargin\": true, \"gridcolor\": \"white\", \"linecolor\": \"white\", \"ticks\": \"\", \"title\": {\"standoff\": 15}, \"zerolinecolor\": \"white\", \"zerolinewidth\": 2}, \"yaxis\": {\"automargin\": true, \"gridcolor\": \"white\", \"linecolor\": \"white\", \"ticks\": \"\", \"title\": {\"standoff\": 15}, \"zerolinecolor\": \"white\", \"zerolinewidth\": 2}}}, \"xaxis\": {\"anchor\": \"y\", \"domain\": [0.0, 1.0], \"title\": {\"text\": \"Country\"}}, \"yaxis\": {\"anchor\": \"x\", \"domain\": [0.0, 1.0], \"title\": {\"text\": \"Score\"}}},                        {\"responsive\": true}                    ).then(function(){\n",
       "                            \n",
       "var gd = document.getElementById('bad3b84a-2bb6-48a1-90b0-668eddf2395f');\n",
       "var x = new MutationObserver(function (mutations, observer) {{\n",
       "        var display = window.getComputedStyle(gd).display;\n",
       "        if (!display || display === 'none') {{\n",
       "            console.log([gd, 'removed!']);\n",
       "            Plotly.purge(gd);\n",
       "            observer.disconnect();\n",
       "        }}\n",
       "}});\n",
       "\n",
       "// Listen for the removal of the full notebook cells\n",
       "var notebookContainer = gd.closest('#notebook-container');\n",
       "if (notebookContainer) {{\n",
       "    x.observe(notebookContainer, {childList: true});\n",
       "}}\n",
       "\n",
       "// Listen for the clearing of the current output cell\n",
       "var outputEl = gd.closest('.output');\n",
       "if (outputEl) {{\n",
       "    x.observe(outputEl, {childList: true});\n",
       "}}\n",
       "\n",
       "                        })                };                });            </script>        </div>"
      ]
     },
     "metadata": {},
     "output_type": "display_data"
    }
   ],
   "source": [
    "import plotly.express as px\n",
    "import numpy as np\n",
    "import pandas as pd\n",
    "\n",
    "#color='continent' ,hover_data=['country'], labels={'y':'log gdp'}, title='Evolution of world GDP')\n",
    "\n",
    "df = df_2019\n",
    "gdp = df['Score']\n",
    "fig = px.bar(df, x='Country', y=gdp)\n",
    "             \n",
    "fig.show()\n"
   ]
  },
  {
   "cell_type": "code",
   "execution_count": 48,
   "metadata": {},
   "outputs": [
    {
     "data": {
      "application/vnd.plotly.v1+json": {
       "config": {
        "plotlyServerURL": "https://plot.ly"
       },
       "data": [
        {
         "alignmentgroup": "True",
         "customdata": [
          [
           7.769
          ],
          [
           7.6
          ],
          [
           7.553999999999999
          ],
          [
           7.494
          ],
          [
           7.4879999999999995
          ],
          [
           7.48
          ],
          [
           7.343
          ],
          [
           7.307
          ],
          [
           7.278
          ],
          [
           7.246
          ],
          [
           7.228
          ],
          [
           7.167000000000001
          ],
          [
           7.138999999999999
          ],
          [
           7.09
          ],
          [
           7.053999999999999
          ],
          [
           7.021
          ],
          [
           6.985
          ],
          [
           6.922999999999999
          ],
          [
           6.892
          ],
          [
           6.852
          ],
          [
           6.825
          ],
          [
           6.726
          ],
          [
           6.595
          ],
          [
           6.5920000000000005
          ],
          [
           6.446000000000001
          ],
          [
           6.444
          ],
          [
           6.436
          ],
          [
           6.375
          ],
          [
           6.374
          ],
          [
           6.354
          ],
          [
           6.321000000000001
          ],
          [
           6.3
          ],
          [
           6.292999999999999
          ],
          [
           6.2620000000000005
          ],
          [
           6.252999999999999
          ],
          [
           6.223
          ],
          [
           6.199
          ],
          [
           6.1979999999999995
          ],
          [
           6.192
          ],
          [
           6.182
          ],
          [
           6.1739999999999995
          ],
          [
           6.149
          ],
          [
           6.125
          ],
          [
           6.117999999999999
          ],
          [
           6.105
          ],
          [
           6.1
          ],
          [
           6.086
          ],
          [
           6.07
          ],
          [
           6.046
          ],
          [
           6.028
          ],
          [
           6.021
          ],
          [
           6.007999999999999
          ],
          [
           5.94
          ],
          [
           5.895
          ],
          [
           5.893
          ],
          [
           5.89
          ],
          [
           5.888
          ],
          [
           5.886
          ],
          [
           5.86
          ],
          [
           5.809
          ],
          [
           5.779
          ],
          [
           5.757999999999999
          ],
          [
           5.742999999999999
          ],
          [
           5.718
          ],
          [
           5.697
          ],
          [
           5.693
          ],
          [
           5.653
          ],
          [
           5.648
          ],
          [
           5.631
          ],
          [
           5.603
          ],
          [
           5.529
          ],
          [
           5.525
          ],
          [
           5.523
          ],
          [
           5.4670000000000005
          ],
          [
           5.432
          ],
          [
           5.43
          ],
          [
           5.425
          ],
          [
           5.386
          ],
          [
           5.372999999999999
          ],
          [
           5.3389999999999995
          ],
          [
           5.3229999999999995
          ],
          [
           5.287000000000001
          ],
          [
           5.285
          ],
          [
           5.274
          ],
          [
           5.265
          ],
          [
           5.261
          ],
          [
           5.247000000000001
          ],
          [
           5.211
          ],
          [
           5.207999999999999
          ],
          [
           5.207999999999999
          ],
          [
           5.197
          ],
          [
           5.192
          ],
          [
           5.191
          ],
          [
           5.175
          ],
          [
           5.082
          ],
          [
           5.044
          ],
          [
           5.011
          ],
          [
           4.996
          ],
          [
           4.944
          ],
          [
           4.913
          ],
          [
           4.906000000000001
          ],
          [
           4.883
          ],
          [
           4.812
          ],
          [
           4.7989999999999995
          ],
          [
           4.796
          ],
          [
           4.7219999999999995
          ],
          [
           4.718999999999999
          ],
          [
           4.707
          ],
          [
           4.7
          ],
          [
           4.696000000000001
          ],
          [
           4.681
          ],
          [
           4.668
          ],
          [
           4.638999999999999
          ],
          [
           4.628
          ],
          [
           4.587
          ],
          [
           4.559
          ],
          [
           4.548
          ],
          [
           4.534
          ],
          [
           4.519
          ],
          [
           4.516
          ],
          [
           4.5089999999999995
          ],
          [
           4.49
          ],
          [
           4.466
          ],
          [
           4.461
          ],
          [
           4.456
          ],
          [
           4.437
          ],
          [
           4.418
          ],
          [
           4.39
          ],
          [
           4.374
          ],
          [
           4.3660000000000005
          ],
          [
           4.36
          ],
          [
           4.35
          ],
          [
           4.332
          ],
          [
           4.2860000000000005
          ],
          [
           4.212
          ],
          [
           4.189
          ],
          [
           4.166
          ],
          [
           4.107
          ],
          [
           4.085
          ],
          [
           4.015
          ],
          [
           3.975
          ],
          [
           3.9730000000000003
          ],
          [
           3.9330000000000003
          ],
          [
           3.802
          ],
          [
           3.775
          ],
          [
           3.6630000000000003
          ],
          [
           3.597
          ],
          [
           3.488
          ],
          [
           3.4619999999999997
          ],
          [
           3.41
          ],
          [
           3.38
          ],
          [
           3.3339999999999996
          ],
          [
           3.2310000000000003
          ],
          [
           3.2030000000000003
          ],
          [
           3.083
          ],
          [
           2.853
          ]
         ],
         "hovertemplate": "Country=%{x}<br>Score=%{marker.color}<extra></extra>",
         "legendgroup": "",
         "marker": {
          "color": [
           7.769,
           7.6,
           7.553999999999999,
           7.494,
           7.4879999999999995,
           7.48,
           7.343,
           7.307,
           7.278,
           7.246,
           7.228,
           7.167000000000001,
           7.138999999999999,
           7.09,
           7.053999999999999,
           7.021,
           6.985,
           6.922999999999999,
           6.892,
           6.852,
           6.825,
           6.726,
           6.595,
           6.5920000000000005,
           6.446000000000001,
           6.444,
           6.436,
           6.375,
           6.374,
           6.354,
           6.321000000000001,
           6.3,
           6.292999999999999,
           6.2620000000000005,
           6.252999999999999,
           6.223,
           6.199,
           6.1979999999999995,
           6.192,
           6.182,
           6.1739999999999995,
           6.149,
           6.125,
           6.117999999999999,
           6.105,
           6.1,
           6.086,
           6.07,
           6.046,
           6.028,
           6.021,
           6.007999999999999,
           5.94,
           5.895,
           5.893,
           5.89,
           5.888,
           5.886,
           5.86,
           5.809,
           5.779,
           5.757999999999999,
           5.742999999999999,
           5.718,
           5.697,
           5.693,
           5.653,
           5.648,
           5.631,
           5.603,
           5.529,
           5.525,
           5.523,
           5.4670000000000005,
           5.432,
           5.43,
           5.425,
           5.386,
           5.372999999999999,
           5.3389999999999995,
           5.3229999999999995,
           5.287000000000001,
           5.285,
           5.274,
           5.265,
           5.261,
           5.247000000000001,
           5.211,
           5.207999999999999,
           5.207999999999999,
           5.197,
           5.192,
           5.191,
           5.175,
           5.082,
           5.044,
           5.011,
           4.996,
           4.944,
           4.913,
           4.906000000000001,
           4.883,
           4.812,
           4.7989999999999995,
           4.796,
           4.7219999999999995,
           4.718999999999999,
           4.707,
           4.7,
           4.696000000000001,
           4.681,
           4.668,
           4.638999999999999,
           4.628,
           4.587,
           4.559,
           4.548,
           4.534,
           4.519,
           4.516,
           4.5089999999999995,
           4.49,
           4.466,
           4.461,
           4.456,
           4.437,
           4.418,
           4.39,
           4.374,
           4.3660000000000005,
           4.36,
           4.35,
           4.332,
           4.2860000000000005,
           4.212,
           4.189,
           4.166,
           4.107,
           4.085,
           4.015,
           3.975,
           3.9730000000000003,
           3.9330000000000003,
           3.802,
           3.775,
           3.6630000000000003,
           3.597,
           3.488,
           3.4619999999999997,
           3.41,
           3.38,
           3.3339999999999996,
           3.2310000000000003,
           3.2030000000000003,
           3.083,
           2.853
          ],
          "coloraxis": "coloraxis"
         },
         "name": "",
         "offsetgroup": "",
         "orientation": "v",
         "showlegend": false,
         "textposition": "auto",
         "type": "bar",
         "x": [
          "Finland",
          "Denmark",
          "Norway",
          "Iceland",
          "Netherlands",
          "Switzerland",
          "Sweden",
          "New Zealand",
          "Canada",
          "Austria",
          "Australia",
          "Costa Rica",
          "Israel",
          "Luxembourg",
          "United Kingdom",
          "Ireland",
          "Germany",
          "Belgium",
          "United States",
          "Czech Republic",
          "United Arab Emirates",
          "Malta",
          "Mexico",
          "France",
          "Taiwan",
          "Chile",
          "Guatemala",
          "Saudi Arabia",
          "Qatar",
          "Spain",
          "Panama",
          "Brazil",
          "Uruguay",
          "Singapore",
          "El Salvador",
          "Italy",
          "Bahrain",
          "Slovakia",
          "Trinidad & Tobago",
          "Poland",
          "Uzbekistan",
          "Lithuania",
          "Colombia",
          "Slovenia",
          "Nicaragua",
          "Kosovo",
          "Argentina",
          "Romania",
          "Cyprus",
          "Ecuador",
          "Kuwait",
          "Thailand",
          "Latvia",
          "South Korea",
          "Estonia",
          "Jamaica",
          "Mauritius",
          "Japan",
          "Honduras",
          "Kazakhstan",
          "Bolivia",
          "Hungary",
          "Paraguay",
          "Northern Cyprus",
          "Peru",
          "Portugal",
          "Pakistan",
          "Russia",
          "Philippines",
          "Serbia",
          "Moldova",
          "Libya",
          "Montenegro",
          "Tajikistan",
          "Croatia",
          "Hong Kong",
          "Dominican Republic",
          "Bosnia and Herzegovina",
          "Turkey",
          "Malaysia",
          "Belarus",
          "Greece",
          "Mongolia",
          "North Macedonia",
          "Nigeria",
          "Kyrgyzstan",
          "Turkmenistan",
          "Algeria",
          "Morocco",
          "Azerbaijan",
          "Lebanon",
          "Indonesia",
          "China",
          "Vietnam",
          "Bhutan",
          "Cameroon",
          "Bulgaria",
          "Ghana",
          "Ivory Coast",
          "Nepal",
          "Jordan",
          "Benin",
          "Congo (Brazzaville)",
          "Gabon",
          "Laos",
          "South Africa",
          "Albania",
          "Venezuela",
          "Cambodia",
          "Palestinian Territories",
          "Senegal",
          "Somalia",
          "Namibia",
          "Niger",
          "Burkina Faso",
          "Armenia",
          "Iran",
          "Guinea",
          "Georgia",
          "Gambia",
          "Kenya",
          "Mauritania",
          "Mozambique",
          "Tunisia",
          "Bangladesh",
          "Iraq",
          "Congo (Kinshasa)",
          "Mali",
          "Sierra Leone",
          "Sri Lanka",
          "Myanmar",
          "Chad",
          "Ukraine",
          "Ethiopia",
          "Swaziland",
          "Uganda",
          "Egypt",
          "Zambia",
          "Togo",
          "India",
          "Liberia",
          "Comoros",
          "Madagascar",
          "Lesotho",
          "Burundi",
          "Zimbabwe",
          "Haiti",
          "Botswana",
          "Syria",
          "Malawi",
          "Yemen",
          "Rwanda",
          "Tanzania",
          "Afghanistan",
          "Central African Republic",
          "South Sudan"
         ],
         "xaxis": "x",
         "y": [
          7.769,
          7.6,
          7.553999999999999,
          7.494,
          7.4879999999999995,
          7.48,
          7.343,
          7.307,
          7.278,
          7.246,
          7.228,
          7.167000000000001,
          7.138999999999999,
          7.09,
          7.053999999999999,
          7.021,
          6.985,
          6.922999999999999,
          6.892,
          6.852,
          6.825,
          6.726,
          6.595,
          6.5920000000000005,
          6.446000000000001,
          6.444,
          6.436,
          6.375,
          6.374,
          6.354,
          6.321000000000001,
          6.3,
          6.292999999999999,
          6.2620000000000005,
          6.252999999999999,
          6.223,
          6.199,
          6.1979999999999995,
          6.192,
          6.182,
          6.1739999999999995,
          6.149,
          6.125,
          6.117999999999999,
          6.105,
          6.1,
          6.086,
          6.07,
          6.046,
          6.028,
          6.021,
          6.007999999999999,
          5.94,
          5.895,
          5.893,
          5.89,
          5.888,
          5.886,
          5.86,
          5.809,
          5.779,
          5.757999999999999,
          5.742999999999999,
          5.718,
          5.697,
          5.693,
          5.653,
          5.648,
          5.631,
          5.603,
          5.529,
          5.525,
          5.523,
          5.4670000000000005,
          5.432,
          5.43,
          5.425,
          5.386,
          5.372999999999999,
          5.3389999999999995,
          5.3229999999999995,
          5.287000000000001,
          5.285,
          5.274,
          5.265,
          5.261,
          5.247000000000001,
          5.211,
          5.207999999999999,
          5.207999999999999,
          5.197,
          5.192,
          5.191,
          5.175,
          5.082,
          5.044,
          5.011,
          4.996,
          4.944,
          4.913,
          4.906000000000001,
          4.883,
          4.812,
          4.7989999999999995,
          4.796,
          4.7219999999999995,
          4.718999999999999,
          4.707,
          4.7,
          4.696000000000001,
          4.681,
          4.668,
          4.638999999999999,
          4.628,
          4.587,
          4.559,
          4.548,
          4.534,
          4.519,
          4.516,
          4.5089999999999995,
          4.49,
          4.466,
          4.461,
          4.456,
          4.437,
          4.418,
          4.39,
          4.374,
          4.3660000000000005,
          4.36,
          4.35,
          4.332,
          4.2860000000000005,
          4.212,
          4.189,
          4.166,
          4.107,
          4.085,
          4.015,
          3.975,
          3.9730000000000003,
          3.9330000000000003,
          3.802,
          3.775,
          3.6630000000000003,
          3.597,
          3.488,
          3.4619999999999997,
          3.41,
          3.38,
          3.3339999999999996,
          3.2310000000000003,
          3.2030000000000003,
          3.083,
          2.853
         ],
         "yaxis": "y"
        }
       ],
       "layout": {
        "barmode": "stack",
        "coloraxis": {
         "colorbar": {
          "title": {
           "text": "Score"
          }
         },
         "colorscale": [
          [
           0,
           "#0d0887"
          ],
          [
           0.1111111111111111,
           "#46039f"
          ],
          [
           0.2222222222222222,
           "#7201a8"
          ],
          [
           0.3333333333333333,
           "#9c179e"
          ],
          [
           0.4444444444444444,
           "#bd3786"
          ],
          [
           0.5555555555555556,
           "#d8576b"
          ],
          [
           0.6666666666666666,
           "#ed7953"
          ],
          [
           0.7777777777777778,
           "#fb9f3a"
          ],
          [
           0.8888888888888888,
           "#fdca26"
          ],
          [
           1,
           "#f0f921"
          ]
         ]
        },
        "legend": {
         "tracegroupgap": 0
        },
        "margin": {
         "t": 60
        },
        "template": {
         "data": {
          "bar": [
           {
            "error_x": {
             "color": "#2a3f5f"
            },
            "error_y": {
             "color": "#2a3f5f"
            },
            "marker": {
             "line": {
              "color": "#E5ECF6",
              "width": 0.5
             }
            },
            "type": "bar"
           }
          ],
          "barpolar": [
           {
            "marker": {
             "line": {
              "color": "#E5ECF6",
              "width": 0.5
             }
            },
            "type": "barpolar"
           }
          ],
          "carpet": [
           {
            "aaxis": {
             "endlinecolor": "#2a3f5f",
             "gridcolor": "white",
             "linecolor": "white",
             "minorgridcolor": "white",
             "startlinecolor": "#2a3f5f"
            },
            "baxis": {
             "endlinecolor": "#2a3f5f",
             "gridcolor": "white",
             "linecolor": "white",
             "minorgridcolor": "white",
             "startlinecolor": "#2a3f5f"
            },
            "type": "carpet"
           }
          ],
          "choropleth": [
           {
            "colorbar": {
             "outlinewidth": 0,
             "ticks": ""
            },
            "type": "choropleth"
           }
          ],
          "contour": [
           {
            "colorbar": {
             "outlinewidth": 0,
             "ticks": ""
            },
            "colorscale": [
             [
              0,
              "#0d0887"
             ],
             [
              0.1111111111111111,
              "#46039f"
             ],
             [
              0.2222222222222222,
              "#7201a8"
             ],
             [
              0.3333333333333333,
              "#9c179e"
             ],
             [
              0.4444444444444444,
              "#bd3786"
             ],
             [
              0.5555555555555556,
              "#d8576b"
             ],
             [
              0.6666666666666666,
              "#ed7953"
             ],
             [
              0.7777777777777778,
              "#fb9f3a"
             ],
             [
              0.8888888888888888,
              "#fdca26"
             ],
             [
              1,
              "#f0f921"
             ]
            ],
            "type": "contour"
           }
          ],
          "contourcarpet": [
           {
            "colorbar": {
             "outlinewidth": 0,
             "ticks": ""
            },
            "type": "contourcarpet"
           }
          ],
          "heatmap": [
           {
            "colorbar": {
             "outlinewidth": 0,
             "ticks": ""
            },
            "colorscale": [
             [
              0,
              "#0d0887"
             ],
             [
              0.1111111111111111,
              "#46039f"
             ],
             [
              0.2222222222222222,
              "#7201a8"
             ],
             [
              0.3333333333333333,
              "#9c179e"
             ],
             [
              0.4444444444444444,
              "#bd3786"
             ],
             [
              0.5555555555555556,
              "#d8576b"
             ],
             [
              0.6666666666666666,
              "#ed7953"
             ],
             [
              0.7777777777777778,
              "#fb9f3a"
             ],
             [
              0.8888888888888888,
              "#fdca26"
             ],
             [
              1,
              "#f0f921"
             ]
            ],
            "type": "heatmap"
           }
          ],
          "heatmapgl": [
           {
            "colorbar": {
             "outlinewidth": 0,
             "ticks": ""
            },
            "colorscale": [
             [
              0,
              "#0d0887"
             ],
             [
              0.1111111111111111,
              "#46039f"
             ],
             [
              0.2222222222222222,
              "#7201a8"
             ],
             [
              0.3333333333333333,
              "#9c179e"
             ],
             [
              0.4444444444444444,
              "#bd3786"
             ],
             [
              0.5555555555555556,
              "#d8576b"
             ],
             [
              0.6666666666666666,
              "#ed7953"
             ],
             [
              0.7777777777777778,
              "#fb9f3a"
             ],
             [
              0.8888888888888888,
              "#fdca26"
             ],
             [
              1,
              "#f0f921"
             ]
            ],
            "type": "heatmapgl"
           }
          ],
          "histogram": [
           {
            "marker": {
             "colorbar": {
              "outlinewidth": 0,
              "ticks": ""
             }
            },
            "type": "histogram"
           }
          ],
          "histogram2d": [
           {
            "colorbar": {
             "outlinewidth": 0,
             "ticks": ""
            },
            "colorscale": [
             [
              0,
              "#0d0887"
             ],
             [
              0.1111111111111111,
              "#46039f"
             ],
             [
              0.2222222222222222,
              "#7201a8"
             ],
             [
              0.3333333333333333,
              "#9c179e"
             ],
             [
              0.4444444444444444,
              "#bd3786"
             ],
             [
              0.5555555555555556,
              "#d8576b"
             ],
             [
              0.6666666666666666,
              "#ed7953"
             ],
             [
              0.7777777777777778,
              "#fb9f3a"
             ],
             [
              0.8888888888888888,
              "#fdca26"
             ],
             [
              1,
              "#f0f921"
             ]
            ],
            "type": "histogram2d"
           }
          ],
          "histogram2dcontour": [
           {
            "colorbar": {
             "outlinewidth": 0,
             "ticks": ""
            },
            "colorscale": [
             [
              0,
              "#0d0887"
             ],
             [
              0.1111111111111111,
              "#46039f"
             ],
             [
              0.2222222222222222,
              "#7201a8"
             ],
             [
              0.3333333333333333,
              "#9c179e"
             ],
             [
              0.4444444444444444,
              "#bd3786"
             ],
             [
              0.5555555555555556,
              "#d8576b"
             ],
             [
              0.6666666666666666,
              "#ed7953"
             ],
             [
              0.7777777777777778,
              "#fb9f3a"
             ],
             [
              0.8888888888888888,
              "#fdca26"
             ],
             [
              1,
              "#f0f921"
             ]
            ],
            "type": "histogram2dcontour"
           }
          ],
          "mesh3d": [
           {
            "colorbar": {
             "outlinewidth": 0,
             "ticks": ""
            },
            "type": "mesh3d"
           }
          ],
          "parcoords": [
           {
            "line": {
             "colorbar": {
              "outlinewidth": 0,
              "ticks": ""
             }
            },
            "type": "parcoords"
           }
          ],
          "pie": [
           {
            "automargin": true,
            "type": "pie"
           }
          ],
          "scatter": [
           {
            "marker": {
             "colorbar": {
              "outlinewidth": 0,
              "ticks": ""
             }
            },
            "type": "scatter"
           }
          ],
          "scatter3d": [
           {
            "line": {
             "colorbar": {
              "outlinewidth": 0,
              "ticks": ""
             }
            },
            "marker": {
             "colorbar": {
              "outlinewidth": 0,
              "ticks": ""
             }
            },
            "type": "scatter3d"
           }
          ],
          "scattercarpet": [
           {
            "marker": {
             "colorbar": {
              "outlinewidth": 0,
              "ticks": ""
             }
            },
            "type": "scattercarpet"
           }
          ],
          "scattergeo": [
           {
            "marker": {
             "colorbar": {
              "outlinewidth": 0,
              "ticks": ""
             }
            },
            "type": "scattergeo"
           }
          ],
          "scattergl": [
           {
            "marker": {
             "colorbar": {
              "outlinewidth": 0,
              "ticks": ""
             }
            },
            "type": "scattergl"
           }
          ],
          "scattermapbox": [
           {
            "marker": {
             "colorbar": {
              "outlinewidth": 0,
              "ticks": ""
             }
            },
            "type": "scattermapbox"
           }
          ],
          "scatterpolar": [
           {
            "marker": {
             "colorbar": {
              "outlinewidth": 0,
              "ticks": ""
             }
            },
            "type": "scatterpolar"
           }
          ],
          "scatterpolargl": [
           {
            "marker": {
             "colorbar": {
              "outlinewidth": 0,
              "ticks": ""
             }
            },
            "type": "scatterpolargl"
           }
          ],
          "scatterternary": [
           {
            "marker": {
             "colorbar": {
              "outlinewidth": 0,
              "ticks": ""
             }
            },
            "type": "scatterternary"
           }
          ],
          "surface": [
           {
            "colorbar": {
             "outlinewidth": 0,
             "ticks": ""
            },
            "colorscale": [
             [
              0,
              "#0d0887"
             ],
             [
              0.1111111111111111,
              "#46039f"
             ],
             [
              0.2222222222222222,
              "#7201a8"
             ],
             [
              0.3333333333333333,
              "#9c179e"
             ],
             [
              0.4444444444444444,
              "#bd3786"
             ],
             [
              0.5555555555555556,
              "#d8576b"
             ],
             [
              0.6666666666666666,
              "#ed7953"
             ],
             [
              0.7777777777777778,
              "#fb9f3a"
             ],
             [
              0.8888888888888888,
              "#fdca26"
             ],
             [
              1,
              "#f0f921"
             ]
            ],
            "type": "surface"
           }
          ],
          "table": [
           {
            "cells": {
             "fill": {
              "color": "#EBF0F8"
             },
             "line": {
              "color": "white"
             }
            },
            "header": {
             "fill": {
              "color": "#C8D4E3"
             },
             "line": {
              "color": "white"
             }
            },
            "type": "table"
           }
          ]
         },
         "layout": {
          "annotationdefaults": {
           "arrowcolor": "#2a3f5f",
           "arrowhead": 0,
           "arrowwidth": 1
          },
          "autotypenumbers": "strict",
          "coloraxis": {
           "colorbar": {
            "outlinewidth": 0,
            "ticks": ""
           }
          },
          "colorscale": {
           "diverging": [
            [
             0,
             "#8e0152"
            ],
            [
             0.1,
             "#c51b7d"
            ],
            [
             0.2,
             "#de77ae"
            ],
            [
             0.3,
             "#f1b6da"
            ],
            [
             0.4,
             "#fde0ef"
            ],
            [
             0.5,
             "#f7f7f7"
            ],
            [
             0.6,
             "#e6f5d0"
            ],
            [
             0.7,
             "#b8e186"
            ],
            [
             0.8,
             "#7fbc41"
            ],
            [
             0.9,
             "#4d9221"
            ],
            [
             1,
             "#276419"
            ]
           ],
           "sequential": [
            [
             0,
             "#0d0887"
            ],
            [
             0.1111111111111111,
             "#46039f"
            ],
            [
             0.2222222222222222,
             "#7201a8"
            ],
            [
             0.3333333333333333,
             "#9c179e"
            ],
            [
             0.4444444444444444,
             "#bd3786"
            ],
            [
             0.5555555555555556,
             "#d8576b"
            ],
            [
             0.6666666666666666,
             "#ed7953"
            ],
            [
             0.7777777777777778,
             "#fb9f3a"
            ],
            [
             0.8888888888888888,
             "#fdca26"
            ],
            [
             1,
             "#f0f921"
            ]
           ],
           "sequentialminus": [
            [
             0,
             "#0d0887"
            ],
            [
             0.1111111111111111,
             "#46039f"
            ],
            [
             0.2222222222222222,
             "#7201a8"
            ],
            [
             0.3333333333333333,
             "#9c179e"
            ],
            [
             0.4444444444444444,
             "#bd3786"
            ],
            [
             0.5555555555555556,
             "#d8576b"
            ],
            [
             0.6666666666666666,
             "#ed7953"
            ],
            [
             0.7777777777777778,
             "#fb9f3a"
            ],
            [
             0.8888888888888888,
             "#fdca26"
            ],
            [
             1,
             "#f0f921"
            ]
           ]
          },
          "colorway": [
           "#636efa",
           "#EF553B",
           "#00cc96",
           "#ab63fa",
           "#FFA15A",
           "#19d3f3",
           "#FF6692",
           "#B6E880",
           "#FF97FF",
           "#FECB52"
          ],
          "font": {
           "color": "#2a3f5f"
          },
          "geo": {
           "bgcolor": "white",
           "lakecolor": "white",
           "landcolor": "#E5ECF6",
           "showlakes": true,
           "showland": true,
           "subunitcolor": "white"
          },
          "hoverlabel": {
           "align": "left"
          },
          "hovermode": "closest",
          "mapbox": {
           "style": "light"
          },
          "paper_bgcolor": "white",
          "plot_bgcolor": "#E5ECF6",
          "polar": {
           "angularaxis": {
            "gridcolor": "white",
            "linecolor": "white",
            "ticks": ""
           },
           "bgcolor": "#E5ECF6",
           "radialaxis": {
            "gridcolor": "white",
            "linecolor": "white",
            "ticks": ""
           }
          },
          "scene": {
           "xaxis": {
            "backgroundcolor": "#E5ECF6",
            "gridcolor": "white",
            "gridwidth": 2,
            "linecolor": "white",
            "showbackground": true,
            "ticks": "",
            "zerolinecolor": "white"
           },
           "yaxis": {
            "backgroundcolor": "#E5ECF6",
            "gridcolor": "white",
            "gridwidth": 2,
            "linecolor": "white",
            "showbackground": true,
            "ticks": "",
            "zerolinecolor": "white"
           },
           "zaxis": {
            "backgroundcolor": "#E5ECF6",
            "gridcolor": "white",
            "gridwidth": 2,
            "linecolor": "white",
            "showbackground": true,
            "ticks": "",
            "zerolinecolor": "white"
           }
          },
          "shapedefaults": {
           "line": {
            "color": "#2a3f5f"
           }
          },
          "ternary": {
           "aaxis": {
            "gridcolor": "white",
            "linecolor": "white",
            "ticks": ""
           },
           "baxis": {
            "gridcolor": "white",
            "linecolor": "white",
            "ticks": ""
           },
           "bgcolor": "#E5ECF6",
           "caxis": {
            "gridcolor": "white",
            "linecolor": "white",
            "ticks": ""
           }
          },
          "title": {
           "x": 0.05
          },
          "xaxis": {
           "automargin": true,
           "gridcolor": "white",
           "linecolor": "white",
           "ticks": "",
           "title": {
            "standoff": 15
           },
           "zerolinecolor": "white",
           "zerolinewidth": 2
          },
          "yaxis": {
           "automargin": true,
           "gridcolor": "white",
           "linecolor": "white",
           "ticks": "",
           "title": {
            "standoff": 15
           },
           "zerolinecolor": "white",
           "zerolinewidth": 2
          }
         }
        },
        "xaxis": {
         "anchor": "y",
         "domain": [
          0,
          1
         ],
         "title": {
          "text": "Country"
         }
        },
        "yaxis": {
         "anchor": "x",
         "domain": [
          0,
          1
         ],
         "title": {
          "text": "Score"
         }
        }
       }
      },
      "text/html": [
       "<div>                            <div id=\"417a8569-df38-4662-92eb-e032eebefe5c\" class=\"plotly-graph-div\" style=\"height:525px; width:100%;\"></div>            <script type=\"text/javascript\">                require([\"plotly\"], function(Plotly) {                    window.PLOTLYENV=window.PLOTLYENV || {};                                    if (document.getElementById(\"417a8569-df38-4662-92eb-e032eebefe5c\")) {                    Plotly.newPlot(                        \"417a8569-df38-4662-92eb-e032eebefe5c\",                        [{\"alignmentgroup\": \"True\", \"customdata\": [[7.769], [7.6], [7.553999999999999], [7.494], [7.4879999999999995], [7.48], [7.343], [7.307], [7.278], [7.246], [7.228], [7.167000000000001], [7.138999999999999], [7.09], [7.053999999999999], [7.021], [6.985], [6.922999999999999], [6.892], [6.852], [6.825], [6.726], [6.595], [6.5920000000000005], [6.446000000000001], [6.444], [6.436], [6.375], [6.374], [6.354], [6.321000000000001], [6.3], [6.292999999999999], [6.2620000000000005], [6.252999999999999], [6.223], [6.199], [6.1979999999999995], [6.192], [6.182], [6.1739999999999995], [6.149], [6.125], [6.117999999999999], [6.105], [6.1], [6.086], [6.07], [6.046], [6.028], [6.021], [6.007999999999999], [5.94], [5.895], [5.893], [5.89], [5.888], [5.886], [5.86], [5.809], [5.779], [5.757999999999999], [5.742999999999999], [5.718], [5.697], [5.693], [5.653], [5.648], [5.631], [5.603], [5.529], [5.525], [5.523], [5.4670000000000005], [5.432], [5.43], [5.425], [5.386], [5.372999999999999], [5.3389999999999995], [5.3229999999999995], [5.287000000000001], [5.285], [5.274], [5.265], [5.261], [5.247000000000001], [5.211], [5.207999999999999], [5.207999999999999], [5.197], [5.192], [5.191], [5.175], [5.082], [5.044], [5.011], [4.996], [4.944], [4.913], [4.906000000000001], [4.883], [4.812], [4.7989999999999995], [4.796], [4.7219999999999995], [4.718999999999999], [4.707], [4.7], [4.696000000000001], [4.681], [4.668], [4.638999999999999], [4.628], [4.587], [4.559], [4.548], [4.534], [4.519], [4.516], [4.5089999999999995], [4.49], [4.466], [4.461], [4.456], [4.437], [4.418], [4.39], [4.374], [4.3660000000000005], [4.36], [4.35], [4.332], [4.2860000000000005], [4.212], [4.189], [4.166], [4.107], [4.085], [4.015], [3.975], [3.9730000000000003], [3.9330000000000003], [3.802], [3.775], [3.6630000000000003], [3.597], [3.488], [3.4619999999999997], [3.41], [3.38], [3.3339999999999996], [3.2310000000000003], [3.2030000000000003], [3.083], [2.853]], \"hovertemplate\": \"Country=%{x}<br>Score=%{marker.color}<extra></extra>\", \"legendgroup\": \"\", \"marker\": {\"color\": [7.769, 7.6, 7.553999999999999, 7.494, 7.4879999999999995, 7.48, 7.343, 7.307, 7.278, 7.246, 7.228, 7.167000000000001, 7.138999999999999, 7.09, 7.053999999999999, 7.021, 6.985, 6.922999999999999, 6.892, 6.852, 6.825, 6.726, 6.595, 6.5920000000000005, 6.446000000000001, 6.444, 6.436, 6.375, 6.374, 6.354, 6.321000000000001, 6.3, 6.292999999999999, 6.2620000000000005, 6.252999999999999, 6.223, 6.199, 6.1979999999999995, 6.192, 6.182, 6.1739999999999995, 6.149, 6.125, 6.117999999999999, 6.105, 6.1, 6.086, 6.07, 6.046, 6.028, 6.021, 6.007999999999999, 5.94, 5.895, 5.893, 5.89, 5.888, 5.886, 5.86, 5.809, 5.779, 5.757999999999999, 5.742999999999999, 5.718, 5.697, 5.693, 5.653, 5.648, 5.631, 5.603, 5.529, 5.525, 5.523, 5.4670000000000005, 5.432, 5.43, 5.425, 5.386, 5.372999999999999, 5.3389999999999995, 5.3229999999999995, 5.287000000000001, 5.285, 5.274, 5.265, 5.261, 5.247000000000001, 5.211, 5.207999999999999, 5.207999999999999, 5.197, 5.192, 5.191, 5.175, 5.082, 5.044, 5.011, 4.996, 4.944, 4.913, 4.906000000000001, 4.883, 4.812, 4.7989999999999995, 4.796, 4.7219999999999995, 4.718999999999999, 4.707, 4.7, 4.696000000000001, 4.681, 4.668, 4.638999999999999, 4.628, 4.587, 4.559, 4.548, 4.534, 4.519, 4.516, 4.5089999999999995, 4.49, 4.466, 4.461, 4.456, 4.437, 4.418, 4.39, 4.374, 4.3660000000000005, 4.36, 4.35, 4.332, 4.2860000000000005, 4.212, 4.189, 4.166, 4.107, 4.085, 4.015, 3.975, 3.9730000000000003, 3.9330000000000003, 3.802, 3.775, 3.6630000000000003, 3.597, 3.488, 3.4619999999999997, 3.41, 3.38, 3.3339999999999996, 3.2310000000000003, 3.2030000000000003, 3.083, 2.853], \"coloraxis\": \"coloraxis\"}, \"name\": \"\", \"offsetgroup\": \"\", \"orientation\": \"v\", \"showlegend\": false, \"textposition\": \"auto\", \"type\": \"bar\", \"x\": [\"Finland\", \"Denmark\", \"Norway\", \"Iceland\", \"Netherlands\", \"Switzerland\", \"Sweden\", \"New Zealand\", \"Canada\", \"Austria\", \"Australia\", \"Costa Rica\", \"Israel\", \"Luxembourg\", \"United Kingdom\", \"Ireland\", \"Germany\", \"Belgium\", \"United States\", \"Czech Republic\", \"United Arab Emirates\", \"Malta\", \"Mexico\", \"France\", \"Taiwan\", \"Chile\", \"Guatemala\", \"Saudi Arabia\", \"Qatar\", \"Spain\", \"Panama\", \"Brazil\", \"Uruguay\", \"Singapore\", \"El Salvador\", \"Italy\", \"Bahrain\", \"Slovakia\", \"Trinidad & Tobago\", \"Poland\", \"Uzbekistan\", \"Lithuania\", \"Colombia\", \"Slovenia\", \"Nicaragua\", \"Kosovo\", \"Argentina\", \"Romania\", \"Cyprus\", \"Ecuador\", \"Kuwait\", \"Thailand\", \"Latvia\", \"South Korea\", \"Estonia\", \"Jamaica\", \"Mauritius\", \"Japan\", \"Honduras\", \"Kazakhstan\", \"Bolivia\", \"Hungary\", \"Paraguay\", \"Northern Cyprus\", \"Peru\", \"Portugal\", \"Pakistan\", \"Russia\", \"Philippines\", \"Serbia\", \"Moldova\", \"Libya\", \"Montenegro\", \"Tajikistan\", \"Croatia\", \"Hong Kong\", \"Dominican Republic\", \"Bosnia and Herzegovina\", \"Turkey\", \"Malaysia\", \"Belarus\", \"Greece\", \"Mongolia\", \"North Macedonia\", \"Nigeria\", \"Kyrgyzstan\", \"Turkmenistan\", \"Algeria\", \"Morocco\", \"Azerbaijan\", \"Lebanon\", \"Indonesia\", \"China\", \"Vietnam\", \"Bhutan\", \"Cameroon\", \"Bulgaria\", \"Ghana\", \"Ivory Coast\", \"Nepal\", \"Jordan\", \"Benin\", \"Congo (Brazzaville)\", \"Gabon\", \"Laos\", \"South Africa\", \"Albania\", \"Venezuela\", \"Cambodia\", \"Palestinian Territories\", \"Senegal\", \"Somalia\", \"Namibia\", \"Niger\", \"Burkina Faso\", \"Armenia\", \"Iran\", \"Guinea\", \"Georgia\", \"Gambia\", \"Kenya\", \"Mauritania\", \"Mozambique\", \"Tunisia\", \"Bangladesh\", \"Iraq\", \"Congo (Kinshasa)\", \"Mali\", \"Sierra Leone\", \"Sri Lanka\", \"Myanmar\", \"Chad\", \"Ukraine\", \"Ethiopia\", \"Swaziland\", \"Uganda\", \"Egypt\", \"Zambia\", \"Togo\", \"India\", \"Liberia\", \"Comoros\", \"Madagascar\", \"Lesotho\", \"Burundi\", \"Zimbabwe\", \"Haiti\", \"Botswana\", \"Syria\", \"Malawi\", \"Yemen\", \"Rwanda\", \"Tanzania\", \"Afghanistan\", \"Central African Republic\", \"South Sudan\"], \"xaxis\": \"x\", \"y\": [7.769, 7.6, 7.553999999999999, 7.494, 7.4879999999999995, 7.48, 7.343, 7.307, 7.278, 7.246, 7.228, 7.167000000000001, 7.138999999999999, 7.09, 7.053999999999999, 7.021, 6.985, 6.922999999999999, 6.892, 6.852, 6.825, 6.726, 6.595, 6.5920000000000005, 6.446000000000001, 6.444, 6.436, 6.375, 6.374, 6.354, 6.321000000000001, 6.3, 6.292999999999999, 6.2620000000000005, 6.252999999999999, 6.223, 6.199, 6.1979999999999995, 6.192, 6.182, 6.1739999999999995, 6.149, 6.125, 6.117999999999999, 6.105, 6.1, 6.086, 6.07, 6.046, 6.028, 6.021, 6.007999999999999, 5.94, 5.895, 5.893, 5.89, 5.888, 5.886, 5.86, 5.809, 5.779, 5.757999999999999, 5.742999999999999, 5.718, 5.697, 5.693, 5.653, 5.648, 5.631, 5.603, 5.529, 5.525, 5.523, 5.4670000000000005, 5.432, 5.43, 5.425, 5.386, 5.372999999999999, 5.3389999999999995, 5.3229999999999995, 5.287000000000001, 5.285, 5.274, 5.265, 5.261, 5.247000000000001, 5.211, 5.207999999999999, 5.207999999999999, 5.197, 5.192, 5.191, 5.175, 5.082, 5.044, 5.011, 4.996, 4.944, 4.913, 4.906000000000001, 4.883, 4.812, 4.7989999999999995, 4.796, 4.7219999999999995, 4.718999999999999, 4.707, 4.7, 4.696000000000001, 4.681, 4.668, 4.638999999999999, 4.628, 4.587, 4.559, 4.548, 4.534, 4.519, 4.516, 4.5089999999999995, 4.49, 4.466, 4.461, 4.456, 4.437, 4.418, 4.39, 4.374, 4.3660000000000005, 4.36, 4.35, 4.332, 4.2860000000000005, 4.212, 4.189, 4.166, 4.107, 4.085, 4.015, 3.975, 3.9730000000000003, 3.9330000000000003, 3.802, 3.775, 3.6630000000000003, 3.597, 3.488, 3.4619999999999997, 3.41, 3.38, 3.3339999999999996, 3.2310000000000003, 3.2030000000000003, 3.083, 2.853], \"yaxis\": \"y\"}],                        {\"barmode\": \"stack\", \"coloraxis\": {\"colorbar\": {\"title\": {\"text\": \"Score\"}}, \"colorscale\": [[0.0, \"#0d0887\"], [0.1111111111111111, \"#46039f\"], [0.2222222222222222, \"#7201a8\"], [0.3333333333333333, \"#9c179e\"], [0.4444444444444444, \"#bd3786\"], [0.5555555555555556, \"#d8576b\"], [0.6666666666666666, \"#ed7953\"], [0.7777777777777778, \"#fb9f3a\"], [0.8888888888888888, \"#fdca26\"], [1.0, \"#f0f921\"]]}, \"legend\": {\"tracegroupgap\": 0}, \"margin\": {\"t\": 60}, \"template\": {\"data\": {\"bar\": [{\"error_x\": {\"color\": \"#2a3f5f\"}, \"error_y\": {\"color\": \"#2a3f5f\"}, \"marker\": {\"line\": {\"color\": \"#E5ECF6\", \"width\": 0.5}}, \"type\": \"bar\"}], \"barpolar\": [{\"marker\": {\"line\": {\"color\": \"#E5ECF6\", \"width\": 0.5}}, \"type\": \"barpolar\"}], \"carpet\": [{\"aaxis\": {\"endlinecolor\": \"#2a3f5f\", \"gridcolor\": \"white\", \"linecolor\": \"white\", \"minorgridcolor\": \"white\", \"startlinecolor\": \"#2a3f5f\"}, \"baxis\": {\"endlinecolor\": \"#2a3f5f\", \"gridcolor\": \"white\", \"linecolor\": \"white\", \"minorgridcolor\": \"white\", \"startlinecolor\": \"#2a3f5f\"}, \"type\": \"carpet\"}], \"choropleth\": [{\"colorbar\": {\"outlinewidth\": 0, \"ticks\": \"\"}, \"type\": \"choropleth\"}], \"contour\": [{\"colorbar\": {\"outlinewidth\": 0, \"ticks\": \"\"}, \"colorscale\": [[0.0, \"#0d0887\"], [0.1111111111111111, \"#46039f\"], [0.2222222222222222, \"#7201a8\"], [0.3333333333333333, \"#9c179e\"], [0.4444444444444444, \"#bd3786\"], [0.5555555555555556, \"#d8576b\"], [0.6666666666666666, \"#ed7953\"], [0.7777777777777778, \"#fb9f3a\"], [0.8888888888888888, \"#fdca26\"], [1.0, \"#f0f921\"]], \"type\": \"contour\"}], \"contourcarpet\": [{\"colorbar\": {\"outlinewidth\": 0, \"ticks\": \"\"}, \"type\": \"contourcarpet\"}], \"heatmap\": [{\"colorbar\": {\"outlinewidth\": 0, \"ticks\": \"\"}, \"colorscale\": [[0.0, \"#0d0887\"], [0.1111111111111111, \"#46039f\"], [0.2222222222222222, \"#7201a8\"], [0.3333333333333333, \"#9c179e\"], [0.4444444444444444, \"#bd3786\"], [0.5555555555555556, \"#d8576b\"], [0.6666666666666666, \"#ed7953\"], [0.7777777777777778, \"#fb9f3a\"], [0.8888888888888888, \"#fdca26\"], [1.0, \"#f0f921\"]], \"type\": \"heatmap\"}], \"heatmapgl\": [{\"colorbar\": {\"outlinewidth\": 0, \"ticks\": \"\"}, \"colorscale\": [[0.0, \"#0d0887\"], [0.1111111111111111, \"#46039f\"], [0.2222222222222222, \"#7201a8\"], [0.3333333333333333, \"#9c179e\"], [0.4444444444444444, \"#bd3786\"], [0.5555555555555556, \"#d8576b\"], [0.6666666666666666, \"#ed7953\"], [0.7777777777777778, \"#fb9f3a\"], [0.8888888888888888, \"#fdca26\"], [1.0, \"#f0f921\"]], \"type\": \"heatmapgl\"}], \"histogram\": [{\"marker\": {\"colorbar\": {\"outlinewidth\": 0, \"ticks\": \"\"}}, \"type\": \"histogram\"}], \"histogram2d\": [{\"colorbar\": {\"outlinewidth\": 0, \"ticks\": \"\"}, \"colorscale\": [[0.0, \"#0d0887\"], [0.1111111111111111, \"#46039f\"], [0.2222222222222222, \"#7201a8\"], [0.3333333333333333, \"#9c179e\"], [0.4444444444444444, \"#bd3786\"], [0.5555555555555556, \"#d8576b\"], [0.6666666666666666, \"#ed7953\"], [0.7777777777777778, \"#fb9f3a\"], [0.8888888888888888, \"#fdca26\"], [1.0, \"#f0f921\"]], \"type\": \"histogram2d\"}], \"histogram2dcontour\": [{\"colorbar\": {\"outlinewidth\": 0, \"ticks\": \"\"}, \"colorscale\": [[0.0, \"#0d0887\"], [0.1111111111111111, \"#46039f\"], [0.2222222222222222, \"#7201a8\"], [0.3333333333333333, \"#9c179e\"], [0.4444444444444444, \"#bd3786\"], [0.5555555555555556, \"#d8576b\"], [0.6666666666666666, \"#ed7953\"], [0.7777777777777778, \"#fb9f3a\"], [0.8888888888888888, \"#fdca26\"], [1.0, \"#f0f921\"]], \"type\": \"histogram2dcontour\"}], \"mesh3d\": [{\"colorbar\": {\"outlinewidth\": 0, \"ticks\": \"\"}, \"type\": \"mesh3d\"}], \"parcoords\": [{\"line\": {\"colorbar\": {\"outlinewidth\": 0, \"ticks\": \"\"}}, \"type\": \"parcoords\"}], \"pie\": [{\"automargin\": true, \"type\": \"pie\"}], \"scatter\": [{\"marker\": {\"colorbar\": {\"outlinewidth\": 0, \"ticks\": \"\"}}, \"type\": \"scatter\"}], \"scatter3d\": [{\"line\": {\"colorbar\": {\"outlinewidth\": 0, \"ticks\": \"\"}}, \"marker\": {\"colorbar\": {\"outlinewidth\": 0, \"ticks\": \"\"}}, \"type\": \"scatter3d\"}], \"scattercarpet\": [{\"marker\": {\"colorbar\": {\"outlinewidth\": 0, \"ticks\": \"\"}}, \"type\": \"scattercarpet\"}], \"scattergeo\": [{\"marker\": {\"colorbar\": {\"outlinewidth\": 0, \"ticks\": \"\"}}, \"type\": \"scattergeo\"}], \"scattergl\": [{\"marker\": {\"colorbar\": {\"outlinewidth\": 0, \"ticks\": \"\"}}, \"type\": \"scattergl\"}], \"scattermapbox\": [{\"marker\": {\"colorbar\": {\"outlinewidth\": 0, \"ticks\": \"\"}}, \"type\": \"scattermapbox\"}], \"scatterpolar\": [{\"marker\": {\"colorbar\": {\"outlinewidth\": 0, \"ticks\": \"\"}}, \"type\": \"scatterpolar\"}], \"scatterpolargl\": [{\"marker\": {\"colorbar\": {\"outlinewidth\": 0, \"ticks\": \"\"}}, \"type\": \"scatterpolargl\"}], \"scatterternary\": [{\"marker\": {\"colorbar\": {\"outlinewidth\": 0, \"ticks\": \"\"}}, \"type\": \"scatterternary\"}], \"surface\": [{\"colorbar\": {\"outlinewidth\": 0, \"ticks\": \"\"}, \"colorscale\": [[0.0, \"#0d0887\"], [0.1111111111111111, \"#46039f\"], [0.2222222222222222, \"#7201a8\"], [0.3333333333333333, \"#9c179e\"], [0.4444444444444444, \"#bd3786\"], [0.5555555555555556, \"#d8576b\"], [0.6666666666666666, \"#ed7953\"], [0.7777777777777778, \"#fb9f3a\"], [0.8888888888888888, \"#fdca26\"], [1.0, \"#f0f921\"]], \"type\": \"surface\"}], \"table\": [{\"cells\": {\"fill\": {\"color\": \"#EBF0F8\"}, \"line\": {\"color\": \"white\"}}, \"header\": {\"fill\": {\"color\": \"#C8D4E3\"}, \"line\": {\"color\": \"white\"}}, \"type\": \"table\"}]}, \"layout\": {\"annotationdefaults\": {\"arrowcolor\": \"#2a3f5f\", \"arrowhead\": 0, \"arrowwidth\": 1}, \"autotypenumbers\": \"strict\", \"coloraxis\": {\"colorbar\": {\"outlinewidth\": 0, \"ticks\": \"\"}}, \"colorscale\": {\"diverging\": [[0, \"#8e0152\"], [0.1, \"#c51b7d\"], [0.2, \"#de77ae\"], [0.3, \"#f1b6da\"], [0.4, \"#fde0ef\"], [0.5, \"#f7f7f7\"], [0.6, \"#e6f5d0\"], [0.7, \"#b8e186\"], [0.8, \"#7fbc41\"], [0.9, \"#4d9221\"], [1, \"#276419\"]], \"sequential\": [[0.0, \"#0d0887\"], [0.1111111111111111, \"#46039f\"], [0.2222222222222222, \"#7201a8\"], [0.3333333333333333, \"#9c179e\"], [0.4444444444444444, \"#bd3786\"], [0.5555555555555556, \"#d8576b\"], [0.6666666666666666, \"#ed7953\"], [0.7777777777777778, \"#fb9f3a\"], [0.8888888888888888, \"#fdca26\"], [1.0, \"#f0f921\"]], \"sequentialminus\": [[0.0, \"#0d0887\"], [0.1111111111111111, \"#46039f\"], [0.2222222222222222, \"#7201a8\"], [0.3333333333333333, \"#9c179e\"], [0.4444444444444444, \"#bd3786\"], [0.5555555555555556, \"#d8576b\"], [0.6666666666666666, \"#ed7953\"], [0.7777777777777778, \"#fb9f3a\"], [0.8888888888888888, \"#fdca26\"], [1.0, \"#f0f921\"]]}, \"colorway\": [\"#636efa\", \"#EF553B\", \"#00cc96\", \"#ab63fa\", \"#FFA15A\", \"#19d3f3\", \"#FF6692\", \"#B6E880\", \"#FF97FF\", \"#FECB52\"], \"font\": {\"color\": \"#2a3f5f\"}, \"geo\": {\"bgcolor\": \"white\", \"lakecolor\": \"white\", \"landcolor\": \"#E5ECF6\", \"showlakes\": true, \"showland\": true, \"subunitcolor\": \"white\"}, \"hoverlabel\": {\"align\": \"left\"}, \"hovermode\": \"closest\", \"mapbox\": {\"style\": \"light\"}, \"paper_bgcolor\": \"white\", \"plot_bgcolor\": \"#E5ECF6\", \"polar\": {\"angularaxis\": {\"gridcolor\": \"white\", \"linecolor\": \"white\", \"ticks\": \"\"}, \"bgcolor\": \"#E5ECF6\", \"radialaxis\": {\"gridcolor\": \"white\", \"linecolor\": \"white\", \"ticks\": \"\"}}, \"scene\": {\"xaxis\": {\"backgroundcolor\": \"#E5ECF6\", \"gridcolor\": \"white\", \"gridwidth\": 2, \"linecolor\": \"white\", \"showbackground\": true, \"ticks\": \"\", \"zerolinecolor\": \"white\"}, \"yaxis\": {\"backgroundcolor\": \"#E5ECF6\", \"gridcolor\": \"white\", \"gridwidth\": 2, \"linecolor\": \"white\", \"showbackground\": true, \"ticks\": \"\", \"zerolinecolor\": \"white\"}, \"zaxis\": {\"backgroundcolor\": \"#E5ECF6\", \"gridcolor\": \"white\", \"gridwidth\": 2, \"linecolor\": \"white\", \"showbackground\": true, \"ticks\": \"\", \"zerolinecolor\": \"white\"}}, \"shapedefaults\": {\"line\": {\"color\": \"#2a3f5f\"}}, \"ternary\": {\"aaxis\": {\"gridcolor\": \"white\", \"linecolor\": \"white\", \"ticks\": \"\"}, \"baxis\": {\"gridcolor\": \"white\", \"linecolor\": \"white\", \"ticks\": \"\"}, \"bgcolor\": \"#E5ECF6\", \"caxis\": {\"gridcolor\": \"white\", \"linecolor\": \"white\", \"ticks\": \"\"}}, \"title\": {\"x\": 0.05}, \"xaxis\": {\"automargin\": true, \"gridcolor\": \"white\", \"linecolor\": \"white\", \"ticks\": \"\", \"title\": {\"standoff\": 15}, \"zerolinecolor\": \"white\", \"zerolinewidth\": 2}, \"yaxis\": {\"automargin\": true, \"gridcolor\": \"white\", \"linecolor\": \"white\", \"ticks\": \"\", \"title\": {\"standoff\": 15}, \"zerolinecolor\": \"white\", \"zerolinewidth\": 2}}}, \"xaxis\": {\"anchor\": \"y\", \"domain\": [0.0, 1.0], \"title\": {\"text\": \"Country\"}}, \"yaxis\": {\"anchor\": \"x\", \"domain\": [0.0, 1.0], \"title\": {\"text\": \"Score\"}}},                        {\"responsive\": true}                    ).then(function(){\n",
       "                            \n",
       "var gd = document.getElementById('417a8569-df38-4662-92eb-e032eebefe5c');\n",
       "var x = new MutationObserver(function (mutations, observer) {{\n",
       "        var display = window.getComputedStyle(gd).display;\n",
       "        if (!display || display === 'none') {{\n",
       "            console.log([gd, 'removed!']);\n",
       "            Plotly.purge(gd);\n",
       "            observer.disconnect();\n",
       "        }}\n",
       "}});\n",
       "\n",
       "// Listen for the removal of the full notebook cells\n",
       "var notebookContainer = gd.closest('#notebook-container');\n",
       "if (notebookContainer) {{\n",
       "    x.observe(notebookContainer, {childList: true});\n",
       "}}\n",
       "\n",
       "// Listen for the clearing of the current output cell\n",
       "var outputEl = gd.closest('.output');\n",
       "if (outputEl) {{\n",
       "    x.observe(outputEl, {childList: true});\n",
       "}}\n",
       "\n",
       "                        })                };                });            </script>        </div>"
      ]
     },
     "metadata": {},
     "output_type": "display_data"
    }
   ],
   "source": [
    "import plotly.express as px\n",
    " \n",
    "df = df_2019\n",
    " \n",
    "fig = px.bar(df, x=\"Country\", y=\"Score\", color=\"Score\",\n",
    "            hover_data=['Score'], barmode = 'stack')\n",
    " \n",
    "fig.show()"
   ]
  },
  {
   "cell_type": "code",
   "execution_count": null,
   "metadata": {},
   "outputs": [],
   "source": []
  },
  {
   "cell_type": "code",
   "execution_count": null,
   "metadata": {},
   "outputs": [],
   "source": []
  }
 ],
 "metadata": {
  "kernelspec": {
   "display_name": "PythonData",
   "language": "python",
   "name": "pythondata"
  },
  "language_info": {
   "codemirror_mode": {
    "name": "ipython",
    "version": 3
   },
   "file_extension": ".py",
   "mimetype": "text/x-python",
   "name": "python",
   "nbconvert_exporter": "python",
   "pygments_lexer": "ipython3",
   "version": "3.8.5"
  }
 },
 "nbformat": 4,
 "nbformat_minor": 4
}
